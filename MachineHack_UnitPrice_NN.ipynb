{
  "nbformat": 4,
  "nbformat_minor": 0,
  "metadata": {
    "accelerator": "GPU",
    "colab": {
      "name": "MachineHack_UnitPrice_NN.ipynb",
      "provenance": [],
      "authorship_tag": "ABX9TyPrEYou26hE5Q6MScZFVsKv",
      "include_colab_link": true
    },
    "kernelspec": {
      "display_name": "Python 3",
      "name": "python3"
    }
  },
  "cells": [
    {
      "cell_type": "markdown",
      "metadata": {
        "id": "view-in-github",
        "colab_type": "text"
      },
      "source": [
        "<a href=\"https://colab.research.google.com/github/RUDHRAMURTHI/My-codes/blob/master/MachineHack_UnitPrice_NN.ipynb\" target=\"_parent\"><img src=\"https://colab.research.google.com/assets/colab-badge.svg\" alt=\"Open In Colab\"/></a>"
      ]
    },
    {
      "cell_type": "code",
      "metadata": {
        "id": "2-d9kHu_Z6we"
      },
      "source": [
        "import tensorflow as tf\n",
        "from tensorflow.keras.optimizers import RMSprop, Adam\n",
        "import pandas as pd\n",
        "import numpy as np\n",
        "import matplotlib.pyplot as plt\n",
        "%matplotlib inline\n",
        "import seaborn as sns\n",
        "import os\n",
        "from tensorflow import keras\n",
        "from tensorflow.keras import layers\n",
        "from sklearn.model_selection import train_test_split"
      ],
      "execution_count": null,
      "outputs": []
    },
    {
      "cell_type": "code",
      "metadata": {
        "id": "I77Ud_UZc_Ij",
        "outputId": "abbc4f6b-0d99-45e3-b2cc-44c32a2a1af2",
        "colab": {
          "base_uri": "https://localhost:8080/",
          "height": 35
        }
      },
      "source": [
        "os.getcwd()"
      ],
      "execution_count": null,
      "outputs": [
        {
          "output_type": "execute_result",
          "data": {
            "application/vnd.google.colaboratory.intrinsic+json": {
              "type": "string"
            },
            "text/plain": [
              "'/content'"
            ]
          },
          "metadata": {
            "tags": []
          },
          "execution_count": 2
        }
      ]
    },
    {
      "cell_type": "code",
      "metadata": {
        "id": "RqylgZVddB98",
        "outputId": "bef22ab7-a632-4906-d613-4c061356ec00",
        "colab": {
          "base_uri": "https://localhost:8080/"
        }
      },
      "source": [
        "os.listdir()"
      ],
      "execution_count": null,
      "outputs": [
        {
          "output_type": "execute_result",
          "data": {
            "text/plain": [
              "['.config', 'test_cleaned.csv', 'train_cleaned.csv', 'sample_data']"
            ]
          },
          "metadata": {
            "tags": []
          },
          "execution_count": 3
        }
      ]
    },
    {
      "cell_type": "code",
      "metadata": {
        "id": "HDjh2M1udDN1"
      },
      "source": [
        "data_train = pd.read_csv('train_cleaned.csv')"
      ],
      "execution_count": null,
      "outputs": []
    },
    {
      "cell_type": "code",
      "metadata": {
        "id": "JFprAhxPdEtF"
      },
      "source": [
        "data_test = pd.read_csv('test_cleaned.csv')"
      ],
      "execution_count": null,
      "outputs": []
    },
    {
      "cell_type": "code",
      "metadata": {
        "id": "YFowBf1EdGLj",
        "outputId": "09391536-b94d-4a40-f0d0-b2ea8b14358b",
        "colab": {
          "base_uri": "https://localhost:8080/",
          "height": 215
        }
      },
      "source": [
        "data_train.head()"
      ],
      "execution_count": null,
      "outputs": [
        {
          "output_type": "execute_result",
          "data": {
            "text/html": [
              "<div>\n",
              "<style scoped>\n",
              "    .dataframe tbody tr th:only-of-type {\n",
              "        vertical-align: middle;\n",
              "    }\n",
              "\n",
              "    .dataframe tbody tr th {\n",
              "        vertical-align: top;\n",
              "    }\n",
              "\n",
              "    .dataframe thead th {\n",
              "        text-align: right;\n",
              "    }\n",
              "</style>\n",
              "<table border=\"1\" class=\"dataframe\">\n",
              "  <thead>\n",
              "    <tr style=\"text-align: right;\">\n",
              "      <th></th>\n",
              "      <th>InvoiceNo</th>\n",
              "      <th>StockCode</th>\n",
              "      <th>Description</th>\n",
              "      <th>Quantity</th>\n",
              "      <th>UnitPrice</th>\n",
              "      <th>CustomerID</th>\n",
              "      <th>Country</th>\n",
              "      <th>InvoiceDate_Month</th>\n",
              "      <th>InvoiceDate_Day</th>\n",
              "      <th>InvoiceDate_hour</th>\n",
              "      <th>InvoiceDate_week</th>\n",
              "      <th>InvoiceDate_weekday</th>\n",
              "    </tr>\n",
              "  </thead>\n",
              "  <tbody>\n",
              "    <tr>\n",
              "      <th>0</th>\n",
              "      <td>6141</td>\n",
              "      <td>1583</td>\n",
              "      <td>144</td>\n",
              "      <td>3</td>\n",
              "      <td>3.75</td>\n",
              "      <td>14056.0</td>\n",
              "      <td>35</td>\n",
              "      <td>5</td>\n",
              "      <td>6</td>\n",
              "      <td>16</td>\n",
              "      <td>18</td>\n",
              "      <td>4</td>\n",
              "    </tr>\n",
              "    <tr>\n",
              "      <th>1</th>\n",
              "      <td>6349</td>\n",
              "      <td>1300</td>\n",
              "      <td>3682</td>\n",
              "      <td>6</td>\n",
              "      <td>1.95</td>\n",
              "      <td>13098.0</td>\n",
              "      <td>35</td>\n",
              "      <td>5</td>\n",
              "      <td>11</td>\n",
              "      <td>7</td>\n",
              "      <td>19</td>\n",
              "      <td>2</td>\n",
              "    </tr>\n",
              "    <tr>\n",
              "      <th>2</th>\n",
              "      <td>16783</td>\n",
              "      <td>2178</td>\n",
              "      <td>1939</td>\n",
              "      <td>4</td>\n",
              "      <td>5.95</td>\n",
              "      <td>15044.0</td>\n",
              "      <td>35</td>\n",
              "      <td>11</td>\n",
              "      <td>20</td>\n",
              "      <td>13</td>\n",
              "      <td>46</td>\n",
              "      <td>6</td>\n",
              "    </tr>\n",
              "    <tr>\n",
              "      <th>3</th>\n",
              "      <td>16971</td>\n",
              "      <td>2115</td>\n",
              "      <td>2983</td>\n",
              "      <td>1</td>\n",
              "      <td>0.83</td>\n",
              "      <td>15525.0</td>\n",
              "      <td>35</td>\n",
              "      <td>11</td>\n",
              "      <td>22</td>\n",
              "      <td>12</td>\n",
              "      <td>47</td>\n",
              "      <td>1</td>\n",
              "    </tr>\n",
              "    <tr>\n",
              "      <th>4</th>\n",
              "      <td>6080</td>\n",
              "      <td>1210</td>\n",
              "      <td>2886</td>\n",
              "      <td>12</td>\n",
              "      <td>1.65</td>\n",
              "      <td>13952.0</td>\n",
              "      <td>35</td>\n",
              "      <td>5</td>\n",
              "      <td>6</td>\n",
              "      <td>9</td>\n",
              "      <td>18</td>\n",
              "      <td>4</td>\n",
              "    </tr>\n",
              "  </tbody>\n",
              "</table>\n",
              "</div>"
            ],
            "text/plain": [
              "   InvoiceNo  StockCode  ...  InvoiceDate_week  InvoiceDate_weekday\n",
              "0       6141       1583  ...                18                    4\n",
              "1       6349       1300  ...                19                    2\n",
              "2      16783       2178  ...                46                    6\n",
              "3      16971       2115  ...                47                    1\n",
              "4       6080       1210  ...                18                    4\n",
              "\n",
              "[5 rows x 12 columns]"
            ]
          },
          "metadata": {
            "tags": []
          },
          "execution_count": 6
        }
      ]
    },
    {
      "cell_type": "code",
      "metadata": {
        "id": "_bXqfSWXdHZN",
        "outputId": "2dff764b-bbc7-4e9f-ba61-fa3d4cb2fd2d",
        "colab": {
          "base_uri": "https://localhost:8080/",
          "height": 215
        }
      },
      "source": [
        "data_test.head()"
      ],
      "execution_count": null,
      "outputs": [
        {
          "output_type": "execute_result",
          "data": {
            "text/html": [
              "<div>\n",
              "<style scoped>\n",
              "    .dataframe tbody tr th:only-of-type {\n",
              "        vertical-align: middle;\n",
              "    }\n",
              "\n",
              "    .dataframe tbody tr th {\n",
              "        vertical-align: top;\n",
              "    }\n",
              "\n",
              "    .dataframe thead th {\n",
              "        text-align: right;\n",
              "    }\n",
              "</style>\n",
              "<table border=\"1\" class=\"dataframe\">\n",
              "  <thead>\n",
              "    <tr style=\"text-align: right;\">\n",
              "      <th></th>\n",
              "      <th>InvoiceNo</th>\n",
              "      <th>StockCode</th>\n",
              "      <th>Description</th>\n",
              "      <th>Quantity</th>\n",
              "      <th>CustomerID</th>\n",
              "      <th>Country</th>\n",
              "      <th>InvoiceDate_Month</th>\n",
              "      <th>InvoiceDate_Day</th>\n",
              "      <th>InvoiceDate_hour</th>\n",
              "      <th>InvoiceDate_week</th>\n",
              "      <th>InvoiceDate_weekday</th>\n",
              "    </tr>\n",
              "  </thead>\n",
              "  <tbody>\n",
              "    <tr>\n",
              "      <th>0</th>\n",
              "      <td>3139</td>\n",
              "      <td>1709</td>\n",
              "      <td>1079</td>\n",
              "      <td>3</td>\n",
              "      <td>16161.0</td>\n",
              "      <td>35</td>\n",
              "      <td>2</td>\n",
              "      <td>22</td>\n",
              "      <td>15</td>\n",
              "      <td>8</td>\n",
              "      <td>1</td>\n",
              "    </tr>\n",
              "    <tr>\n",
              "      <th>1</th>\n",
              "      <td>617</td>\n",
              "      <td>510</td>\n",
              "      <td>3457</td>\n",
              "      <td>1</td>\n",
              "      <td>17341.0</td>\n",
              "      <td>35</td>\n",
              "      <td>12</td>\n",
              "      <td>8</td>\n",
              "      <td>12</td>\n",
              "      <td>49</td>\n",
              "      <td>2</td>\n",
              "    </tr>\n",
              "    <tr>\n",
              "      <th>2</th>\n",
              "      <td>14653</td>\n",
              "      <td>604</td>\n",
              "      <td>694</td>\n",
              "      <td>36</td>\n",
              "      <td>15158.0</td>\n",
              "      <td>35</td>\n",
              "      <td>10</td>\n",
              "      <td>25</td>\n",
              "      <td>13</td>\n",
              "      <td>43</td>\n",
              "      <td>1</td>\n",
              "    </tr>\n",
              "    <tr>\n",
              "      <th>3</th>\n",
              "      <td>8634</td>\n",
              "      <td>1478</td>\n",
              "      <td>3473</td>\n",
              "      <td>2</td>\n",
              "      <td>16033.0</td>\n",
              "      <td>35</td>\n",
              "      <td>6</td>\n",
              "      <td>27</td>\n",
              "      <td>12</td>\n",
              "      <td>26</td>\n",
              "      <td>0</td>\n",
              "    </tr>\n",
              "    <tr>\n",
              "      <th>4</th>\n",
              "      <td>15546</td>\n",
              "      <td>3216</td>\n",
              "      <td>871</td>\n",
              "      <td>1</td>\n",
              "      <td>15351.0</td>\n",
              "      <td>35</td>\n",
              "      <td>11</td>\n",
              "      <td>6</td>\n",
              "      <td>16</td>\n",
              "      <td>44</td>\n",
              "      <td>6</td>\n",
              "    </tr>\n",
              "  </tbody>\n",
              "</table>\n",
              "</div>"
            ],
            "text/plain": [
              "   InvoiceNo  StockCode  ...  InvoiceDate_week  InvoiceDate_weekday\n",
              "0       3139       1709  ...                 8                    1\n",
              "1        617        510  ...                49                    2\n",
              "2      14653        604  ...                43                    1\n",
              "3       8634       1478  ...                26                    0\n",
              "4      15546       3216  ...                44                    6\n",
              "\n",
              "[5 rows x 11 columns]"
            ]
          },
          "metadata": {
            "tags": []
          },
          "execution_count": 7
        }
      ]
    },
    {
      "cell_type": "code",
      "metadata": {
        "id": "idemSO6_dIwY"
      },
      "source": [
        "X = data_train.drop([\"UnitPrice\"],axis=1)"
      ],
      "execution_count": null,
      "outputs": []
    },
    {
      "cell_type": "code",
      "metadata": {
        "id": "z_whH9qDdK4r"
      },
      "source": [
        "X = pd.get_dummies(X)"
      ],
      "execution_count": null,
      "outputs": []
    },
    {
      "cell_type": "code",
      "metadata": {
        "id": "pMxn7ygvue2m",
        "outputId": "0c6f1fbb-37cd-4cbf-8998-0ac85d8ebca2",
        "colab": {
          "base_uri": "https://localhost:8080/"
        }
      },
      "source": [
        "columns = X.columns.to_list()\n",
        "columns"
      ],
      "execution_count": null,
      "outputs": [
        {
          "output_type": "execute_result",
          "data": {
            "text/plain": [
              "['InvoiceNo',\n",
              " 'StockCode',\n",
              " 'Description',\n",
              " 'Quantity',\n",
              " 'CustomerID',\n",
              " 'Country',\n",
              " 'InvoiceDate_Month',\n",
              " 'InvoiceDate_Day',\n",
              " 'InvoiceDate_hour',\n",
              " 'InvoiceDate_week',\n",
              " 'InvoiceDate_weekday']"
            ]
          },
          "metadata": {
            "tags": []
          },
          "execution_count": 10
        }
      ]
    },
    {
      "cell_type": "code",
      "metadata": {
        "id": "YSQWGIVadM-A"
      },
      "source": [
        "y = data_train[\"UnitPrice\"]"
      ],
      "execution_count": null,
      "outputs": []
    },
    {
      "cell_type": "code",
      "metadata": {
        "id": "UrvBTxWzdPMV"
      },
      "source": [
        "X_sub = data_test"
      ],
      "execution_count": null,
      "outputs": []
    },
    {
      "cell_type": "code",
      "metadata": {
        "id": "FXnKxG2BdSyp"
      },
      "source": [
        "X_sub = pd.get_dummies(X_sub)"
      ],
      "execution_count": null,
      "outputs": []
    },
    {
      "cell_type": "code",
      "metadata": {
        "id": "8C5iSoBXdUs5",
        "outputId": "818fe83f-4ddd-47f3-d9a0-844f1ee8f3f9",
        "colab": {
          "base_uri": "https://localhost:8080/"
        }
      },
      "source": [
        "X.shape"
      ],
      "execution_count": null,
      "outputs": [
        {
          "output_type": "execute_result",
          "data": {
            "text/plain": [
              "(284773, 11)"
            ]
          },
          "metadata": {
            "tags": []
          },
          "execution_count": 14
        }
      ]
    },
    {
      "cell_type": "code",
      "metadata": {
        "id": "V1kgHoxAdV97",
        "outputId": "f849a619-6d52-4582-82f5-64ea01d79db4",
        "colab": {
          "base_uri": "https://localhost:8080/"
        }
      },
      "source": [
        "X_sub.shape"
      ],
      "execution_count": null,
      "outputs": [
        {
          "output_type": "execute_result",
          "data": {
            "text/plain": [
              "(122049, 11)"
            ]
          },
          "metadata": {
            "tags": []
          },
          "execution_count": 15
        }
      ]
    },
    {
      "cell_type": "code",
      "metadata": {
        "id": "2tvUeus4dXbV",
        "outputId": "e237be8f-d6a1-4a82-8f2e-7eec165d5999",
        "colab": {
          "base_uri": "https://localhost:8080/"
        }
      },
      "source": [
        "y.shape"
      ],
      "execution_count": null,
      "outputs": [
        {
          "output_type": "execute_result",
          "data": {
            "text/plain": [
              "(284773,)"
            ]
          },
          "metadata": {
            "tags": []
          },
          "execution_count": 16
        }
      ]
    },
    {
      "cell_type": "markdown",
      "metadata": {
        "id": "c5Mm3OWPdkZJ"
      },
      "source": [
        "### Scaling the data"
      ]
    },
    {
      "cell_type": "code",
      "metadata": {
        "id": "magF7xjUdYyM"
      },
      "source": [
        "from sklearn.preprocessing import MinMaxScaler"
      ],
      "execution_count": null,
      "outputs": []
    },
    {
      "cell_type": "code",
      "metadata": {
        "id": "XOa9K-TldnwS"
      },
      "source": [
        "mm_scaler = MinMaxScaler()"
      ],
      "execution_count": null,
      "outputs": []
    },
    {
      "cell_type": "code",
      "metadata": {
        "id": "k0IqNH3ndr1O"
      },
      "source": [
        "X = mm_scaler.fit_transform(X)"
      ],
      "execution_count": null,
      "outputs": []
    },
    {
      "cell_type": "code",
      "metadata": {
        "id": "Guj23U4rdtK7"
      },
      "source": [
        "X_sub = mm_scaler.transform(X_sub)"
      ],
      "execution_count": null,
      "outputs": []
    },
    {
      "cell_type": "code",
      "metadata": {
        "id": "4XLiNUYrdwIm",
        "outputId": "31982fbb-c589-49d8-fb1d-5fcfa42e4d8f",
        "colab": {
          "base_uri": "https://localhost:8080/"
        }
      },
      "source": [
        "X.shape"
      ],
      "execution_count": null,
      "outputs": [
        {
          "output_type": "execute_result",
          "data": {
            "text/plain": [
              "(284773, 11)"
            ]
          },
          "metadata": {
            "tags": []
          },
          "execution_count": 21
        }
      ]
    },
    {
      "cell_type": "code",
      "metadata": {
        "id": "MtHe3njfdyT-",
        "outputId": "3771667c-b43e-4ceb-b9aa-c6e3262bdd89",
        "colab": {
          "base_uri": "https://localhost:8080/"
        }
      },
      "source": [
        "X_sub.shape"
      ],
      "execution_count": null,
      "outputs": [
        {
          "output_type": "execute_result",
          "data": {
            "text/plain": [
              "(122049, 11)"
            ]
          },
          "metadata": {
            "tags": []
          },
          "execution_count": 22
        }
      ]
    },
    {
      "cell_type": "code",
      "metadata": {
        "id": "BSRfJrHpuztU",
        "outputId": "ca5a6617-fa30-461d-ba32-d6713424516d",
        "colab": {
          "base_uri": "https://localhost:8080/",
          "height": 215
        }
      },
      "source": [
        "train_data = pd.DataFrame(X, columns=columns)\n",
        "train_data.head()"
      ],
      "execution_count": null,
      "outputs": [
        {
          "output_type": "execute_result",
          "data": {
            "text/html": [
              "<div>\n",
              "<style scoped>\n",
              "    .dataframe tbody tr th:only-of-type {\n",
              "        vertical-align: middle;\n",
              "    }\n",
              "\n",
              "    .dataframe tbody tr th {\n",
              "        vertical-align: top;\n",
              "    }\n",
              "\n",
              "    .dataframe thead th {\n",
              "        text-align: right;\n",
              "    }\n",
              "</style>\n",
              "<table border=\"1\" class=\"dataframe\">\n",
              "  <thead>\n",
              "    <tr style=\"text-align: right;\">\n",
              "      <th></th>\n",
              "      <th>InvoiceNo</th>\n",
              "      <th>StockCode</th>\n",
              "      <th>Description</th>\n",
              "      <th>Quantity</th>\n",
              "      <th>CustomerID</th>\n",
              "      <th>Country</th>\n",
              "      <th>InvoiceDate_Month</th>\n",
              "      <th>InvoiceDate_Day</th>\n",
              "      <th>InvoiceDate_hour</th>\n",
              "      <th>InvoiceDate_week</th>\n",
              "      <th>InvoiceDate_weekday</th>\n",
              "    </tr>\n",
              "  </thead>\n",
              "  <tbody>\n",
              "    <tr>\n",
              "      <th>0</th>\n",
              "      <td>0.276771</td>\n",
              "      <td>0.429813</td>\n",
              "      <td>0.036970</td>\n",
              "      <td>0.310273</td>\n",
              "      <td>0.287710</td>\n",
              "      <td>0.972222</td>\n",
              "      <td>0.363636</td>\n",
              "      <td>0.166667</td>\n",
              "      <td>0.714286</td>\n",
              "      <td>0.34</td>\n",
              "      <td>0.666667</td>\n",
              "    </tr>\n",
              "    <tr>\n",
              "      <th>1</th>\n",
              "      <td>0.286146</td>\n",
              "      <td>0.352973</td>\n",
              "      <td>0.945315</td>\n",
              "      <td>0.310754</td>\n",
              "      <td>0.126431</td>\n",
              "      <td>0.972222</td>\n",
              "      <td>0.363636</td>\n",
              "      <td>0.333333</td>\n",
              "      <td>0.071429</td>\n",
              "      <td>0.36</td>\n",
              "      <td>0.333333</td>\n",
              "    </tr>\n",
              "    <tr>\n",
              "      <th>2</th>\n",
              "      <td>0.756400</td>\n",
              "      <td>0.591366</td>\n",
              "      <td>0.497818</td>\n",
              "      <td>0.310433</td>\n",
              "      <td>0.454040</td>\n",
              "      <td>0.972222</td>\n",
              "      <td>0.909091</td>\n",
              "      <td>0.633333</td>\n",
              "      <td>0.500000</td>\n",
              "      <td>0.90</td>\n",
              "      <td>1.000000</td>\n",
              "    </tr>\n",
              "    <tr>\n",
              "      <th>3</th>\n",
              "      <td>0.764873</td>\n",
              "      <td>0.574260</td>\n",
              "      <td>0.765854</td>\n",
              "      <td>0.309952</td>\n",
              "      <td>0.535017</td>\n",
              "      <td>0.972222</td>\n",
              "      <td>0.909091</td>\n",
              "      <td>0.700000</td>\n",
              "      <td>0.428571</td>\n",
              "      <td>0.92</td>\n",
              "      <td>0.166667</td>\n",
              "    </tr>\n",
              "    <tr>\n",
              "      <th>4</th>\n",
              "      <td>0.274022</td>\n",
              "      <td>0.328537</td>\n",
              "      <td>0.740950</td>\n",
              "      <td>0.311717</td>\n",
              "      <td>0.270202</td>\n",
              "      <td>0.972222</td>\n",
              "      <td>0.363636</td>\n",
              "      <td>0.166667</td>\n",
              "      <td>0.214286</td>\n",
              "      <td>0.34</td>\n",
              "      <td>0.666667</td>\n",
              "    </tr>\n",
              "  </tbody>\n",
              "</table>\n",
              "</div>"
            ],
            "text/plain": [
              "   InvoiceNo  StockCode  ...  InvoiceDate_week  InvoiceDate_weekday\n",
              "0   0.276771   0.429813  ...              0.34             0.666667\n",
              "1   0.286146   0.352973  ...              0.36             0.333333\n",
              "2   0.756400   0.591366  ...              0.90             1.000000\n",
              "3   0.764873   0.574260  ...              0.92             0.166667\n",
              "4   0.274022   0.328537  ...              0.34             0.666667\n",
              "\n",
              "[5 rows x 11 columns]"
            ]
          },
          "metadata": {
            "tags": []
          },
          "execution_count": 23
        }
      ]
    },
    {
      "cell_type": "code",
      "metadata": {
        "id": "qcQ1p4q-uzwv",
        "outputId": "bd1a9a2b-513d-4209-a7ce-c7cad3623cab",
        "colab": {
          "base_uri": "https://localhost:8080/",
          "height": 215
        }
      },
      "source": [
        "pred_data = pd.DataFrame(X_sub, columns=columns)\n",
        "pred_data.head()"
      ],
      "execution_count": null,
      "outputs": [
        {
          "output_type": "execute_result",
          "data": {
            "text/html": [
              "<div>\n",
              "<style scoped>\n",
              "    .dataframe tbody tr th:only-of-type {\n",
              "        vertical-align: middle;\n",
              "    }\n",
              "\n",
              "    .dataframe tbody tr th {\n",
              "        vertical-align: top;\n",
              "    }\n",
              "\n",
              "    .dataframe thead th {\n",
              "        text-align: right;\n",
              "    }\n",
              "</style>\n",
              "<table border=\"1\" class=\"dataframe\">\n",
              "  <thead>\n",
              "    <tr style=\"text-align: right;\">\n",
              "      <th></th>\n",
              "      <th>InvoiceNo</th>\n",
              "      <th>StockCode</th>\n",
              "      <th>Description</th>\n",
              "      <th>Quantity</th>\n",
              "      <th>CustomerID</th>\n",
              "      <th>Country</th>\n",
              "      <th>InvoiceDate_Month</th>\n",
              "      <th>InvoiceDate_Day</th>\n",
              "      <th>InvoiceDate_hour</th>\n",
              "      <th>InvoiceDate_week</th>\n",
              "      <th>InvoiceDate_weekday</th>\n",
              "    </tr>\n",
              "  </thead>\n",
              "  <tbody>\n",
              "    <tr>\n",
              "      <th>0</th>\n",
              "      <td>0.141473</td>\n",
              "      <td>0.464024</td>\n",
              "      <td>0.277022</td>\n",
              "      <td>0.310273</td>\n",
              "      <td>0.642088</td>\n",
              "      <td>0.972222</td>\n",
              "      <td>0.090909</td>\n",
              "      <td>0.700000</td>\n",
              "      <td>0.642857</td>\n",
              "      <td>0.14</td>\n",
              "      <td>0.166667</td>\n",
              "    </tr>\n",
              "    <tr>\n",
              "      <th>1</th>\n",
              "      <td>0.027808</td>\n",
              "      <td>0.138474</td>\n",
              "      <td>0.887548</td>\n",
              "      <td>0.309952</td>\n",
              "      <td>0.840741</td>\n",
              "      <td>0.972222</td>\n",
              "      <td>1.000000</td>\n",
              "      <td>0.233333</td>\n",
              "      <td>0.428571</td>\n",
              "      <td>0.96</td>\n",
              "      <td>0.333333</td>\n",
              "    </tr>\n",
              "    <tr>\n",
              "      <th>2</th>\n",
              "      <td>0.660402</td>\n",
              "      <td>0.163997</td>\n",
              "      <td>0.178177</td>\n",
              "      <td>0.315570</td>\n",
              "      <td>0.473232</td>\n",
              "      <td>0.972222</td>\n",
              "      <td>0.818182</td>\n",
              "      <td>0.800000</td>\n",
              "      <td>0.500000</td>\n",
              "      <td>0.84</td>\n",
              "      <td>0.166667</td>\n",
              "    </tr>\n",
              "    <tr>\n",
              "      <th>3</th>\n",
              "      <td>0.389129</td>\n",
              "      <td>0.401303</td>\n",
              "      <td>0.891656</td>\n",
              "      <td>0.310112</td>\n",
              "      <td>0.620539</td>\n",
              "      <td>0.972222</td>\n",
              "      <td>0.454545</td>\n",
              "      <td>0.866667</td>\n",
              "      <td>0.428571</td>\n",
              "      <td>0.50</td>\n",
              "      <td>0.000000</td>\n",
              "    </tr>\n",
              "    <tr>\n",
              "      <th>4</th>\n",
              "      <td>0.700649</td>\n",
              "      <td>0.873201</td>\n",
              "      <td>0.223620</td>\n",
              "      <td>0.309952</td>\n",
              "      <td>0.505724</td>\n",
              "      <td>0.972222</td>\n",
              "      <td>0.909091</td>\n",
              "      <td>0.166667</td>\n",
              "      <td>0.714286</td>\n",
              "      <td>0.86</td>\n",
              "      <td>1.000000</td>\n",
              "    </tr>\n",
              "  </tbody>\n",
              "</table>\n",
              "</div>"
            ],
            "text/plain": [
              "   InvoiceNo  StockCode  ...  InvoiceDate_week  InvoiceDate_weekday\n",
              "0   0.141473   0.464024  ...              0.14             0.166667\n",
              "1   0.027808   0.138474  ...              0.96             0.333333\n",
              "2   0.660402   0.163997  ...              0.84             0.166667\n",
              "3   0.389129   0.401303  ...              0.50             0.000000\n",
              "4   0.700649   0.873201  ...              0.86             1.000000\n",
              "\n",
              "[5 rows x 11 columns]"
            ]
          },
          "metadata": {
            "tags": []
          },
          "execution_count": 24
        }
      ]
    },
    {
      "cell_type": "code",
      "metadata": {
        "id": "FF8Eyzaxuz07",
        "outputId": "d4f013ce-f87c-4fca-b0fc-677869649cd8",
        "colab": {
          "base_uri": "https://localhost:8080/",
          "height": 215
        }
      },
      "source": [
        "train_data['target'] = y\n",
        "train_data.head()"
      ],
      "execution_count": null,
      "outputs": [
        {
          "output_type": "execute_result",
          "data": {
            "text/html": [
              "<div>\n",
              "<style scoped>\n",
              "    .dataframe tbody tr th:only-of-type {\n",
              "        vertical-align: middle;\n",
              "    }\n",
              "\n",
              "    .dataframe tbody tr th {\n",
              "        vertical-align: top;\n",
              "    }\n",
              "\n",
              "    .dataframe thead th {\n",
              "        text-align: right;\n",
              "    }\n",
              "</style>\n",
              "<table border=\"1\" class=\"dataframe\">\n",
              "  <thead>\n",
              "    <tr style=\"text-align: right;\">\n",
              "      <th></th>\n",
              "      <th>InvoiceNo</th>\n",
              "      <th>StockCode</th>\n",
              "      <th>Description</th>\n",
              "      <th>Quantity</th>\n",
              "      <th>CustomerID</th>\n",
              "      <th>Country</th>\n",
              "      <th>InvoiceDate_Month</th>\n",
              "      <th>InvoiceDate_Day</th>\n",
              "      <th>InvoiceDate_hour</th>\n",
              "      <th>InvoiceDate_week</th>\n",
              "      <th>InvoiceDate_weekday</th>\n",
              "      <th>target</th>\n",
              "    </tr>\n",
              "  </thead>\n",
              "  <tbody>\n",
              "    <tr>\n",
              "      <th>0</th>\n",
              "      <td>0.276771</td>\n",
              "      <td>0.429813</td>\n",
              "      <td>0.036970</td>\n",
              "      <td>0.310273</td>\n",
              "      <td>0.287710</td>\n",
              "      <td>0.972222</td>\n",
              "      <td>0.363636</td>\n",
              "      <td>0.166667</td>\n",
              "      <td>0.714286</td>\n",
              "      <td>0.34</td>\n",
              "      <td>0.666667</td>\n",
              "      <td>3.75</td>\n",
              "    </tr>\n",
              "    <tr>\n",
              "      <th>1</th>\n",
              "      <td>0.286146</td>\n",
              "      <td>0.352973</td>\n",
              "      <td>0.945315</td>\n",
              "      <td>0.310754</td>\n",
              "      <td>0.126431</td>\n",
              "      <td>0.972222</td>\n",
              "      <td>0.363636</td>\n",
              "      <td>0.333333</td>\n",
              "      <td>0.071429</td>\n",
              "      <td>0.36</td>\n",
              "      <td>0.333333</td>\n",
              "      <td>1.95</td>\n",
              "    </tr>\n",
              "    <tr>\n",
              "      <th>2</th>\n",
              "      <td>0.756400</td>\n",
              "      <td>0.591366</td>\n",
              "      <td>0.497818</td>\n",
              "      <td>0.310433</td>\n",
              "      <td>0.454040</td>\n",
              "      <td>0.972222</td>\n",
              "      <td>0.909091</td>\n",
              "      <td>0.633333</td>\n",
              "      <td>0.500000</td>\n",
              "      <td>0.90</td>\n",
              "      <td>1.000000</td>\n",
              "      <td>5.95</td>\n",
              "    </tr>\n",
              "    <tr>\n",
              "      <th>3</th>\n",
              "      <td>0.764873</td>\n",
              "      <td>0.574260</td>\n",
              "      <td>0.765854</td>\n",
              "      <td>0.309952</td>\n",
              "      <td>0.535017</td>\n",
              "      <td>0.972222</td>\n",
              "      <td>0.909091</td>\n",
              "      <td>0.700000</td>\n",
              "      <td>0.428571</td>\n",
              "      <td>0.92</td>\n",
              "      <td>0.166667</td>\n",
              "      <td>0.83</td>\n",
              "    </tr>\n",
              "    <tr>\n",
              "      <th>4</th>\n",
              "      <td>0.274022</td>\n",
              "      <td>0.328537</td>\n",
              "      <td>0.740950</td>\n",
              "      <td>0.311717</td>\n",
              "      <td>0.270202</td>\n",
              "      <td>0.972222</td>\n",
              "      <td>0.363636</td>\n",
              "      <td>0.166667</td>\n",
              "      <td>0.214286</td>\n",
              "      <td>0.34</td>\n",
              "      <td>0.666667</td>\n",
              "      <td>1.65</td>\n",
              "    </tr>\n",
              "  </tbody>\n",
              "</table>\n",
              "</div>"
            ],
            "text/plain": [
              "   InvoiceNo  StockCode  ...  InvoiceDate_weekday  target\n",
              "0   0.276771   0.429813  ...             0.666667    3.75\n",
              "1   0.286146   0.352973  ...             0.333333    1.95\n",
              "2   0.756400   0.591366  ...             1.000000    5.95\n",
              "3   0.764873   0.574260  ...             0.166667    0.83\n",
              "4   0.274022   0.328537  ...             0.666667    1.65\n",
              "\n",
              "[5 rows x 12 columns]"
            ]
          },
          "metadata": {
            "tags": []
          },
          "execution_count": 25
        }
      ]
    },
    {
      "cell_type": "code",
      "metadata": {
        "id": "8fpGgN3Duz5Y",
        "outputId": "4663483f-3fec-4599-b035-aabdd881049a",
        "colab": {
          "base_uri": "https://localhost:8080/"
        }
      },
      "source": [
        "train, test = train_test_split(train_data, test_size=0.2)\n",
        "print(len(train), 'train examples')\n",
        "print(len(pred_data), 'prediction examples')\n",
        "print(len(test), 'test examples')"
      ],
      "execution_count": null,
      "outputs": [
        {
          "output_type": "stream",
          "text": [
            "227818 train examples\n",
            "122049 prediction examples\n",
            "56955 test examples\n"
          ],
          "name": "stdout"
        }
      ]
    },
    {
      "cell_type": "markdown",
      "metadata": {
        "id": "Oenlt__sxKRI"
      },
      "source": [
        "### Create an input pipeline using tf.data"
      ]
    },
    {
      "cell_type": "code",
      "metadata": {
        "id": "MI0KNTJBdz6_"
      },
      "source": [
        "# A utility method to create a tf.data dataset from a Pandas Dataframe\n",
        "def df_to_dataset(dataframe, shuffle=True, batch_size=32):\n",
        "  dataframe = dataframe.copy()\n",
        "  labels = dataframe.pop('target')\n",
        "  ds = tf.data.Dataset.from_tensor_slices((dict(dataframe), labels))\n",
        "  if shuffle:\n",
        "    ds = ds.shuffle(buffer_size=len(dataframe))\n",
        "  ds = ds.batch(batch_size)\n",
        "  return ds"
      ],
      "execution_count": null,
      "outputs": []
    },
    {
      "cell_type": "code",
      "metadata": {
        "id": "PFGLAS8VxZqZ"
      },
      "source": [
        "train_ds = df_to_dataset(train)\n",
        "val_ds = df_to_dataset(test, shuffle=False)"
      ],
      "execution_count": null,
      "outputs": []
    },
    {
      "cell_type": "code",
      "metadata": {
        "id": "nT1A3GQvPAYc",
        "outputId": "e6a75f3e-c947-44fc-9b34-bb673719c46a",
        "colab": {
          "base_uri": "https://localhost:8080/"
        }
      },
      "source": [
        "train_ds.take(2)"
      ],
      "execution_count": 60,
      "outputs": [
        {
          "output_type": "execute_result",
          "data": {
            "text/plain": [
              "<TakeDataset shapes: ({InvoiceNo: (None,), StockCode: (None,), Description: (None,), Quantity: (None,), CustomerID: (None,), Country: (None,), InvoiceDate_Month: (None,), InvoiceDate_Day: (None,), InvoiceDate_hour: (None,), InvoiceDate_week: (None,), InvoiceDate_weekday: (None,)}, (None,)), types: ({InvoiceNo: tf.float64, StockCode: tf.float64, Description: tf.float64, Quantity: tf.float64, CustomerID: tf.float64, Country: tf.float64, InvoiceDate_Month: tf.float64, InvoiceDate_Day: tf.float64, InvoiceDate_hour: tf.float64, InvoiceDate_week: tf.float64, InvoiceDate_weekday: tf.float64}, tf.float64)>"
            ]
          },
          "metadata": {
            "tags": []
          },
          "execution_count": 60
        }
      ]
    },
    {
      "cell_type": "code",
      "metadata": {
        "id": "LfuosOQpy9En"
      },
      "source": [
        "InvoiceNo = keras.Input(shape=(1,), name=\"InvoiceNo\")\n",
        "StockCode = keras.Input(shape=(1,), name=\"StockCode\")\n",
        "Description = keras.Input(shape=(1,), name=\"Description\")\n",
        "Quantity = keras.Input(shape=(1,), name=\"Quantity\")\n",
        "CustomerID = keras.Input(shape=(1,), name=\"CustomerID\")\n",
        "Country = keras.Input(shape=(1,), name=\"Country\")\n",
        "InvoiceDate_Month = keras.Input(shape=(1,), name=\"InvoiceDate_Month\")\n",
        "InvoiceDate_Day = keras.Input(shape=(1,), name=\"InvoiceDate_Day\")\n",
        "InvoiceDate_hour = keras.Input(shape=(1,), name=\"InvoiceDate_hour\")\n",
        "InvoiceDate_week = keras.Input(shape=(1,), name=\"InvoiceDate_week\")\n",
        "InvoiceDate_weekday = keras.Input(shape=(1,), name=\"InvoiceDate_weekday\")"
      ],
      "execution_count": null,
      "outputs": []
    },
    {
      "cell_type": "code",
      "metadata": {
        "id": "QNp7pxqTy9Mh"
      },
      "source": [
        "all_features = layers.concatenate(\n",
        "    [\n",
        "        InvoiceNo,\n",
        "        StockCode,\n",
        "        Description,\n",
        "        Quantity,\n",
        "        CustomerID,\n",
        "        Country,\n",
        "        InvoiceDate_Month,\n",
        "        InvoiceDate_Day,\n",
        "        InvoiceDate_hour,\n",
        "        InvoiceDate_week,\n",
        "        InvoiceDate_weekday\n",
        "    ]\n",
        ")"
      ],
      "execution_count": null,
      "outputs": []
    },
    {
      "cell_type": "code",
      "metadata": {
        "id": "IHAqp4CQ46qM"
      },
      "source": [
        "all_inputs= [\n",
        "        InvoiceNo,\n",
        "        StockCode,\n",
        "        Description,\n",
        "        Quantity,\n",
        "        CustomerID,\n",
        "        Country,\n",
        "        InvoiceDate_Month,\n",
        "        InvoiceDate_Day,\n",
        "        InvoiceDate_hour,\n",
        "        InvoiceDate_week,\n",
        "        InvoiceDate_weekday\n",
        "    ]"
      ],
      "execution_count": null,
      "outputs": []
    },
    {
      "cell_type": "code",
      "metadata": {
        "id": "kvY5Lm10eBRV"
      },
      "source": [
        "# DEFINE A KERAS MODEL TO CLASSIFY CATS V DOGS\n",
        "# USE AT LEAST 3 CONVOLUTION LAYERS\n",
        "x = layers.Dense(64, activation=\"relu\")(all_features)\n",
        "x = layers.Dropout(0.5)(x)\n",
        "output = layers.Dense(1, activation=\"sigmoid\")(x)\n",
        "model = keras.Model(all_inputs, output)\n",
        "\n",
        "model.compile(optimizer='Adadelta', loss='mean_squared_error', metrics=tf.keras.metrics.MeanSquaredError())"
      ],
      "execution_count": null,
      "outputs": []
    },
    {
      "cell_type": "code",
      "metadata": {
        "id": "i84B7P3Eidlt",
        "outputId": "fe5492fd-0010-443d-ba42-bbb1f80d385b",
        "colab": {
          "base_uri": "https://localhost:8080/"
        }
      },
      "source": [
        "history = model.fit(train_ds, batch_size=50, epochs=10, validation_data=val_ds)"
      ],
      "execution_count": null,
      "outputs": [
        {
          "output_type": "stream",
          "text": [
            "Epoch 1/10\n",
            "7120/7120 [==============================] - 32s 5ms/step - loss: 620.3503 - mean_squared_error: 620.3503 - val_loss: 466.3860 - val_mean_squared_error: 466.3860\n",
            "Epoch 2/10\n",
            "7120/7120 [==============================] - 32s 4ms/step - loss: 620.1402 - mean_squared_error: 620.1402 - val_loss: 466.2043 - val_mean_squared_error: 466.2043\n",
            "Epoch 3/10\n",
            "7120/7120 [==============================] - 31s 4ms/step - loss: 619.9677 - mean_squared_error: 619.9677 - val_loss: 466.0290 - val_mean_squared_error: 466.0290\n",
            "Epoch 4/10\n",
            "7120/7120 [==============================] - 31s 4ms/step - loss: 619.7841 - mean_squared_error: 619.7841 - val_loss: 465.8633 - val_mean_squared_error: 465.8633\n",
            "Epoch 5/10\n",
            "7120/7120 [==============================] - 31s 4ms/step - loss: 619.6262 - mean_squared_error: 619.6262 - val_loss: 465.7066 - val_mean_squared_error: 465.7066\n",
            "Epoch 6/10\n",
            "7120/7120 [==============================] - 33s 5ms/step - loss: 619.4671 - mean_squared_error: 619.4671 - val_loss: 465.5547 - val_mean_squared_error: 465.5547\n",
            "Epoch 7/10\n",
            "7120/7120 [==============================] - 31s 4ms/step - loss: 619.3256 - mean_squared_error: 619.3256 - val_loss: 465.4194 - val_mean_squared_error: 465.4194\n",
            "Epoch 8/10\n",
            "7120/7120 [==============================] - 31s 4ms/step - loss: 619.1898 - mean_squared_error: 619.1898 - val_loss: 465.2847 - val_mean_squared_error: 465.2847\n",
            "Epoch 9/10\n",
            "7120/7120 [==============================] - 31s 4ms/step - loss: 619.0515 - mean_squared_error: 619.0515 - val_loss: 465.1627 - val_mean_squared_error: 465.1627\n",
            "Epoch 10/10\n",
            "7120/7120 [==============================] - 31s 4ms/step - loss: 618.9383 - mean_squared_error: 618.9383 - val_loss: 465.0461 - val_mean_squared_error: 465.0461\n"
          ],
          "name": "stdout"
        }
      ]
    },
    {
      "cell_type": "code",
      "metadata": {
        "id": "DXe-JUtUOt9C",
        "outputId": "c4848ca1-c161-470b-b73d-6da24998bbf8",
        "colab": {
          "base_uri": "https://localhost:8080/",
          "height": 215
        }
      },
      "source": [
        "pred_data.head()"
      ],
      "execution_count": 59,
      "outputs": [
        {
          "output_type": "execute_result",
          "data": {
            "text/html": [
              "<div>\n",
              "<style scoped>\n",
              "    .dataframe tbody tr th:only-of-type {\n",
              "        vertical-align: middle;\n",
              "    }\n",
              "\n",
              "    .dataframe tbody tr th {\n",
              "        vertical-align: top;\n",
              "    }\n",
              "\n",
              "    .dataframe thead th {\n",
              "        text-align: right;\n",
              "    }\n",
              "</style>\n",
              "<table border=\"1\" class=\"dataframe\">\n",
              "  <thead>\n",
              "    <tr style=\"text-align: right;\">\n",
              "      <th></th>\n",
              "      <th>InvoiceNo</th>\n",
              "      <th>StockCode</th>\n",
              "      <th>Description</th>\n",
              "      <th>Quantity</th>\n",
              "      <th>CustomerID</th>\n",
              "      <th>Country</th>\n",
              "      <th>InvoiceDate_Month</th>\n",
              "      <th>InvoiceDate_Day</th>\n",
              "      <th>InvoiceDate_hour</th>\n",
              "      <th>InvoiceDate_week</th>\n",
              "      <th>InvoiceDate_weekday</th>\n",
              "    </tr>\n",
              "  </thead>\n",
              "  <tbody>\n",
              "    <tr>\n",
              "      <th>0</th>\n",
              "      <td>0.141473</td>\n",
              "      <td>0.464024</td>\n",
              "      <td>0.277022</td>\n",
              "      <td>0.310273</td>\n",
              "      <td>0.642088</td>\n",
              "      <td>0.972222</td>\n",
              "      <td>0.090909</td>\n",
              "      <td>0.700000</td>\n",
              "      <td>0.642857</td>\n",
              "      <td>0.14</td>\n",
              "      <td>0.166667</td>\n",
              "    </tr>\n",
              "    <tr>\n",
              "      <th>1</th>\n",
              "      <td>0.027808</td>\n",
              "      <td>0.138474</td>\n",
              "      <td>0.887548</td>\n",
              "      <td>0.309952</td>\n",
              "      <td>0.840741</td>\n",
              "      <td>0.972222</td>\n",
              "      <td>1.000000</td>\n",
              "      <td>0.233333</td>\n",
              "      <td>0.428571</td>\n",
              "      <td>0.96</td>\n",
              "      <td>0.333333</td>\n",
              "    </tr>\n",
              "    <tr>\n",
              "      <th>2</th>\n",
              "      <td>0.660402</td>\n",
              "      <td>0.163997</td>\n",
              "      <td>0.178177</td>\n",
              "      <td>0.315570</td>\n",
              "      <td>0.473232</td>\n",
              "      <td>0.972222</td>\n",
              "      <td>0.818182</td>\n",
              "      <td>0.800000</td>\n",
              "      <td>0.500000</td>\n",
              "      <td>0.84</td>\n",
              "      <td>0.166667</td>\n",
              "    </tr>\n",
              "    <tr>\n",
              "      <th>3</th>\n",
              "      <td>0.389129</td>\n",
              "      <td>0.401303</td>\n",
              "      <td>0.891656</td>\n",
              "      <td>0.310112</td>\n",
              "      <td>0.620539</td>\n",
              "      <td>0.972222</td>\n",
              "      <td>0.454545</td>\n",
              "      <td>0.866667</td>\n",
              "      <td>0.428571</td>\n",
              "      <td>0.50</td>\n",
              "      <td>0.000000</td>\n",
              "    </tr>\n",
              "    <tr>\n",
              "      <th>4</th>\n",
              "      <td>0.700649</td>\n",
              "      <td>0.873201</td>\n",
              "      <td>0.223620</td>\n",
              "      <td>0.309952</td>\n",
              "      <td>0.505724</td>\n",
              "      <td>0.972222</td>\n",
              "      <td>0.909091</td>\n",
              "      <td>0.166667</td>\n",
              "      <td>0.714286</td>\n",
              "      <td>0.86</td>\n",
              "      <td>1.000000</td>\n",
              "    </tr>\n",
              "  </tbody>\n",
              "</table>\n",
              "</div>"
            ],
            "text/plain": [
              "   InvoiceNo  StockCode  ...  InvoiceDate_week  InvoiceDate_weekday\n",
              "0   0.141473   0.464024  ...              0.14             0.166667\n",
              "1   0.027808   0.138474  ...              0.96             0.333333\n",
              "2   0.660402   0.163997  ...              0.84             0.166667\n",
              "3   0.389129   0.401303  ...              0.50             0.000000\n",
              "4   0.700649   0.873201  ...              0.86             1.000000\n",
              "\n",
              "[5 rows x 11 columns]"
            ]
          },
          "metadata": {
            "tags": []
          },
          "execution_count": 59
        }
      ]
    },
    {
      "cell_type": "code",
      "metadata": {
        "id": "kgAg1H-9Lg1D"
      },
      "source": [
        "sample = {\n",
        "        \"InvoiceNo\": pred_data.InvoiceNo.to_list(),\n",
        "        \"StockCode\": pred_data.StockCode.to_list(),\n",
        "        \"Description\": pred_data.Description.to_list(),\n",
        "        \"Quantity\": pred_data.Quantity.to_list(),\n",
        "        \"CustomerID\": pred_data.CustomerID.to_list(),\n",
        "        \"Country\": pred_data.Country.to_list(),\n",
        "        \"InvoiceDate_Month\": pred_data.InvoiceDate_Month.to_list(),\n",
        "        \"InvoiceDate_Day\": pred_data.InvoiceDate_Day.to_list(),\n",
        "        \"InvoiceDate_hour\": pred_data.InvoiceDate_hour.to_list(),\n",
        "        \"InvoiceDate_week\": pred_data.InvoiceDate_week.to_list(),\n",
        "        \"InvoiceDate_weekday\": pred_data.InvoiceDate_weekday.to_list(),\n",
        "}"
      ],
      "execution_count": 64,
      "outputs": []
    },
    {
      "cell_type": "code",
      "metadata": {
        "id": "anRM_7vXNp7t",
        "outputId": "13a1a337-1578-4237-bc77-3c840fda2792",
        "colab": {
          "base_uri": "https://localhost:8080/",
          "height": 337
        }
      },
      "source": [
        "#input_dict = {name: tf.convert_to_tensor([value]) for name, value in sample.items()}\n",
        "predictions = model.predict(sample)"
      ],
      "execution_count": 66,
      "outputs": [
        {
          "output_type": "error",
          "ename": "ValueError",
          "evalue": "ignored",
          "traceback": [
            "\u001b[0;31m---------------------------------------------------------------------------\u001b[0m",
            "\u001b[0;31mValueError\u001b[0m                                Traceback (most recent call last)",
            "\u001b[0;32m<ipython-input-66-e1cdecf5bbc8>\u001b[0m in \u001b[0;36m<module>\u001b[0;34m()\u001b[0m\n\u001b[1;32m      1\u001b[0m \u001b[0;31m#input_dict = {name: tf.convert_to_tensor([value]) for name, value in sample.items()}\u001b[0m\u001b[0;34m\u001b[0m\u001b[0;34m\u001b[0m\u001b[0;34m\u001b[0m\u001b[0m\n\u001b[0;32m----> 2\u001b[0;31m \u001b[0mpredictions\u001b[0m \u001b[0;34m=\u001b[0m \u001b[0mmodel\u001b[0m\u001b[0;34m.\u001b[0m\u001b[0mpredict\u001b[0m\u001b[0;34m(\u001b[0m\u001b[0msample\u001b[0m\u001b[0;34m)\u001b[0m\u001b[0;34m\u001b[0m\u001b[0;34m\u001b[0m\u001b[0m\n\u001b[0m",
            "\u001b[0;32m/usr/local/lib/python3.6/dist-packages/tensorflow/python/keras/engine/training.py\u001b[0m in \u001b[0;36m_method_wrapper\u001b[0;34m(self, *args, **kwargs)\u001b[0m\n\u001b[1;32m    128\u001b[0m       raise ValueError('{} is not supported in multi-worker mode.'.format(\n\u001b[1;32m    129\u001b[0m           method.__name__))\n\u001b[0;32m--> 130\u001b[0;31m     \u001b[0;32mreturn\u001b[0m \u001b[0mmethod\u001b[0m\u001b[0;34m(\u001b[0m\u001b[0mself\u001b[0m\u001b[0;34m,\u001b[0m \u001b[0;34m*\u001b[0m\u001b[0margs\u001b[0m\u001b[0;34m,\u001b[0m \u001b[0;34m**\u001b[0m\u001b[0mkwargs\u001b[0m\u001b[0;34m)\u001b[0m\u001b[0;34m\u001b[0m\u001b[0;34m\u001b[0m\u001b[0m\n\u001b[0m\u001b[1;32m    131\u001b[0m \u001b[0;34m\u001b[0m\u001b[0m\n\u001b[1;32m    132\u001b[0m   return tf_decorator.make_decorator(\n",
            "\u001b[0;32m/usr/local/lib/python3.6/dist-packages/tensorflow/python/keras/engine/training.py\u001b[0m in \u001b[0;36mpredict\u001b[0;34m(self, x, batch_size, verbose, steps, callbacks, max_queue_size, workers, use_multiprocessing)\u001b[0m\n\u001b[1;32m   1577\u001b[0m           \u001b[0muse_multiprocessing\u001b[0m\u001b[0;34m=\u001b[0m\u001b[0muse_multiprocessing\u001b[0m\u001b[0;34m,\u001b[0m\u001b[0;34m\u001b[0m\u001b[0;34m\u001b[0m\u001b[0m\n\u001b[1;32m   1578\u001b[0m           \u001b[0mmodel\u001b[0m\u001b[0;34m=\u001b[0m\u001b[0mself\u001b[0m\u001b[0;34m,\u001b[0m\u001b[0;34m\u001b[0m\u001b[0;34m\u001b[0m\u001b[0m\n\u001b[0;32m-> 1579\u001b[0;31m           steps_per_execution=self._steps_per_execution)\n\u001b[0m\u001b[1;32m   1580\u001b[0m \u001b[0;34m\u001b[0m\u001b[0m\n\u001b[1;32m   1581\u001b[0m       \u001b[0;31m# Container that configures and calls `tf.keras.Callback`s.\u001b[0m\u001b[0;34m\u001b[0m\u001b[0;34m\u001b[0m\u001b[0;34m\u001b[0m\u001b[0m\n",
            "\u001b[0;32m/usr/local/lib/python3.6/dist-packages/tensorflow/python/keras/engine/data_adapter.py\u001b[0m in \u001b[0;36m__init__\u001b[0;34m(self, x, y, sample_weight, batch_size, steps_per_epoch, initial_epoch, epochs, shuffle, class_weight, max_queue_size, workers, use_multiprocessing, model, steps_per_execution)\u001b[0m\n\u001b[1;32m   1102\u001b[0m       \u001b[0mself\u001b[0m\u001b[0;34m.\u001b[0m\u001b[0m_steps_per_execution_value\u001b[0m \u001b[0;34m=\u001b[0m \u001b[0msteps_per_execution\u001b[0m\u001b[0;34m.\u001b[0m\u001b[0mnumpy\u001b[0m\u001b[0;34m(\u001b[0m\u001b[0;34m)\u001b[0m\u001b[0;34m.\u001b[0m\u001b[0mitem\u001b[0m\u001b[0;34m(\u001b[0m\u001b[0;34m)\u001b[0m\u001b[0;34m\u001b[0m\u001b[0;34m\u001b[0m\u001b[0m\n\u001b[1;32m   1103\u001b[0m \u001b[0;34m\u001b[0m\u001b[0m\n\u001b[0;32m-> 1104\u001b[0;31m     \u001b[0madapter_cls\u001b[0m \u001b[0;34m=\u001b[0m \u001b[0mselect_data_adapter\u001b[0m\u001b[0;34m(\u001b[0m\u001b[0mx\u001b[0m\u001b[0;34m,\u001b[0m \u001b[0my\u001b[0m\u001b[0;34m)\u001b[0m\u001b[0;34m\u001b[0m\u001b[0;34m\u001b[0m\u001b[0m\n\u001b[0m\u001b[1;32m   1105\u001b[0m     self._adapter = adapter_cls(\n\u001b[1;32m   1106\u001b[0m         \u001b[0mx\u001b[0m\u001b[0;34m,\u001b[0m\u001b[0;34m\u001b[0m\u001b[0;34m\u001b[0m\u001b[0m\n",
            "\u001b[0;32m/usr/local/lib/python3.6/dist-packages/tensorflow/python/keras/engine/data_adapter.py\u001b[0m in \u001b[0;36mselect_data_adapter\u001b[0;34m(x, y)\u001b[0m\n\u001b[1;32m    969\u001b[0m         \u001b[0;34m\"Failed to find data adapter that can handle \"\u001b[0m\u001b[0;34m\u001b[0m\u001b[0;34m\u001b[0m\u001b[0m\n\u001b[1;32m    970\u001b[0m         \"input: {}, {}\".format(\n\u001b[0;32m--> 971\u001b[0;31m             _type_name(x), _type_name(y)))\n\u001b[0m\u001b[1;32m    972\u001b[0m   \u001b[0;32melif\u001b[0m \u001b[0mlen\u001b[0m\u001b[0;34m(\u001b[0m\u001b[0madapter_cls\u001b[0m\u001b[0;34m)\u001b[0m \u001b[0;34m>\u001b[0m \u001b[0;36m1\u001b[0m\u001b[0;34m:\u001b[0m\u001b[0;34m\u001b[0m\u001b[0;34m\u001b[0m\u001b[0m\n\u001b[1;32m    973\u001b[0m     raise RuntimeError(\n",
            "\u001b[0;31mValueError\u001b[0m: Failed to find data adapter that can handle input: (<class 'dict'> containing {\"<class 'str'>\"} keys and {'(<class \\'list\\'> containing values of types {\"<class \\'float\\'>\"})'} values), <class 'NoneType'>"
          ]
        }
      ]
    },
    {
      "cell_type": "code",
      "metadata": {
        "id": "t6bUdyfkLPm5"
      },
      "source": [
        ""
      ],
      "execution_count": null,
      "outputs": []
    },
    {
      "cell_type": "code",
      "metadata": {
        "id": "X2AjE_FzIrVX"
      },
      "source": [
        ""
      ],
      "execution_count": null,
      "outputs": []
    }
  ]
}