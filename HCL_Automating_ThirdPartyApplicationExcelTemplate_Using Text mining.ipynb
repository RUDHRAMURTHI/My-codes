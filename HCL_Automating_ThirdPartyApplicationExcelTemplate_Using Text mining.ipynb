{
 "cells": [
  {
   "cell_type": "code",
   "execution_count": 8,
   "metadata": {},
   "outputs": [],
   "source": [
    "import pandas as pd\n",
    "import numpy as np\n",
    "import os\n",
    "import re"
   ]
  },
  {
   "cell_type": "code",
   "execution_count": 9,
   "metadata": {},
   "outputs": [
    {
     "data": {
      "text/plain": [
       "'D:\\\\Rudhra_Data science\\\\ThirdPartyExcelAuto'"
      ]
     },
     "execution_count": 9,
     "metadata": {},
     "output_type": "execute_result"
    }
   ],
   "source": [
    "os.getcwd()"
   ]
  },
  {
   "cell_type": "code",
   "execution_count": 10,
   "metadata": {},
   "outputs": [
    {
     "data": {
      "text/plain": [
       "['.ipynb_checkpoints',\n",
       " 'ACCLAIM_Bugs.csv',\n",
       " 'MScaresexcel automation.ipynb',\n",
       " 'ThirdPartyApplicationExcelTemplateAuto.ipynb',\n",
       " 'ThirdPartyApplicationExcelTemplateAuto_Final.ipynb',\n",
       " 'ThirdPartyApplicationExcelTemplateAuto_With WCAG Links_Final.ipynb',\n",
       " 'Untitled.ipynb']"
      ]
     },
     "execution_count": 10,
     "metadata": {},
     "output_type": "execute_result"
    }
   ],
   "source": [
    "os.listdir()"
   ]
  },
  {
   "cell_type": "code",
   "execution_count": 11,
   "metadata": {},
   "outputs": [],
   "source": [
    "data = pd.read_csv(\"ACCLAIM_Bugs.csv\", encoding ='unicode_escape')"
   ]
  },
  {
   "cell_type": "code",
   "execution_count": 12,
   "metadata": {},
   "outputs": [
    {
     "data": {
      "text/html": [
       "<div>\n",
       "<style scoped>\n",
       "    .dataframe tbody tr th:only-of-type {\n",
       "        vertical-align: middle;\n",
       "    }\n",
       "\n",
       "    .dataframe tbody tr th {\n",
       "        vertical-align: top;\n",
       "    }\n",
       "\n",
       "    .dataframe thead th {\n",
       "        text-align: right;\n",
       "    }\n",
       "</style>\n",
       "<table border=\"1\" class=\"dataframe\">\n",
       "  <thead>\n",
       "    <tr style=\"text-align: right;\">\n",
       "      <th></th>\n",
       "      <th>ID</th>\n",
       "      <th>Title</th>\n",
       "      <th>Repro Steps</th>\n",
       "      <th>Severity</th>\n",
       "      <th>State</th>\n",
       "      <th>Tags</th>\n",
       "    </tr>\n",
       "  </thead>\n",
       "  <tbody>\n",
       "    <tr>\n",
       "      <td>0</td>\n",
       "      <td>1067152</td>\n",
       "      <td>[Keyboard Navigation-Acclaim-Sign in]: Focus i...</td>\n",
       "      <td>PWD Impact:\\r\\nUsers who rely on keyboard for ...</td>\n",
       "      <td>1 - Critical</td>\n",
       "      <td>New</td>\n",
       "      <td>A11y-3RDPARTY; A11yMAS; A11yMASP2; CommonBrows...</td>\n",
       "    </tr>\n",
       "    <tr>\n",
       "      <td>1</td>\n",
       "      <td>1067665</td>\n",
       "      <td>[Keyboard Navigation-Acclaim-sign in-Navigatio...</td>\n",
       "      <td>PWD Impact:\\r\\nUsers who rely on keyboard for ...</td>\n",
       "      <td>1 - Critical</td>\n",
       "      <td>New</td>\n",
       "      <td>A11y-3RDPARTY; A11yMAS; A11yMASP2; CommonBrows...</td>\n",
       "    </tr>\n",
       "    <tr>\n",
       "      <td>2</td>\n",
       "      <td>1067787</td>\n",
       "      <td>[Keyboard Navigation-Acclaim-Settings-Profile]...</td>\n",
       "      <td>PWD Impact:\\r\\nUsers who rely on keyboard for ...</td>\n",
       "      <td>1 - Critical</td>\n",
       "      <td>New</td>\n",
       "      <td>A11y-3RDPARTY; A11yMAS; A11yMASP2; CommonBrows...</td>\n",
       "    </tr>\n",
       "    <tr>\n",
       "      <td>3</td>\n",
       "      <td>1068158</td>\n",
       "      <td>[Keyboard Navigation-Acclaim-Share your badge]...</td>\n",
       "      <td>PWD Impact:\\r\\nUsers who rely on keyboard for ...</td>\n",
       "      <td>1 - Critical</td>\n",
       "      <td>New</td>\n",
       "      <td>A11y-3RDPARTY; A11yMAS; A11yMASP2; CommonBrows...</td>\n",
       "    </tr>\n",
       "    <tr>\n",
       "      <td>4</td>\n",
       "      <td>1069096</td>\n",
       "      <td>[Keyboard Navigation-Acclaim-Settings-Profile]...</td>\n",
       "      <td>PWD Impact:\\r\\nVisual users who are dependent ...</td>\n",
       "      <td>1 - Critical</td>\n",
       "      <td>New</td>\n",
       "      <td>A11y-3RDPARTY; A11yMAS; A11yMASP2; CommonBrows...</td>\n",
       "    </tr>\n",
       "  </tbody>\n",
       "</table>\n",
       "</div>"
      ],
      "text/plain": [
       "        ID                                              Title  \\\n",
       "0  1067152  [Keyboard Navigation-Acclaim-Sign in]: Focus i...   \n",
       "1  1067665  [Keyboard Navigation-Acclaim-sign in-Navigatio...   \n",
       "2  1067787  [Keyboard Navigation-Acclaim-Settings-Profile]...   \n",
       "3  1068158  [Keyboard Navigation-Acclaim-Share your badge]...   \n",
       "4  1069096  [Keyboard Navigation-Acclaim-Settings-Profile]...   \n",
       "\n",
       "                                         Repro Steps      Severity State  \\\n",
       "0  PWD Impact:\\r\\nUsers who rely on keyboard for ...  1 - Critical   New   \n",
       "1  PWD Impact:\\r\\nUsers who rely on keyboard for ...  1 - Critical   New   \n",
       "2  PWD Impact:\\r\\nUsers who rely on keyboard for ...  1 - Critical   New   \n",
       "3  PWD Impact:\\r\\nUsers who rely on keyboard for ...  1 - Critical   New   \n",
       "4  PWD Impact:\\r\\nVisual users who are dependent ...  1 - Critical   New   \n",
       "\n",
       "                                                Tags  \n",
       "0  A11y-3RDPARTY; A11yMAS; A11yMASP2; CommonBrows...  \n",
       "1  A11y-3RDPARTY; A11yMAS; A11yMASP2; CommonBrows...  \n",
       "2  A11y-3RDPARTY; A11yMAS; A11yMASP2; CommonBrows...  \n",
       "3  A11y-3RDPARTY; A11yMAS; A11yMASP2; CommonBrows...  \n",
       "4  A11y-3RDPARTY; A11yMAS; A11yMASP2; CommonBrows...  "
      ]
     },
     "execution_count": 12,
     "metadata": {},
     "output_type": "execute_result"
    }
   ],
   "source": [
    "data.head()"
   ]
  },
  {
   "cell_type": "code",
   "execution_count": 13,
   "metadata": {},
   "outputs": [],
   "source": [
    "def ThirdPartyExcelAuto (data):\n",
    "    def masrules (x):\n",
    "        x=x.replace(\"\\r\\n  \\r\\n\", \"\\r\\n\\r\\n\").replace(\"\\r\\n \\r\\n\", \"\\r\\n\\r\\n\").replace(\"\\r\\n\\r\\n\\r\\n\",\"\\r\\n\\r\\n\").split(\"\\r\\n\\r\\n\")\n",
    "        s=\"\"\n",
    "        for i in range(len(x)):\n",
    "            if re.search(r\"^MAS\", x[i]):\n",
    "                s=s+x[i]\n",
    "            if re.search(r\"^WCAG\", x[i]):\n",
    "                s=s+'\\r\\n\\r\\n'+x[i]\n",
    "        return(s)\n",
    "    def masrulsdel (x):\n",
    "        m = masrules(x)\n",
    "        return (x.replace(m, \"\"))\n",
    "    data[\"MAS / WCAG References\"] = data[\"Repro Steps\"].map(masrules)\n",
    "    def mascolumn (x):\n",
    "        x=x.split(\"\\r\\n\\r\\n\")\n",
    "        s=\"\"\n",
    "        for i in range(len(x)):\n",
    "            if re.search(r\"^MAS\", x[i]):\n",
    "                s=s+x[i]\n",
    "        return(s)\n",
    "    def wcagcolumn (x):\n",
    "        x=x.split(\"\\r\\n\\r\\n\")\n",
    "        s=\"\"\n",
    "        for i in range(len(x)):\n",
    "            if re.search(r\"^WCAG\", x[i]):\n",
    "                s=s+x[i]\n",
    "        return(s)\n",
    "    def Wcaghyperlink (x):\n",
    "        x=x.split(\"\\r\\n\")\n",
    "        s=\"\"\n",
    "        for i in range(len(x)):\n",
    "            if re.search(r\"^https:|^http:|www.\", x[i]):\n",
    "                s=s+x[i]\n",
    "        return '=HYPERLINK(\"%s\", \"%s\")'%(s,s)\n",
    "    data['Attachment'] = data.ID.map(lambda x :'Please refer the attachment folder: '+str(x))\n",
    "    data[\"Repro Steps\"] = data[\"Repro Steps\"].map(masrulsdel)\n",
    "    data[\"MAS Rules\"] = data[\"MAS / WCAG References\"].map(mascolumn)\n",
    "    data[\"WCAG Rules\"] = data[\"MAS / WCAG References\"].map(wcagcolumn)\n",
    "    data[\"WCAG Rules_links\"] = data[\"WCAG Rules\"].apply(lambda x: Wcaghyperlink(x))\n",
    "    column_titles = ['ID', 'Title', 'Repro Steps', 'Severity', 'State', 'Attachment', 'MAS / WCAG References','MAS Rules','WCAG Rules','WCAG Rules_links', 'Tags']\n",
    "    data = data.reindex(columns=column_titles)\n",
    "    data.to_excel(\"Data_Updated.xlsx\", index=False)"
   ]
  },
  {
   "cell_type": "code",
   "execution_count": 14,
   "metadata": {},
   "outputs": [],
   "source": [
    "ThirdPartyExcelAuto(data)"
   ]
  },
  {
   "cell_type": "code",
   "execution_count": null,
   "metadata": {},
   "outputs": [],
   "source": []
  }
 ],
 "metadata": {
  "kernelspec": {
   "display_name": "Python 3",
   "language": "python",
   "name": "python3"
  },
  "language_info": {
   "codemirror_mode": {
    "name": "ipython",
    "version": 3
   },
   "file_extension": ".py",
   "mimetype": "text/x-python",
   "name": "python",
   "nbconvert_exporter": "python",
   "pygments_lexer": "ipython3",
   "version": "3.7.4"
  }
 },
 "nbformat": 4,
 "nbformat_minor": 2
}
