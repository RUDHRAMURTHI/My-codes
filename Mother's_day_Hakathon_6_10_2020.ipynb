{
  "nbformat": 4,
  "nbformat_minor": 0,
  "metadata": {
    "kernelspec": {
      "display_name": "Python 3",
      "language": "python",
      "name": "python3"
    },
    "language_info": {
      "codemirror_mode": {
        "name": "ipython",
        "version": 3
      },
      "file_extension": ".py",
      "mimetype": "text/x-python",
      "name": "python",
      "nbconvert_exporter": "python",
      "pygments_lexer": "ipython3",
      "version": "3.7.7"
    },
    "colab": {
      "name": "Mother's day Hakathon_6/10/2020.ipynb",
      "provenance": [],
      "collapsed_sections": [
        "W_-IE2kt3I16",
        "vQxLbeCt3I3v",
        "u1tWIuIK3I4j",
        "SFj8SH8l3I5I"
      ],
      "include_colab_link": true
    },
    "accelerator": "GPU"
  },
  "cells": [
    {
      "cell_type": "markdown",
      "metadata": {
        "id": "view-in-github",
        "colab_type": "text"
      },
      "source": [
        "<a href=\"https://colab.research.google.com/github/RUDHRAMURTHI/My-codes/blob/master/Mother's_day_Hakathon_6_10_2020.ipynb\" target=\"_parent\"><img src=\"https://colab.research.google.com/assets/colab-badge.svg\" alt=\"Open In Colab\"/></a>"
      ]
    },
    {
      "cell_type": "code",
      "metadata": {
        "id": "2O92ub6k3It9",
        "colab_type": "code",
        "colab": {}
      },
      "source": [
        "import pandas as pd\n",
        "import numpy as np\n",
        "import nltk\n",
        "import os\n",
        "from bs4 import BeautifulSoup\n",
        "import string\n",
        "from nltk.corpus import stopwords\n",
        "import re"
      ],
      "execution_count": 0,
      "outputs": []
    },
    {
      "cell_type": "code",
      "metadata": {
        "id": "SgYOK0kP3IuL",
        "colab_type": "code",
        "colab": {}
      },
      "source": [
        "import matplotlib.pyplot as plt\n",
        "%matplotlib inline"
      ],
      "execution_count": 0,
      "outputs": []
    },
    {
      "cell_type": "code",
      "metadata": {
        "id": "-0d3xfv13IuU",
        "colab_type": "code",
        "colab": {
          "base_uri": "https://localhost:8080/",
          "height": 34
        },
        "outputId": "4fbb2d01-6b0f-40b8-bf65-20f266267d6c"
      },
      "source": [
        "os.listdir()"
      ],
      "execution_count": 3,
      "outputs": [
        {
          "output_type": "execute_result",
          "data": {
            "text/plain": [
              "['.config', 'test.csv', 'train.csv', 'sample_data']"
            ]
          },
          "metadata": {
            "tags": []
          },
          "execution_count": 3
        }
      ]
    },
    {
      "cell_type": "code",
      "metadata": {
        "id": "6a3uhpH45Fka",
        "colab_type": "code",
        "colab": {
          "base_uri": "https://localhost:8080/",
          "height": 34
        },
        "outputId": "ff2a0d08-c7a0-4dc0-c512-b03f771d851d"
      },
      "source": [
        "os.getcwd()"
      ],
      "execution_count": 4,
      "outputs": [
        {
          "output_type": "execute_result",
          "data": {
            "text/plain": [
              "'/content'"
            ]
          },
          "metadata": {
            "tags": []
          },
          "execution_count": 4
        }
      ]
    },
    {
      "cell_type": "code",
      "metadata": {
        "id": "9U_a57ur3Iui",
        "colab_type": "code",
        "colab": {}
      },
      "source": [
        "pd.set_option('display.max_columns', None)\n",
        "pd.set_option('display.max_rows', None)"
      ],
      "execution_count": 0,
      "outputs": []
    },
    {
      "cell_type": "code",
      "metadata": {
        "id": "4QqjnUaW3Iuq",
        "colab_type": "code",
        "colab": {}
      },
      "source": [
        "data_train = pd.read_csv(\"train.csv\")"
      ],
      "execution_count": 0,
      "outputs": []
    },
    {
      "cell_type": "code",
      "metadata": {
        "id": "bZWWa_je3Iuz",
        "colab_type": "code",
        "colab": {
          "base_uri": "https://localhost:8080/",
          "height": 204
        },
        "outputId": "4a5ba8e5-e0f7-44e8-e4b0-ca454f392b03"
      },
      "source": [
        "data_train.head()"
      ],
      "execution_count": 7,
      "outputs": [
        {
          "output_type": "execute_result",
          "data": {
            "text/html": [
              "<div>\n",
              "<style scoped>\n",
              "    .dataframe tbody tr th:only-of-type {\n",
              "        vertical-align: middle;\n",
              "    }\n",
              "\n",
              "    .dataframe tbody tr th {\n",
              "        vertical-align: top;\n",
              "    }\n",
              "\n",
              "    .dataframe thead th {\n",
              "        text-align: right;\n",
              "    }\n",
              "</style>\n",
              "<table border=\"1\" class=\"dataframe\">\n",
              "  <thead>\n",
              "    <tr style=\"text-align: right;\">\n",
              "      <th></th>\n",
              "      <th>id</th>\n",
              "      <th>original_text</th>\n",
              "      <th>lang</th>\n",
              "      <th>retweet_count</th>\n",
              "      <th>original_author</th>\n",
              "      <th>sentiment_class</th>\n",
              "    </tr>\n",
              "  </thead>\n",
              "  <tbody>\n",
              "    <tr>\n",
              "      <th>0</th>\n",
              "      <td>1.245025e+18</td>\n",
              "      <td>Happy #MothersDay to all you amazing mothers o...</td>\n",
              "      <td>en</td>\n",
              "      <td>0</td>\n",
              "      <td>BeenXXPired</td>\n",
              "      <td>0</td>\n",
              "    </tr>\n",
              "    <tr>\n",
              "      <th>1</th>\n",
              "      <td>1.245759e+18</td>\n",
              "      <td>Happy Mothers Day Mum - I'm sorry I can't be t...</td>\n",
              "      <td>en</td>\n",
              "      <td>1</td>\n",
              "      <td>FestiveFeeling</td>\n",
              "      <td>0</td>\n",
              "    </tr>\n",
              "    <tr>\n",
              "      <th>2</th>\n",
              "      <td>1.246087e+18</td>\n",
              "      <td>Happy mothers day To all This doing a mothers ...</td>\n",
              "      <td>en</td>\n",
              "      <td>0</td>\n",
              "      <td>KrisAllenSak</td>\n",
              "      <td>-1</td>\n",
              "    </tr>\n",
              "    <tr>\n",
              "      <th>3</th>\n",
              "      <td>1.244803e+18</td>\n",
              "      <td>Happy mothers day to this beautiful woman...ro...</td>\n",
              "      <td>en</td>\n",
              "      <td>0</td>\n",
              "      <td>Queenuchee</td>\n",
              "      <td>0</td>\n",
              "    </tr>\n",
              "    <tr>\n",
              "      <th>4</th>\n",
              "      <td>1.244876e+18</td>\n",
              "      <td>Remembering the 3 most amazing ladies who made...</td>\n",
              "      <td>en</td>\n",
              "      <td>0</td>\n",
              "      <td>brittan17446794</td>\n",
              "      <td>-1</td>\n",
              "    </tr>\n",
              "  </tbody>\n",
              "</table>\n",
              "</div>"
            ],
            "text/plain": [
              "             id                                      original_text lang  \\\n",
              "0  1.245025e+18  Happy #MothersDay to all you amazing mothers o...   en   \n",
              "1  1.245759e+18  Happy Mothers Day Mum - I'm sorry I can't be t...   en   \n",
              "2  1.246087e+18  Happy mothers day To all This doing a mothers ...   en   \n",
              "3  1.244803e+18  Happy mothers day to this beautiful woman...ro...   en   \n",
              "4  1.244876e+18  Remembering the 3 most amazing ladies who made...   en   \n",
              "\n",
              "  retweet_count  original_author  sentiment_class  \n",
              "0             0      BeenXXPired                0  \n",
              "1             1   FestiveFeeling                0  \n",
              "2             0     KrisAllenSak               -1  \n",
              "3             0       Queenuchee                0  \n",
              "4             0  brittan17446794               -1  "
            ]
          },
          "metadata": {
            "tags": []
          },
          "execution_count": 7
        }
      ]
    },
    {
      "cell_type": "code",
      "metadata": {
        "id": "dWCUHOaJ3IvA",
        "colab_type": "code",
        "colab": {
          "base_uri": "https://localhost:8080/",
          "height": 54
        },
        "outputId": "52f24489-5258-4ac4-bd92-3c1f499bca8f"
      },
      "source": [
        "data_train.original_text[101]"
      ],
      "execution_count": 8,
      "outputs": [
        {
          "output_type": "execute_result",
          "data": {
            "text/plain": [
              "'Happy Mother’s Day to a Super Mum, from your Superhero Son @capamerica4hire hope you have the best day! #HappyMothersDay #MothersDay #SuperMum #IAmCaptainAmericaForHire #CaptainAmerica #Smiles #Love #Family #MyMum #Mother #Son #LuckyBoy pic.twitter.com/c369vciCLi'"
            ]
          },
          "metadata": {
            "tags": []
          },
          "execution_count": 8
        }
      ]
    },
    {
      "cell_type": "code",
      "metadata": {
        "id": "0qvF1kmo3IvM",
        "colab_type": "code",
        "colab": {
          "base_uri": "https://localhost:8080/",
          "height": 204
        },
        "outputId": "b49ff24b-2832-43c4-dd2e-a293c3ef54d7"
      },
      "source": [
        "data_train[[\"original_text\",\"original_author\"]].head()"
      ],
      "execution_count": 9,
      "outputs": [
        {
          "output_type": "execute_result",
          "data": {
            "text/html": [
              "<div>\n",
              "<style scoped>\n",
              "    .dataframe tbody tr th:only-of-type {\n",
              "        vertical-align: middle;\n",
              "    }\n",
              "\n",
              "    .dataframe tbody tr th {\n",
              "        vertical-align: top;\n",
              "    }\n",
              "\n",
              "    .dataframe thead th {\n",
              "        text-align: right;\n",
              "    }\n",
              "</style>\n",
              "<table border=\"1\" class=\"dataframe\">\n",
              "  <thead>\n",
              "    <tr style=\"text-align: right;\">\n",
              "      <th></th>\n",
              "      <th>original_text</th>\n",
              "      <th>original_author</th>\n",
              "    </tr>\n",
              "  </thead>\n",
              "  <tbody>\n",
              "    <tr>\n",
              "      <th>0</th>\n",
              "      <td>Happy #MothersDay to all you amazing mothers o...</td>\n",
              "      <td>BeenXXPired</td>\n",
              "    </tr>\n",
              "    <tr>\n",
              "      <th>1</th>\n",
              "      <td>Happy Mothers Day Mum - I'm sorry I can't be t...</td>\n",
              "      <td>FestiveFeeling</td>\n",
              "    </tr>\n",
              "    <tr>\n",
              "      <th>2</th>\n",
              "      <td>Happy mothers day To all This doing a mothers ...</td>\n",
              "      <td>KrisAllenSak</td>\n",
              "    </tr>\n",
              "    <tr>\n",
              "      <th>3</th>\n",
              "      <td>Happy mothers day to this beautiful woman...ro...</td>\n",
              "      <td>Queenuchee</td>\n",
              "    </tr>\n",
              "    <tr>\n",
              "      <th>4</th>\n",
              "      <td>Remembering the 3 most amazing ladies who made...</td>\n",
              "      <td>brittan17446794</td>\n",
              "    </tr>\n",
              "  </tbody>\n",
              "</table>\n",
              "</div>"
            ],
            "text/plain": [
              "                                       original_text  original_author\n",
              "0  Happy #MothersDay to all you amazing mothers o...      BeenXXPired\n",
              "1  Happy Mothers Day Mum - I'm sorry I can't be t...   FestiveFeeling\n",
              "2  Happy mothers day To all This doing a mothers ...     KrisAllenSak\n",
              "3  Happy mothers day to this beautiful woman...ro...       Queenuchee\n",
              "4  Remembering the 3 most amazing ladies who made...  brittan17446794"
            ]
          },
          "metadata": {
            "tags": []
          },
          "execution_count": 9
        }
      ]
    },
    {
      "cell_type": "code",
      "metadata": {
        "id": "8eTSyayk3IvS",
        "colab_type": "code",
        "colab": {
          "base_uri": "https://localhost:8080/",
          "height": 54
        },
        "outputId": "3f888475-3ccf-46f5-8620-4b0203bcbbfb"
      },
      "source": [
        "data_train.original_text[0]"
      ],
      "execution_count": 10,
      "outputs": [
        {
          "output_type": "execute_result",
          "data": {
            "text/plain": [
              "\"Happy #MothersDay to all you amazing mothers out there! I know it's hard not being able to see your mothers today but it's on all of us to do what we can to protect the most vulnerable members of our society. #BeatCoronaVirus pic.twitter.com/va4nFjFQ5B\""
            ]
          },
          "metadata": {
            "tags": []
          },
          "execution_count": 10
        }
      ]
    },
    {
      "cell_type": "code",
      "metadata": {
        "id": "Wo0GpRbV3Ivb",
        "colab_type": "code",
        "colab": {
          "base_uri": "https://localhost:8080/",
          "height": 54
        },
        "outputId": "d7ee6bad-d162-420b-b120-3adf8630c8e8"
      },
      "source": [
        "re.sub(r'pic.twitter.com/[\\w]*',\"\", data_train.original_text[0])"
      ],
      "execution_count": 11,
      "outputs": [
        {
          "output_type": "execute_result",
          "data": {
            "text/plain": [
              "\"Happy #MothersDay to all you amazing mothers out there! I know it's hard not being able to see your mothers today but it's on all of us to do what we can to protect the most vulnerable members of our society. #BeatCoronaVirus \""
            ]
          },
          "metadata": {
            "tags": []
          },
          "execution_count": 11
        }
      ]
    },
    {
      "cell_type": "markdown",
      "metadata": {
        "id": "s0I3jKrx3Ivg",
        "colab_type": "text"
      },
      "source": [
        "#### Analysing sentiment distribution"
      ]
    },
    {
      "cell_type": "code",
      "metadata": {
        "id": "KSgF0xk_3Ivh",
        "colab_type": "code",
        "colab": {
          "base_uri": "https://localhost:8080/",
          "height": 71
        },
        "outputId": "dca339a0-7a37-4987-ca91-337d7b90d0cb"
      },
      "source": [
        "import seaborn as sns"
      ],
      "execution_count": 12,
      "outputs": [
        {
          "output_type": "stream",
          "text": [
            "/usr/local/lib/python3.6/dist-packages/statsmodels/tools/_testing.py:19: FutureWarning: pandas.util.testing is deprecated. Use the functions in the public API at pandas.testing instead.\n",
            "  import pandas.util.testing as tm\n"
          ],
          "name": "stderr"
        }
      ]
    },
    {
      "cell_type": "code",
      "metadata": {
        "id": "T35yMJtq3Ivp",
        "colab_type": "code",
        "colab": {
          "base_uri": "https://localhost:8080/",
          "height": 297
        },
        "outputId": "31be8902-db6a-42e0-a347-38b06410c4b9"
      },
      "source": [
        "sns.countplot(x=\"sentiment_class\",data=data_train)"
      ],
      "execution_count": 13,
      "outputs": [
        {
          "output_type": "execute_result",
          "data": {
            "text/plain": [
              "<matplotlib.axes._subplots.AxesSubplot at 0x7f808930a7b8>"
            ]
          },
          "metadata": {
            "tags": []
          },
          "execution_count": 13
        },
        {
          "output_type": "display_data",
          "data": {
            "image/png": "[encoded data removed]",
            "text/plain": [
              "<Figure size 432x288 with 1 Axes>"
            ]
          },
          "metadata": {
            "tags": [],
            "needs_background": "light"
          }
        }
      ]
    },
    {
      "cell_type": "code",
      "metadata": {
        "id": "f5sisgC73Iv3",
        "colab_type": "code",
        "colab": {
          "base_uri": "https://localhost:8080/",
          "height": 34
        },
        "outputId": "31b0cc87-bd2f-40a0-cafc-f7da5a2ec2f0"
      },
      "source": [
        "data_train.shape"
      ],
      "execution_count": 14,
      "outputs": [
        {
          "output_type": "execute_result",
          "data": {
            "text/plain": [
              "(3235, 6)"
            ]
          },
          "metadata": {
            "tags": []
          },
          "execution_count": 14
        }
      ]
    },
    {
      "cell_type": "markdown",
      "metadata": {
        "id": "YLLbUtCn3Iv7",
        "colab_type": "text"
      },
      "source": [
        "#### Handling Twitter picture Urls"
      ]
    },
    {
      "cell_type": "code",
      "metadata": {
        "id": "Ow6izNfS3Iv8",
        "colab_type": "code",
        "colab": {}
      },
      "source": [
        "import re\n",
        "def cleaning_PicURL (text):\n",
        "    text = re.sub(r'pic.twitter.com/[\\w]*',\"\", text)\n",
        "    return text"
      ],
      "execution_count": 0,
      "outputs": []
    },
    {
      "cell_type": "code",
      "metadata": {
        "id": "XvOLWoCe3IwB",
        "colab_type": "code",
        "colab": {}
      },
      "source": [
        "data_train[\"original_text\"] = data_train[\"original_text\"].apply(lambda x: cleaning_PicURL(x))"
      ],
      "execution_count": 0,
      "outputs": []
    },
    {
      "cell_type": "code",
      "metadata": {
        "id": "TMoVZKto3IwH",
        "colab_type": "code",
        "colab": {
          "base_uri": "https://localhost:8080/",
          "height": 34
        },
        "outputId": "2e3817b2-6536-467d-848b-d6a804f1f7bc"
      },
      "source": [
        "re.sub(r'pic.twitter.com/[\\w]*',\"\", \"test pic.twitter.com/va4nFjFQ5B\")"
      ],
      "execution_count": 17,
      "outputs": [
        {
          "output_type": "execute_result",
          "data": {
            "text/plain": [
              "'test '"
            ]
          },
          "metadata": {
            "tags": []
          },
          "execution_count": 17
        }
      ]
    },
    {
      "cell_type": "code",
      "metadata": {
        "id": "EQalgZez3IwL",
        "colab_type": "code",
        "colab": {
          "base_uri": "https://localhost:8080/",
          "height": 54
        },
        "outputId": "ad35a326-d225-45aa-84d3-f13f475d8589"
      },
      "source": [
        "data_train.original_text[0]"
      ],
      "execution_count": 18,
      "outputs": [
        {
          "output_type": "execute_result",
          "data": {
            "text/plain": [
              "\"Happy #MothersDay to all you amazing mothers out there! I know it's hard not being able to see your mothers today but it's on all of us to do what we can to protect the most vulnerable members of our society. #BeatCoronaVirus \""
            ]
          },
          "metadata": {
            "tags": []
          },
          "execution_count": 18
        }
      ]
    },
    {
      "cell_type": "code",
      "metadata": {
        "id": "KBRdjGxN3IwQ",
        "colab_type": "code",
        "colab": {
          "base_uri": "https://localhost:8080/",
          "height": 54
        },
        "outputId": "7d99cf87-81a0-4ab2-ffa9-1b75998e32e5"
      },
      "source": [
        "text =data_train.original_text[123]\n",
        "text"
      ],
      "execution_count": 19,
      "outputs": [
        {
          "output_type": "execute_result",
          "data": {
            "text/plain": [
              "\"Happy Mother's day to all the Mum's out there today! It is a very different Mother's day but nothing will change how much we love you. #mothersday #love #life #mum #mummy #lovemum #aberdeenphotographer … https://www. instagram.com/p/B-CvqP3H10R/ ?igshid=1chcw74wpkk2z …\""
            ]
          },
          "metadata": {
            "tags": []
          },
          "execution_count": 19
        }
      ]
    },
    {
      "cell_type": "code",
      "metadata": {
        "id": "-l2agmzI3Iwa",
        "colab_type": "code",
        "colab": {
          "base_uri": "https://localhost:8080/",
          "height": 54
        },
        "outputId": "a363486e-a81c-4816-8e4d-3bc1d68d1baa"
      },
      "source": [
        "re.sub(r\"https?://[A-Za-z0-9./\\W\\s]*\",\"\", text)"
      ],
      "execution_count": 20,
      "outputs": [
        {
          "output_type": "execute_result",
          "data": {
            "text/plain": [
              "\"Happy Mother's day to all the Mum's out there today! It is a very different Mother's day but nothing will change how much we love you. #mothersday #love #life #mum #mummy #lovemum #aberdeenphotographer … \""
            ]
          },
          "metadata": {
            "tags": []
          },
          "execution_count": 20
        }
      ]
    },
    {
      "cell_type": "code",
      "metadata": {
        "id": "cLpzMlIp3Iwe",
        "colab_type": "code",
        "colab": {
          "base_uri": "https://localhost:8080/",
          "height": 54
        },
        "outputId": "08cffe08-30b5-4b7e-df44-c93f1d7a4ff9"
      },
      "source": [
        "data_train.original_text[101]"
      ],
      "execution_count": 21,
      "outputs": [
        {
          "output_type": "execute_result",
          "data": {
            "text/plain": [
              "'Happy Mother’s Day to a Super Mum, from your Superhero Son @capamerica4hire hope you have the best day! #HappyMothersDay #MothersDay #SuperMum #IAmCaptainAmericaForHire #CaptainAmerica #Smiles #Love #Family #MyMum #Mother #Son #LuckyBoy '"
            ]
          },
          "metadata": {
            "tags": []
          },
          "execution_count": 21
        }
      ]
    },
    {
      "cell_type": "code",
      "metadata": {
        "id": "PWo1Nu7u3Iwm",
        "colab_type": "code",
        "colab": {
          "base_uri": "https://localhost:8080/",
          "height": 54
        },
        "outputId": "61a5e487-13f2-4926-9ff4-f01b8282bb22"
      },
      "source": [
        "data_train.original_text[684]"
      ],
      "execution_count": 22,
      "outputs": [
        {
          "output_type": "execute_result",
          "data": {
            "text/plain": [
              "'#CoronavirusOutbreak #CancelLabourLeaderElection #StayHomeSaveLives #lockdownUKnow #covid19uk #ToryShambles #BorisJohnsonShouldNotBePM #BorisResign On a happier note, happy mothers day to all the amazing mothers out there.'"
            ]
          },
          "metadata": {
            "tags": []
          },
          "execution_count": 22
        }
      ]
    },
    {
      "cell_type": "markdown",
      "metadata": {
        "id": "2vBXEk_h3Iwr",
        "colab_type": "text"
      },
      "source": [
        "### removing Emojis"
      ]
    },
    {
      "cell_type": "code",
      "metadata": {
        "id": "RjP4USMa6mc-",
        "colab_type": "code",
        "colab": {
          "base_uri": "https://localhost:8080/",
          "height": 187
        },
        "outputId": "36155579-4ede-4946-df4d-a73bceb2f57a"
      },
      "source": [
        "pip install emoji"
      ],
      "execution_count": 23,
      "outputs": [
        {
          "output_type": "stream",
          "text": [
            "Collecting emoji\n",
            "\u001b[?25l  Downloading https://files.pythonhosted.org/packages/40/8d/521be7f0091fe0f2ae690cc044faf43e3445e0ff33c574eae752dd7e39fa/emoji-0.5.4.tar.gz (43kB)\n",
            "\r\u001b[K     |███████▌                        | 10kB 27.1MB/s eta 0:00:01\r\u001b[K     |███████████████                 | 20kB 34.1MB/s eta 0:00:01\r\u001b[K     |██████████████████████▋         | 30kB 39.7MB/s eta 0:00:01\r\u001b[K     |██████████████████████████████▏ | 40kB 38.8MB/s eta 0:00:01\r\u001b[K     |████████████████████████████████| 51kB 7.6MB/s \n",
            "\u001b[?25hBuilding wheels for collected packages: emoji\n",
            "  Building wheel for emoji (setup.py) ... \u001b[?25l\u001b[?25hdone\n",
            "  Created wheel for emoji: filename=emoji-0.5.4-cp36-none-any.whl size=42176 sha256=79bbdc49c2624ff406f22d789501f33fad3967f0d83df99e3c6426d753205ffa\n",
            "  Stored in directory: /root/.cache/pip/wheels/2a/a9/0a/4f8e8cce8074232aba240caca3fade315bb49fac68808d1a9c\n",
            "Successfully built emoji\n",
            "Installing collected packages: emoji\n",
            "Successfully installed emoji-0.5.4\n"
          ],
          "name": "stdout"
        }
      ]
    },
    {
      "cell_type": "code",
      "metadata": {
        "id": "CaO-Z4gc3Iws",
        "colab_type": "code",
        "colab": {}
      },
      "source": [
        "import emoji\n",
        "def give_emoji_free_text(text):\n",
        "    allchars = [str for str in text]\n",
        "    emoji_list = [c for c in allchars if c in emoji.UNICODE_EMOJI]\n",
        "    clean_text = ' '.join([str for str in text.split() if not any(i in str for i in emoji_list)])\n",
        "    return clean_text"
      ],
      "execution_count": 0,
      "outputs": []
    },
    {
      "cell_type": "code",
      "metadata": {
        "id": "rF4mvH9P3Iww",
        "colab_type": "code",
        "colab": {}
      },
      "source": [
        "data_train[\"original_text\"] = data_train[\"original_text\"].apply(lambda x: give_emoji_free_text(x))"
      ],
      "execution_count": 0,
      "outputs": []
    },
    {
      "cell_type": "markdown",
      "metadata": {
        "id": "WBJx22gB3Iw2",
        "colab_type": "text"
      },
      "source": [
        "### Translating every tweet to english"
      ]
    },
    {
      "cell_type": "code",
      "metadata": {
        "id": "MdIs4wto73de",
        "colab_type": "code",
        "colab": {
          "base_uri": "https://localhost:8080/",
          "height": 255
        },
        "outputId": "b6774c70-cc15-4389-befd-934f4784e463"
      },
      "source": [
        "pip install googletrans"
      ],
      "execution_count": 26,
      "outputs": [
        {
          "output_type": "stream",
          "text": [
            "Collecting googletrans\n",
            "  Downloading https://files.pythonhosted.org/packages/fd/f0/a22d41d3846d1f46a4f20086141e0428ccc9c6d644aacbfd30990cf46886/googletrans-2.4.0.tar.gz\n",
            "Requirement already satisfied: requests in /usr/local/lib/python3.6/dist-packages (from googletrans) (2.23.0)\n",
            "Requirement already satisfied: urllib3!=1.25.0,!=1.25.1,<1.26,>=1.21.1 in /usr/local/lib/python3.6/dist-packages (from requests->googletrans) (1.24.3)\n",
            "Requirement already satisfied: certifi>=2017.4.17 in /usr/local/lib/python3.6/dist-packages (from requests->googletrans) (2020.4.5.1)\n",
            "Requirement already satisfied: idna<3,>=2.5 in /usr/local/lib/python3.6/dist-packages (from requests->googletrans) (2.9)\n",
            "Requirement already satisfied: chardet<4,>=3.0.2 in /usr/local/lib/python3.6/dist-packages (from requests->googletrans) (3.0.4)\n",
            "Building wheels for collected packages: googletrans\n",
            "  Building wheel for googletrans (setup.py) ... \u001b[?25l\u001b[?25hdone\n",
            "  Created wheel for googletrans: filename=googletrans-2.4.0-cp36-none-any.whl size=15777 sha256=6edd21d8c8c9dd867aa3f04a36954c4e0db525ed9a23d2d5236dbae5eec636b0\n",
            "  Stored in directory: /root/.cache/pip/wheels/50/d6/e7/a8efd5f2427d5eb258070048718fa56ee5ac57fd6f53505f95\n",
            "Successfully built googletrans\n",
            "Installing collected packages: googletrans\n",
            "Successfully installed googletrans-2.4.0\n"
          ],
          "name": "stdout"
        }
      ]
    },
    {
      "cell_type": "code",
      "metadata": {
        "id": "onvsyh773Iw3",
        "colab_type": "code",
        "colab": {}
      },
      "source": [
        "import googletrans\n",
        "from googletrans import Translator\n",
        "translator = Translator()"
      ],
      "execution_count": 0,
      "outputs": []
    },
    {
      "cell_type": "code",
      "metadata": {
        "id": "ckzFXzcp3Iw7",
        "colab_type": "code",
        "colab": {
          "base_uri": "https://localhost:8080/",
          "height": 54
        },
        "outputId": "d16e5bc9-308c-423b-feaa-5aef5c2669b3"
      },
      "source": [
        "text = data_train.original_text[683]\n",
        "text"
      ],
      "execution_count": 28,
      "outputs": [
        {
          "output_type": "execute_result",
          "data": {
            "text/plain": [
              "\"كل عام وجميع أمهات العالم بخير Happy Mother's day . #يوم_الام #عيد_الام #أمي #يوم #الام #يوم_الام_العالمي #امي #جنتي #سعادتي #ماما #الأم #يوم_الأم #عيد_الأم #mothersday #happymothersday #motherday #mom #mommy #happymom #motherhood #al_graphy #media #graphic\""
            ]
          },
          "metadata": {
            "tags": []
          },
          "execution_count": 28
        }
      ]
    },
    {
      "cell_type": "code",
      "metadata": {
        "id": "A7QrPRfm3IxD",
        "colab_type": "code",
        "colab": {
          "base_uri": "https://localhost:8080/",
          "height": 54
        },
        "outputId": "59b94133-20b9-4e1d-db44-b296debe170c"
      },
      "source": [
        "translator.translate(text,dest=\"en\").text"
      ],
      "execution_count": 29,
      "outputs": [
        {
          "output_type": "execute_result",
          "data": {
            "text/plain": [
              "\"Every year all the mothers of the world's fine Happy Mother's day. # # Aom_alam Aid_alam Mom # # # Mother Day # # Aom_alam_alaalmi Mom # # Jannati happiness # # Mama Mother # # Aom_alom Aid_alom #mothersday #happymothersday #motherday #mom #mommy #happymom #motherhood #al_graphy #media #graphic\""
            ]
          },
          "metadata": {
            "tags": []
          },
          "execution_count": 29
        }
      ]
    },
    {
      "cell_type": "code",
      "metadata": {
        "id": "4pEvjUIG3IxK",
        "colab_type": "code",
        "colab": {
          "base_uri": "https://localhost:8080/",
          "height": 34
        },
        "outputId": "9dc845e6-90c1-40a1-badb-395937edb6d2"
      },
      "source": [
        "text = data_train.original_text[258]\n",
        "text"
      ],
      "execution_count": 30,
      "outputs": [
        {
          "output_type": "execute_result",
          "data": {
            "text/plain": [
              "'Our Mothers are rare gems and need to be celebrated not just today but everyday. Happy #MothersDay from all of us at Mediqués Plus by Meadowhall hospital.'"
            ]
          },
          "metadata": {
            "tags": []
          },
          "execution_count": 30
        }
      ]
    },
    {
      "cell_type": "code",
      "metadata": {
        "id": "Ntme2JQM3IxO",
        "colab_type": "code",
        "colab": {
          "base_uri": "https://localhost:8080/",
          "height": 34
        },
        "outputId": "d3cd58eb-fba4-4620-8d92-31f378387d9a"
      },
      "source": [
        "translator.translate(text).text"
      ],
      "execution_count": 31,
      "outputs": [
        {
          "output_type": "execute_result",
          "data": {
            "text/plain": [
              "'Our Mothers are rare gems and need to be celebrated not just today but everyday. Happy #MothersDay from all of us at Mediqués Plus by Meadowhall hospital.'"
            ]
          },
          "metadata": {
            "tags": []
          },
          "execution_count": 31
        }
      ]
    },
    {
      "cell_type": "code",
      "metadata": {
        "id": "qnVZMc1Z3IxT",
        "colab_type": "code",
        "colab": {
          "base_uri": "https://localhost:8080/",
          "height": 54
        },
        "outputId": "a73bcad4-c68d-432d-fbdc-68bff5ebb886"
      },
      "source": [
        "'''\n",
        "def my_translate(x):\n",
        "    translator = googletrans.Translator()\n",
        "    try:\n",
        "        x = translator.translate(x).text\n",
        "    except Exception as e:\n",
        "        print(str(e))\n",
        "    return(x)\n",
        "'''"
      ],
      "execution_count": 32,
      "outputs": [
        {
          "output_type": "execute_result",
          "data": {
            "text/plain": [
              "'\\ndef my_translate(x):\\n    translator = googletrans.Translator()\\n    try:\\n        x = translator.translate(x).text\\n    except Exception as e:\\n        print(str(e))\\n    return(x)\\n'"
            ]
          },
          "metadata": {
            "tags": []
          },
          "execution_count": 32
        }
      ]
    },
    {
      "cell_type": "code",
      "metadata": {
        "id": "caycgGlP3IxY",
        "colab_type": "code",
        "colab": {}
      },
      "source": [
        "#Trans = data_train[\"original_text\"].apply(lambda x: my_translate(x))\n",
        "#Trans.head()\n"
      ],
      "execution_count": 0,
      "outputs": []
    },
    {
      "cell_type": "markdown",
      "metadata": {
        "id": "VDD7lZOZ3Ixf",
        "colab_type": "text"
      },
      "source": [
        "##### Removing XML components if any"
      ]
    },
    {
      "cell_type": "code",
      "metadata": {
        "id": "6i_jW46I3Ixg",
        "colab_type": "code",
        "colab": {}
      },
      "source": [
        "def remove_XML(text):\n",
        "    soup = BeautifulSoup(text, 'lxml')\n",
        "    html_free = soup.get_text()\n",
        "    return html_free"
      ],
      "execution_count": 0,
      "outputs": []
    },
    {
      "cell_type": "code",
      "metadata": {
        "id": "r0bnJXKL3Ixk",
        "colab_type": "code",
        "colab": {}
      },
      "source": [
        "data_train[\"original_text\"] = data_train[\"original_text\"].apply(lambda x: remove_XML(x))"
      ],
      "execution_count": 0,
      "outputs": []
    },
    {
      "cell_type": "code",
      "metadata": {
        "id": "vI5qkGsj3Ixs",
        "colab_type": "code",
        "colab": {
          "base_uri": "https://localhost:8080/",
          "height": 34
        },
        "outputId": "6413f193-352d-4b50-c2fc-d5a1fd820acf"
      },
      "source": [
        "data_train.original_text[20]"
      ],
      "execution_count": 36,
      "outputs": [
        {
          "output_type": "execute_result",
          "data": {
            "text/plain": [
              "\"The hands that always lift's me when i fall. The person that always supports me for every second of my life. My Queen my everything my mother. HAPPY MOTHERS DAY\""
            ]
          },
          "metadata": {
            "tags": []
          },
          "execution_count": 36
        }
      ]
    },
    {
      "cell_type": "markdown",
      "metadata": {
        "id": "sIrxAfoZ3Ixx",
        "colab_type": "text"
      },
      "source": [
        "#### Cleaning the text"
      ]
    },
    {
      "cell_type": "code",
      "metadata": {
        "id": "71VQ2ZRf3Ixy",
        "colab_type": "code",
        "colab": {}
      },
      "source": [
        "def cleaning_text (text):\n",
        "    text = re.sub(r\"RT @[\\w]*:\",\"\", text) #Removing retweet\n",
        "    text = re.sub(r\"@[\\w]*\",\"\", text) #remove twitter handles (@xxx)\n",
        "    text = re.sub(r\"https?://[A-Za-z0-9./\\W\\s]*\",\"\", text)\n",
        "    text = re.sub(r\"https?://[A-Za-z0-9./]*\",\"\", text) #Removing https\n",
        "    text = re.sub(r\"\\s+[a-zA-Z]\\s+\",\" \", text) #space followed by alphabet, followed by space\n",
        "    text = re.sub(r\"#[\\w]*\",\"\", text) # Removes hastag names\n",
        "    text = re.sub(r\"\\d\",\"\", text) # remove numbers\n",
        "    text = re.sub(r\"[!|:|&|;|#|(|)]\",\"\", text) # removing special characters\n",
        "    text = \"\".join([c for c in text if c not in string.punctuation]) #Remove punctuation\n",
        "    text = re.sub(r\"[^\\x00-\\x7F]+\",\"\", text) # removing non-ascii characters\n",
        "    text = text.lower() # Converting the texts to lower case\n",
        "    return text"
      ],
      "execution_count": 0,
      "outputs": []
    },
    {
      "cell_type": "code",
      "metadata": {
        "id": "HmF50Sko3Ix2",
        "colab_type": "code",
        "colab": {}
      },
      "source": [
        "data_train[\"original_text\"] = data_train[\"original_text\"].apply(lambda x: cleaning_text(x))"
      ],
      "execution_count": 0,
      "outputs": []
    },
    {
      "cell_type": "code",
      "metadata": {
        "id": "z2MwIEqJ3Ix-",
        "colab_type": "code",
        "colab": {
          "base_uri": "https://localhost:8080/",
          "height": 54
        },
        "outputId": "87db0242-cb94-406b-faff-bcc7daa31ddb"
      },
      "source": [
        "data_train.original_text[0]"
      ],
      "execution_count": 39,
      "outputs": [
        {
          "output_type": "execute_result",
          "data": {
            "text/plain": [
              "'happy  to all you amazing mothers out there know its hard not being able to see your mothers today but its on all of us to do what we can to protect the most vulnerable members of our society '"
            ]
          },
          "metadata": {
            "tags": []
          },
          "execution_count": 39
        }
      ]
    },
    {
      "cell_type": "code",
      "metadata": {
        "id": "TkhKmTXz3IyF",
        "colab_type": "code",
        "colab": {
          "base_uri": "https://localhost:8080/",
          "height": 34
        },
        "outputId": "592de0e1-d95b-4e01-81df-4f9181ced9ac"
      },
      "source": [
        "data_train.original_text[123]"
      ],
      "execution_count": 40,
      "outputs": [
        {
          "output_type": "execute_result",
          "data": {
            "text/plain": [
              "'happy mothers day to all the mums out there today it is very different mothers day but nothing will change how much we love you         '"
            ]
          },
          "metadata": {
            "tags": []
          },
          "execution_count": 40
        }
      ]
    },
    {
      "cell_type": "code",
      "metadata": {
        "id": "Kcb87Rgc3IyK",
        "colab_type": "code",
        "colab": {
          "base_uri": "https://localhost:8080/",
          "height": 54
        },
        "outputId": "05530dc3-9d6a-48ba-f95a-845b1b0741df"
      },
      "source": [
        "data_train.original_text[74]"
      ],
      "execution_count": 41,
      "outputs": [
        {
          "output_type": "execute_result",
          "data": {
            "text/plain": [
              "'happy mothers day to this beautiful woman aka my wife couldnt have asked for better woman to have kids with thank you for being so incredible all the time they appreciate you and so do i   '"
            ]
          },
          "metadata": {
            "tags": []
          },
          "execution_count": 41
        }
      ]
    },
    {
      "cell_type": "markdown",
      "metadata": {
        "id": "lmKxZ4Fs3IyQ",
        "colab_type": "text"
      },
      "source": [
        "### Tokenizing the tweets"
      ]
    },
    {
      "cell_type": "code",
      "metadata": {
        "id": "zbvmX_Zt3IyQ",
        "colab_type": "code",
        "colab": {
          "base_uri": "https://localhost:8080/",
          "height": 119
        },
        "outputId": "bffb7e04-c106-47d8-c42f-e9bb745246a3"
      },
      "source": [
        "data_train.original_text.head()"
      ],
      "execution_count": 42,
      "outputs": [
        {
          "output_type": "execute_result",
          "data": {
            "text/plain": [
              "0    happy  to all you amazing mothers out there kn...\n",
              "1    happy mothers day mum  im sorry cant be there ...\n",
              "2    happy mothers day to all this doing mothers da...\n",
              "3    happy mothers day to this beautiful womanroyal...\n",
              "4    remembering the  most amazing ladies who made ...\n",
              "Name: original_text, dtype: object"
            ]
          },
          "metadata": {
            "tags": []
          },
          "execution_count": 42
        }
      ]
    },
    {
      "cell_type": "code",
      "metadata": {
        "id": "6XY_f2kj3IyV",
        "colab_type": "code",
        "colab": {}
      },
      "source": [
        "from nltk import word_tokenize"
      ],
      "execution_count": 0,
      "outputs": []
    },
    {
      "cell_type": "code",
      "metadata": {
        "id": "JpzqhNle7nFL",
        "colab_type": "code",
        "colab": {
          "base_uri": "https://localhost:8080/",
          "height": 68
        },
        "outputId": "967739f9-72f7-4e08-b7d9-3297d0756e58"
      },
      "source": [
        "nltk.download('punkt')"
      ],
      "execution_count": 44,
      "outputs": [
        {
          "output_type": "stream",
          "text": [
            "[nltk_data] Downloading package punkt to /root/nltk_data...\n",
            "[nltk_data]   Unzipping tokenizers/punkt.zip.\n"
          ],
          "name": "stdout"
        },
        {
          "output_type": "execute_result",
          "data": {
            "text/plain": [
              "True"
            ]
          },
          "metadata": {
            "tags": []
          },
          "execution_count": 44
        }
      ]
    },
    {
      "cell_type": "code",
      "metadata": {
        "id": "hI_JJ2Bj3Iyf",
        "colab_type": "code",
        "colab": {}
      },
      "source": [
        "data_train[\"original_text\"] = data_train[\"original_text\"].apply(lambda x: word_tokenize(x))"
      ],
      "execution_count": 0,
      "outputs": []
    },
    {
      "cell_type": "code",
      "metadata": {
        "id": "HRyifNVd3Iyj",
        "colab_type": "code",
        "colab": {
          "base_uri": "https://localhost:8080/",
          "height": 204
        },
        "outputId": "6c82a1ea-468d-4b84-c62f-1d33b6ccaca0"
      },
      "source": [
        "data_train[\"original_text\"].head(10)"
      ],
      "execution_count": 46,
      "outputs": [
        {
          "output_type": "execute_result",
          "data": {
            "text/plain": [
              "0    [happy, to, all, you, amazing, mothers, out, t...\n",
              "1    [happy, mothers, day, mum, im, sorry, cant, be...\n",
              "2    [happy, mothers, day, to, all, this, doing, mo...\n",
              "3    [happy, mothers, day, to, this, beautiful, wom...\n",
              "4    [remembering, the, most, amazing, ladies, who,...\n",
              "5    [happy, mothers, day, bratz, world, familiez, ...\n",
              "6    [happy, mothers, day, to, all, you, wonderful,...\n",
              "7    [show, me, mother, of, two, as, sexy, as, rosi...\n",
              "8    [to, all, the, mothers, grandmothers, aunts, s...\n",
              "9    [to, all, the, mothers, around, the, world, ga...\n",
              "Name: original_text, dtype: object"
            ]
          },
          "metadata": {
            "tags": []
          },
          "execution_count": 46
        }
      ]
    },
    {
      "cell_type": "markdown",
      "metadata": {
        "id": "LguIbG0z3Iyr",
        "colab_type": "text"
      },
      "source": [
        "#### Removing Stopwords"
      ]
    },
    {
      "cell_type": "code",
      "metadata": {
        "id": "VWY-0dWU3Iyu",
        "colab_type": "code",
        "colab": {}
      },
      "source": [
        "def remove_stopwords(lis):\n",
        "    words = [w for w in lis if w not in stopwords.words('english')]\n",
        "    return words"
      ],
      "execution_count": 0,
      "outputs": []
    },
    {
      "cell_type": "code",
      "metadata": {
        "id": "O2K289xw_c58",
        "colab_type": "code",
        "colab": {
          "base_uri": "https://localhost:8080/",
          "height": 68
        },
        "outputId": "dfb80b87-8462-489f-fd72-e574b17d6098"
      },
      "source": [
        "nltk.download('stopwords')"
      ],
      "execution_count": 48,
      "outputs": [
        {
          "output_type": "stream",
          "text": [
            "[nltk_data] Downloading package stopwords to /root/nltk_data...\n",
            "[nltk_data]   Unzipping corpora/stopwords.zip.\n"
          ],
          "name": "stdout"
        },
        {
          "output_type": "execute_result",
          "data": {
            "text/plain": [
              "True"
            ]
          },
          "metadata": {
            "tags": []
          },
          "execution_count": 48
        }
      ]
    },
    {
      "cell_type": "code",
      "metadata": {
        "id": "4RG22G9C3Iy0",
        "colab_type": "code",
        "colab": {}
      },
      "source": [
        "data_train[\"original_text\"] = data_train[\"original_text\"].apply(lambda x: remove_stopwords(x))"
      ],
      "execution_count": 0,
      "outputs": []
    },
    {
      "cell_type": "code",
      "metadata": {
        "id": "c738smGH3Iy-",
        "colab_type": "code",
        "colab": {
          "base_uri": "https://localhost:8080/",
          "height": 204
        },
        "outputId": "c2725fc7-fa63-4038-dee7-beda779a8568"
      },
      "source": [
        "data_train[\"original_text\"].head(10)"
      ],
      "execution_count": 50,
      "outputs": [
        {
          "output_type": "execute_result",
          "data": {
            "text/plain": [
              "0    [happy, amazing, mothers, know, hard, able, se...\n",
              "1    [happy, mothers, day, mum, im, sorry, cant, br...\n",
              "2    [happy, mothers, day, mothers, days, work, tod...\n",
              "3    [happy, mothers, day, beautiful, womanroyalty,...\n",
              "4    [remembering, amazing, ladies, made, late, gra...\n",
              "5    [happy, mothers, day, bratz, world, familiez, ...\n",
              "6    [happy, mothers, day, wonderful, mums, cakecraft]\n",
              "7    [show, mother, two, sexy, rosie, happy, mother...\n",
              "8    [mothers, grandmothers, aunts, sisters, women,...\n",
              "9    [mothers, around, world, gas, health, initiati...\n",
              "Name: original_text, dtype: object"
            ]
          },
          "metadata": {
            "tags": []
          },
          "execution_count": 50
        }
      ]
    },
    {
      "cell_type": "markdown",
      "metadata": {
        "id": "g0VngovO3IzI",
        "colab_type": "text"
      },
      "source": [
        "#### Steming the the words"
      ]
    },
    {
      "cell_type": "code",
      "metadata": {
        "id": "3ACUbV9Z3IzK",
        "colab_type": "code",
        "colab": {}
      },
      "source": [
        "from nltk.stem.snowball import SnowballStemmer"
      ],
      "execution_count": 0,
      "outputs": []
    },
    {
      "cell_type": "code",
      "metadata": {
        "id": "T2Wcbmig3IzR",
        "colab_type": "code",
        "colab": {}
      },
      "source": [
        "stemmer = SnowballStemmer('english')"
      ],
      "execution_count": 0,
      "outputs": []
    },
    {
      "cell_type": "code",
      "metadata": {
        "id": "DpLRGQKU3IzW",
        "colab_type": "code",
        "colab": {}
      },
      "source": [
        "def word_stemmer(text):\n",
        "    stem_text = \" \".join([stemmer.stem(i) for i in text])\n",
        "    return(stem_text)"
      ],
      "execution_count": 0,
      "outputs": []
    },
    {
      "cell_type": "code",
      "metadata": {
        "id": "vrOmenZR3Izb",
        "colab_type": "code",
        "colab": {}
      },
      "source": [
        "data_train[\"original_text\"] = data_train[\"original_text\"].apply(lambda x: word_stemmer(x))"
      ],
      "execution_count": 0,
      "outputs": []
    },
    {
      "cell_type": "code",
      "metadata": {
        "id": "eDtS_0zx3Izi",
        "colab_type": "code",
        "colab": {
          "base_uri": "https://localhost:8080/",
          "height": 204
        },
        "outputId": "75d07164-4ec4-4f0e-8312-1234ac28d3bb"
      },
      "source": [
        "data_train[\"original_text\"].head(10)"
      ],
      "execution_count": 55,
      "outputs": [
        {
          "output_type": "execute_result",
          "data": {
            "text/plain": [
              "0    happi amaz mother know hard abl see mother tod...\n",
              "1    happi mother day mum im sorri cant bring mothe...\n",
              "2    happi mother day mother day work today quiet t...\n",
              "3    happi mother day beauti womanroyalti sooth mum...\n",
              "4    rememb amaz ladi made late grandmoth iri mum c...\n",
              "5    happi mother day bratz world familiez yasmin m...\n",
              "6                happi mother day wonder mum cakecraft\n",
              "7    show mother two sexi rosi happi mother day bea...\n",
              "8    mother grandmoth aunt sister women live care l...\n",
              "9    mother around world gas health initi wish happ...\n",
              "Name: original_text, dtype: object"
            ]
          },
          "metadata": {
            "tags": []
          },
          "execution_count": 55
        }
      ]
    },
    {
      "cell_type": "markdown",
      "metadata": {
        "id": "qQpPtPQz3Izn",
        "colab_type": "text"
      },
      "source": [
        "## Transforming the test data"
      ]
    },
    {
      "cell_type": "code",
      "metadata": {
        "id": "7TjLYgtS3Izp",
        "colab_type": "code",
        "colab": {
          "base_uri": "https://localhost:8080/",
          "height": 34
        },
        "outputId": "d0a2d8b6-7f6f-47f7-af23-653ac35e40a2"
      },
      "source": [
        "os.listdir()"
      ],
      "execution_count": 56,
      "outputs": [
        {
          "output_type": "execute_result",
          "data": {
            "text/plain": [
              "['.config', 'test.csv', 'train.csv', 'sample_data']"
            ]
          },
          "metadata": {
            "tags": []
          },
          "execution_count": 56
        }
      ]
    },
    {
      "cell_type": "code",
      "metadata": {
        "id": "HjSlnHt03Izx",
        "colab_type": "code",
        "colab": {}
      },
      "source": [
        "data_test = pd.read_csv(\"test.csv\")"
      ],
      "execution_count": 0,
      "outputs": []
    },
    {
      "cell_type": "code",
      "metadata": {
        "id": "amQK-rye3Iz5",
        "colab_type": "code",
        "colab": {
          "base_uri": "https://localhost:8080/",
          "height": 34
        },
        "outputId": "562d427c-bc92-4797-d6a5-418563b59ad3"
      },
      "source": [
        "data_test.shape"
      ],
      "execution_count": 58,
      "outputs": [
        {
          "output_type": "execute_result",
          "data": {
            "text/plain": [
              "(1387, 5)"
            ]
          },
          "metadata": {
            "tags": []
          },
          "execution_count": 58
        }
      ]
    },
    {
      "cell_type": "code",
      "metadata": {
        "id": "OnHobFw_3Iz_",
        "colab_type": "code",
        "colab": {
          "base_uri": "https://localhost:8080/",
          "height": 204
        },
        "outputId": "41f9ad83-6587-4956-8cc7-71e3933f1980"
      },
      "source": [
        "data_test.head()"
      ],
      "execution_count": 59,
      "outputs": [
        {
          "output_type": "execute_result",
          "data": {
            "text/html": [
              "<div>\n",
              "<style scoped>\n",
              "    .dataframe tbody tr th:only-of-type {\n",
              "        vertical-align: middle;\n",
              "    }\n",
              "\n",
              "    .dataframe tbody tr th {\n",
              "        vertical-align: top;\n",
              "    }\n",
              "\n",
              "    .dataframe thead th {\n",
              "        text-align: right;\n",
              "    }\n",
              "</style>\n",
              "<table border=\"1\" class=\"dataframe\">\n",
              "  <thead>\n",
              "    <tr style=\"text-align: right;\">\n",
              "      <th></th>\n",
              "      <th>id</th>\n",
              "      <th>original_text</th>\n",
              "      <th>lang</th>\n",
              "      <th>retweet_count</th>\n",
              "      <th>original_author</th>\n",
              "    </tr>\n",
              "  </thead>\n",
              "  <tbody>\n",
              "    <tr>\n",
              "      <th>0</th>\n",
              "      <td>1.246628e+18</td>\n",
              "      <td>3. Yeah, I once cooked potatoes when I was 3 y...</td>\n",
              "      <td>en</td>\n",
              "      <td>0</td>\n",
              "      <td>LToddWood</td>\n",
              "    </tr>\n",
              "    <tr>\n",
              "      <th>1</th>\n",
              "      <td>1.245898e+18</td>\n",
              "      <td>Happy Mother's Day to all the mums, step-mums,...</td>\n",
              "      <td>en</td>\n",
              "      <td>0</td>\n",
              "      <td>iiarushii</td>\n",
              "    </tr>\n",
              "    <tr>\n",
              "      <th>2</th>\n",
              "      <td>1.244717e+18</td>\n",
              "      <td>I love the people from the UK, however, when I...</td>\n",
              "      <td>en</td>\n",
              "      <td>0</td>\n",
              "      <td>andreaanderegg</td>\n",
              "    </tr>\n",
              "    <tr>\n",
              "      <th>3</th>\n",
              "      <td>1.245730e+18</td>\n",
              "      <td>Happy 81st Birthday Happy Mother’s Day to my m...</td>\n",
              "      <td>en</td>\n",
              "      <td>1</td>\n",
              "      <td>TheBookTweeters</td>\n",
              "    </tr>\n",
              "    <tr>\n",
              "      <th>4</th>\n",
              "      <td>1.244636e+18</td>\n",
              "      <td>Happy Mothers day to all those wonderful mothe...</td>\n",
              "      <td>en</td>\n",
              "      <td>0</td>\n",
              "      <td>andreaanderegg</td>\n",
              "    </tr>\n",
              "  </tbody>\n",
              "</table>\n",
              "</div>"
            ],
            "text/plain": [
              "             id                                      original_text lang  \\\n",
              "0  1.246628e+18  3. Yeah, I once cooked potatoes when I was 3 y...   en   \n",
              "1  1.245898e+18  Happy Mother's Day to all the mums, step-mums,...   en   \n",
              "2  1.244717e+18  I love the people from the UK, however, when I...   en   \n",
              "3  1.245730e+18  Happy 81st Birthday Happy Mother’s Day to my m...   en   \n",
              "4  1.244636e+18  Happy Mothers day to all those wonderful mothe...   en   \n",
              "\n",
              "  retweet_count  original_author  \n",
              "0             0        LToddWood  \n",
              "1             0        iiarushii  \n",
              "2             0   andreaanderegg  \n",
              "3             1  TheBookTweeters  \n",
              "4             0   andreaanderegg  "
            ]
          },
          "metadata": {
            "tags": []
          },
          "execution_count": 59
        }
      ]
    },
    {
      "cell_type": "code",
      "metadata": {
        "id": "2NNCZWFk3I0E",
        "colab_type": "code",
        "colab": {}
      },
      "source": [
        "data_test[\"original_text\"] = data_test[\"original_text\"].apply(lambda x: cleaning_PicURL(x))"
      ],
      "execution_count": 0,
      "outputs": []
    },
    {
      "cell_type": "code",
      "metadata": {
        "id": "0jSoEv513I0H",
        "colab_type": "code",
        "colab": {}
      },
      "source": [
        "data_test[\"original_text\"] = data_test[\"original_text\"].apply(lambda x: give_emoji_free_text(x))"
      ],
      "execution_count": 0,
      "outputs": []
    },
    {
      "cell_type": "code",
      "metadata": {
        "id": "yuhDkqUB3I0O",
        "colab_type": "code",
        "colab": {}
      },
      "source": [
        "data_test[\"original_text\"] = data_test[\"original_text\"].apply(lambda x: remove_XML(x))"
      ],
      "execution_count": 0,
      "outputs": []
    },
    {
      "cell_type": "code",
      "metadata": {
        "id": "iDsAxNEy3I0S",
        "colab_type": "code",
        "colab": {}
      },
      "source": [
        "data_test[\"original_text\"] = data_test[\"original_text\"].apply(lambda x: cleaning_text(x))"
      ],
      "execution_count": 0,
      "outputs": []
    },
    {
      "cell_type": "code",
      "metadata": {
        "id": "bdk7euTf3I0d",
        "colab_type": "code",
        "colab": {
          "base_uri": "https://localhost:8080/",
          "height": 119
        },
        "outputId": "956f4fdb-eed8-4608-930f-7894f7df45b2"
      },
      "source": [
        "data_test[\"original_text\"].head()"
      ],
      "execution_count": 64,
      "outputs": [
        {
          "output_type": "execute_result",
          "data": {
            "text/plain": [
              "0     yeah once cooked potatoes when was  years old...\n",
              "1    happy mothers day to all the mums stepmums gra...\n",
              "2    i love the people from the uk however when awo...\n",
              "3    happy st birthday happy mothers day to my mum ...\n",
              "4    happy mothers day to all those wonderful mothe...\n",
              "Name: original_text, dtype: object"
            ]
          },
          "metadata": {
            "tags": []
          },
          "execution_count": 64
        }
      ]
    },
    {
      "cell_type": "code",
      "metadata": {
        "id": "qh_TNjz53I0h",
        "colab_type": "code",
        "colab": {}
      },
      "source": [
        "data_test[\"original_text\"] = data_test[\"original_text\"].apply(lambda x: word_tokenize(x))"
      ],
      "execution_count": 0,
      "outputs": []
    },
    {
      "cell_type": "code",
      "metadata": {
        "id": "Bl2RfrbF3I0l",
        "colab_type": "code",
        "colab": {
          "base_uri": "https://localhost:8080/",
          "height": 119
        },
        "outputId": "6257f918-999c-4c0c-f44f-856bf95e02f1"
      },
      "source": [
        "data_test[\"original_text\"].head()"
      ],
      "execution_count": 66,
      "outputs": [
        {
          "output_type": "execute_result",
          "data": {
            "text/plain": [
              "0    [yeah, once, cooked, potatoes, when, was, year...\n",
              "1    [happy, mothers, day, to, all, the, mums, step...\n",
              "2    [i, love, the, people, from, the, uk, however,...\n",
              "3    [happy, st, birthday, happy, mothers, day, to,...\n",
              "4    [happy, mothers, day, to, all, those, wonderfu...\n",
              "Name: original_text, dtype: object"
            ]
          },
          "metadata": {
            "tags": []
          },
          "execution_count": 66
        }
      ]
    },
    {
      "cell_type": "code",
      "metadata": {
        "id": "P2fs2Hvw3I0p",
        "colab_type": "code",
        "colab": {}
      },
      "source": [
        "data_test[\"original_text\"] = data_test[\"original_text\"].apply(lambda x: remove_stopwords(x))"
      ],
      "execution_count": 0,
      "outputs": []
    },
    {
      "cell_type": "code",
      "metadata": {
        "id": "VGiG0wZg3I0s",
        "colab_type": "code",
        "colab": {
          "base_uri": "https://localhost:8080/",
          "height": 204
        },
        "outputId": "5e6a5836-4e03-4775-b76f-f8c024c8cc0c"
      },
      "source": [
        "data_test[\"original_text\"].head(10)"
      ],
      "execution_count": 68,
      "outputs": [
        {
          "output_type": "execute_result",
          "data": {
            "text/plain": [
              "0    [yeah, cooked, potatoes, years, old, mean, thr...\n",
              "1    [happy, mothers, day, mums, stepmums, grandmot...\n",
              "2    [love, people, uk, however, awoke, saw, trendi...\n",
              "3    [happy, st, birthday, happy, mothers, day, mum...\n",
              "4    [happy, mothers, day, wonderful, mothers, worl...\n",
              "5    [happy, mothers, day, thanks, support, mother,...\n",
              "6    [happy, sunday, ruth, happy, mothers, day, lov...\n",
              "7    [happy, mothers, day, amazing, mom, care, love...\n",
              "8    [happy, mothers, day, mum, many, could, visit,...\n",
              "9    [happy, mothering, sunday, afternoon, bed, new...\n",
              "Name: original_text, dtype: object"
            ]
          },
          "metadata": {
            "tags": []
          },
          "execution_count": 68
        }
      ]
    },
    {
      "cell_type": "code",
      "metadata": {
        "id": "_HA9nFYa3I0x",
        "colab_type": "code",
        "colab": {}
      },
      "source": [
        "data_test[\"original_text\"] = data_test[\"original_text\"].apply(lambda x: word_stemmer(x))"
      ],
      "execution_count": 0,
      "outputs": []
    },
    {
      "cell_type": "code",
      "metadata": {
        "id": "3aDurhgR3I00",
        "colab_type": "code",
        "colab": {
          "base_uri": "https://localhost:8080/",
          "height": 204
        },
        "outputId": "b4385a6b-712d-40dc-dc1d-8142fc68d2f0"
      },
      "source": [
        "data_test[\"original_text\"].head(10)"
      ],
      "execution_count": 70,
      "outputs": [
        {
          "output_type": "execute_result",
          "data": {
            "text/plain": [
              "0    yeah cook potato year old mean threw bag spud ...\n",
              "1    happi mother day mum stepmum grandmoth dad cov...\n",
              "2    love peopl uk howev awok saw trend woke americ...\n",
              "3    happi st birthday happi mother day mum cant se...\n",
              "4    happi mother day wonder mother world live pres...\n",
              "5    happi mother day thank support mother daughter...\n",
              "6    happi sunday ruth happi mother day love peac b...\n",
              "7    happi mother day amaz mom care love children m...\n",
              "8    happi mother day mum mani could visit phone so...\n",
              "9    happi mother sunday afternoon bed new book tak...\n",
              "Name: original_text, dtype: object"
            ]
          },
          "metadata": {
            "tags": []
          },
          "execution_count": 70
        }
      ]
    },
    {
      "cell_type": "markdown",
      "metadata": {
        "id": "E0rHs7-f3I03",
        "colab_type": "text"
      },
      "source": [
        "### Converting text data to numbers"
      ]
    },
    {
      "cell_type": "code",
      "metadata": {
        "id": "rpyHg_md3I04",
        "colab_type": "code",
        "colab": {}
      },
      "source": [
        "from sklearn.feature_extraction.text import TfidfVectorizer, CountVectorizer, TfidfTransformer"
      ],
      "execution_count": 0,
      "outputs": []
    },
    {
      "cell_type": "code",
      "metadata": {
        "id": "Z_XOjPk43I07",
        "colab_type": "code",
        "colab": {}
      },
      "source": [
        "tfidf_Transformer = TfidfVectorizer()"
      ],
      "execution_count": 0,
      "outputs": []
    },
    {
      "cell_type": "code",
      "metadata": {
        "id": "v_mMJPJ03I0-",
        "colab_type": "code",
        "colab": {}
      },
      "source": [
        "X_train = tfidf_Transformer.fit_transform(data_train[\"original_text\"])"
      ],
      "execution_count": 0,
      "outputs": []
    },
    {
      "cell_type": "code",
      "metadata": {
        "id": "_6y2_rD23I1G",
        "colab_type": "code",
        "colab": {
          "base_uri": "https://localhost:8080/",
          "height": 119
        },
        "outputId": "9d3a22f1-baba-4dfa-a94b-9e5eacf337e0"
      },
      "source": [
        "y_train = data_train[\"sentiment_class\"]\n",
        "y_train.head()"
      ],
      "execution_count": 74,
      "outputs": [
        {
          "output_type": "execute_result",
          "data": {
            "text/plain": [
              "0    0\n",
              "1    0\n",
              "2   -1\n",
              "3    0\n",
              "4   -1\n",
              "Name: sentiment_class, dtype: int64"
            ]
          },
          "metadata": {
            "tags": []
          },
          "execution_count": 74
        }
      ]
    },
    {
      "cell_type": "code",
      "metadata": {
        "id": "97T2TTwZ3I1L",
        "colab_type": "code",
        "colab": {}
      },
      "source": [
        "X_test = tfidf_Transformer.transform(data_test[\"original_text\"])"
      ],
      "execution_count": 0,
      "outputs": []
    },
    {
      "cell_type": "code",
      "metadata": {
        "id": "NCSm3pJd3I1Q",
        "colab_type": "code",
        "colab": {
          "base_uri": "https://localhost:8080/",
          "height": 34
        },
        "outputId": "29f7daff-e871-421a-c31c-9fbb12b752cd"
      },
      "source": [
        "X_train.shape"
      ],
      "execution_count": 76,
      "outputs": [
        {
          "output_type": "execute_result",
          "data": {
            "text/plain": [
              "(3235, 5788)"
            ]
          },
          "metadata": {
            "tags": []
          },
          "execution_count": 76
        }
      ]
    },
    {
      "cell_type": "code",
      "metadata": {
        "id": "3iXpQAly3I1W",
        "colab_type": "code",
        "colab": {
          "base_uri": "https://localhost:8080/",
          "height": 34
        },
        "outputId": "8322ed28-947d-4d05-bd0c-928c48a2070a"
      },
      "source": [
        "X_test.shape"
      ],
      "execution_count": 77,
      "outputs": [
        {
          "output_type": "execute_result",
          "data": {
            "text/plain": [
              "(1387, 5788)"
            ]
          },
          "metadata": {
            "tags": []
          },
          "execution_count": 77
        }
      ]
    },
    {
      "cell_type": "code",
      "metadata": {
        "id": "Xh8_EVIX3I1g",
        "colab_type": "code",
        "colab": {
          "base_uri": "https://localhost:8080/",
          "height": 34
        },
        "outputId": "8589962c-5968-45b0-9e66-02c0a5275df6"
      },
      "source": [
        "y_train.shape"
      ],
      "execution_count": 78,
      "outputs": [
        {
          "output_type": "execute_result",
          "data": {
            "text/plain": [
              "(3235,)"
            ]
          },
          "metadata": {
            "tags": []
          },
          "execution_count": 78
        }
      ]
    },
    {
      "cell_type": "markdown",
      "metadata": {
        "id": "KV_mpqpN3I1p",
        "colab_type": "text"
      },
      "source": [
        "## Building Modal"
      ]
    },
    {
      "cell_type": "code",
      "metadata": {
        "id": "qenTJv-w3I1q",
        "colab_type": "code",
        "colab": {}
      },
      "source": [
        "from sklearn.preprocessing import StandardScaler, LabelEncoder, OneHotEncoder\n",
        "from sklearn.model_selection import KFold, cross_val_score, StratifiedKFold, GridSearchCV\n",
        "from sklearn.model_selection import RandomizedSearchCV\n",
        "from sklearn.linear_model import LogisticRegression\n",
        "from sklearn.svm import SVC\n",
        "from sklearn.ensemble import RandomForestClassifier, GradientBoostingClassifier\n",
        "from sklearn.tree import DecisionTreeClassifier\n",
        "from sklearn.naive_bayes import GaussianNB\n",
        "from sklearn.neighbors import KNeighborsClassifier\n",
        "from sklearn.pipeline import Pipeline\n",
        "import warnings\n",
        "warnings.filterwarnings('ignore')"
      ],
      "execution_count": 0,
      "outputs": []
    },
    {
      "cell_type": "markdown",
      "metadata": {
        "id": "W_-IE2kt3I16",
        "colab_type": "text"
      },
      "source": [
        "### SVC"
      ]
    },
    {
      "cell_type": "code",
      "metadata": {
        "id": "-zdl99--3I19",
        "colab_type": "code",
        "colab": {}
      },
      "source": [
        "param_grid = {'C': [0.1,1, 10, 100], 'gamma': [1,0.1,0.01,0.001],'kernel': ['linear','rbf', 'poly', 'sigmoid']}"
      ],
      "execution_count": 0,
      "outputs": []
    },
    {
      "cell_type": "code",
      "metadata": {
        "id": "L9Wrn-0X3I2H",
        "colab_type": "code",
        "colab": {},
        "outputId": "2ada3990-a6c9-4b19-9891-1210a61b9240"
      },
      "source": [
        "grid = GridSearchCV(SVC(),param_grid,refit=True,verbose=2, scoring='f1_weighted')\n",
        "grid.fit(X_train,y_train)"
      ],
      "execution_count": 0,
      "outputs": [
        {
          "output_type": "stream",
          "text": [
            "Fitting 5 folds for each of 64 candidates, totalling 320 fits\n",
            "[CV] C=0.1, gamma=1, kernel=linear ...................................\n"
          ],
          "name": "stdout"
        },
        {
          "output_type": "stream",
          "text": [
            "[Parallel(n_jobs=1)]: Using backend SequentialBackend with 1 concurrent workers.\n"
          ],
          "name": "stderr"
        },
        {
          "output_type": "stream",
          "text": [
            "[CV] .................... C=0.1, gamma=1, kernel=linear, total=   2.3s\n",
            "[CV] C=0.1, gamma=1, kernel=linear ...................................\n"
          ],
          "name": "stdout"
        },
        {
          "output_type": "stream",
          "text": [
            "[Parallel(n_jobs=1)]: Done   1 out of   1 | elapsed:    2.2s remaining:    0.0s\n"
          ],
          "name": "stderr"
        },
        {
          "output_type": "stream",
          "text": [
            "[CV] .................... C=0.1, gamma=1, kernel=linear, total=   2.5s\n",
            "[CV] C=0.1, gamma=1, kernel=linear ...................................\n",
            "[CV] .................... C=0.1, gamma=1, kernel=linear, total=   2.3s\n",
            "[CV] C=0.1, gamma=1, kernel=linear ...................................\n",
            "[CV] .................... C=0.1, gamma=1, kernel=linear, total=   2.4s\n",
            "[CV] C=0.1, gamma=1, kernel=linear ...................................\n",
            "[CV] .................... C=0.1, gamma=1, kernel=linear, total=   2.5s\n",
            "[CV] C=0.1, gamma=1, kernel=rbf ......................................\n",
            "[CV] ....................... C=0.1, gamma=1, kernel=rbf, total=   2.4s\n",
            "[CV] C=0.1, gamma=1, kernel=rbf ......................................\n",
            "[CV] ....................... C=0.1, gamma=1, kernel=rbf, total=   2.6s\n",
            "[CV] C=0.1, gamma=1, kernel=rbf ......................................\n",
            "[CV] ....................... C=0.1, gamma=1, kernel=rbf, total=   2.5s\n",
            "[CV] C=0.1, gamma=1, kernel=rbf ......................................\n",
            "[CV] ....................... C=0.1, gamma=1, kernel=rbf, total=   2.8s\n",
            "[CV] C=0.1, gamma=1, kernel=rbf ......................................\n",
            "[CV] ....................... C=0.1, gamma=1, kernel=rbf, total=   2.5s\n",
            "[CV] C=0.1, gamma=1, kernel=poly .....................................\n",
            "[CV] ...................... C=0.1, gamma=1, kernel=poly, total=   2.8s\n",
            "[CV] C=0.1, gamma=1, kernel=poly .....................................\n",
            "[CV] ...................... C=0.1, gamma=1, kernel=poly, total=   2.4s\n",
            "[CV] C=0.1, gamma=1, kernel=poly .....................................\n",
            "[CV] ...................... C=0.1, gamma=1, kernel=poly, total=   2.6s\n",
            "[CV] C=0.1, gamma=1, kernel=poly .....................................\n",
            "[CV] ...................... C=0.1, gamma=1, kernel=poly, total=   2.6s\n",
            "[CV] C=0.1, gamma=1, kernel=poly .....................................\n",
            "[CV] ...................... C=0.1, gamma=1, kernel=poly, total=   2.6s\n",
            "[CV] C=0.1, gamma=1, kernel=sigmoid ..................................\n",
            "[CV] ................... C=0.1, gamma=1, kernel=sigmoid, total=   2.2s\n",
            "[CV] C=0.1, gamma=1, kernel=sigmoid ..................................\n",
            "[CV] ................... C=0.1, gamma=1, kernel=sigmoid, total=   2.8s\n",
            "[CV] C=0.1, gamma=1, kernel=sigmoid ..................................\n",
            "[CV] ................... C=0.1, gamma=1, kernel=sigmoid, total=   2.5s\n",
            "[CV] C=0.1, gamma=1, kernel=sigmoid ..................................\n",
            "[CV] ................... C=0.1, gamma=1, kernel=sigmoid, total=   2.7s\n",
            "[CV] C=0.1, gamma=1, kernel=sigmoid ..................................\n",
            "[CV] ................... C=0.1, gamma=1, kernel=sigmoid, total=   2.4s\n",
            "[CV] C=0.1, gamma=0.1, kernel=linear .................................\n",
            "[CV] .................. C=0.1, gamma=0.1, kernel=linear, total=   2.3s\n",
            "[CV] C=0.1, gamma=0.1, kernel=linear .................................\n",
            "[CV] .................. C=0.1, gamma=0.1, kernel=linear, total=   2.4s\n",
            "[CV] C=0.1, gamma=0.1, kernel=linear .................................\n",
            "[CV] .................. C=0.1, gamma=0.1, kernel=linear, total=   2.3s\n",
            "[CV] C=0.1, gamma=0.1, kernel=linear .................................\n",
            "[CV] .................. C=0.1, gamma=0.1, kernel=linear, total=   2.6s\n",
            "[CV] C=0.1, gamma=0.1, kernel=linear .................................\n",
            "[CV] .................. C=0.1, gamma=0.1, kernel=linear, total=   2.4s\n",
            "[CV] C=0.1, gamma=0.1, kernel=rbf ....................................\n",
            "[CV] ..................... C=0.1, gamma=0.1, kernel=rbf, total=   2.5s\n",
            "[CV] C=0.1, gamma=0.1, kernel=rbf ....................................\n",
            "[CV] ..................... C=0.1, gamma=0.1, kernel=rbf, total=   2.4s\n",
            "[CV] C=0.1, gamma=0.1, kernel=rbf ....................................\n",
            "[CV] ..................... C=0.1, gamma=0.1, kernel=rbf, total=   2.6s\n",
            "[CV] C=0.1, gamma=0.1, kernel=rbf ....................................\n",
            "[CV] ..................... C=0.1, gamma=0.1, kernel=rbf, total=   2.4s\n",
            "[CV] C=0.1, gamma=0.1, kernel=rbf ....................................\n",
            "[CV] ..................... C=0.1, gamma=0.1, kernel=rbf, total=   2.5s\n",
            "[CV] C=0.1, gamma=0.1, kernel=poly ...................................\n",
            "[CV] .................... C=0.1, gamma=0.1, kernel=poly, total=   1.8s\n",
            "[CV] C=0.1, gamma=0.1, kernel=poly ...................................\n",
            "[CV] .................... C=0.1, gamma=0.1, kernel=poly, total=   1.7s\n",
            "[CV] C=0.1, gamma=0.1, kernel=poly ...................................\n",
            "[CV] .................... C=0.1, gamma=0.1, kernel=poly, total=   2.2s\n",
            "[CV] C=0.1, gamma=0.1, kernel=poly ...................................\n",
            "[CV] .................... C=0.1, gamma=0.1, kernel=poly, total=   1.8s\n",
            "[CV] C=0.1, gamma=0.1, kernel=poly ...................................\n",
            "[CV] .................... C=0.1, gamma=0.1, kernel=poly, total=   1.7s\n",
            "[CV] C=0.1, gamma=0.1, kernel=sigmoid ................................\n",
            "[CV] ................. C=0.1, gamma=0.1, kernel=sigmoid, total=   2.5s\n",
            "[CV] C=0.1, gamma=0.1, kernel=sigmoid ................................\n",
            "[CV] ................. C=0.1, gamma=0.1, kernel=sigmoid, total=   2.3s\n",
            "[CV] C=0.1, gamma=0.1, kernel=sigmoid ................................\n",
            "[CV] ................. C=0.1, gamma=0.1, kernel=sigmoid, total=   2.5s\n",
            "[CV] C=0.1, gamma=0.1, kernel=sigmoid ................................\n",
            "[CV] ................. C=0.1, gamma=0.1, kernel=sigmoid, total=   2.5s\n",
            "[CV] C=0.1, gamma=0.1, kernel=sigmoid ................................\n",
            "[CV] ................. C=0.1, gamma=0.1, kernel=sigmoid, total=   2.4s\n",
            "[CV] C=0.1, gamma=0.01, kernel=linear ................................\n",
            "[CV] ................. C=0.1, gamma=0.01, kernel=linear, total=   2.7s\n",
            "[CV] C=0.1, gamma=0.01, kernel=linear ................................\n",
            "[CV] ................. C=0.1, gamma=0.01, kernel=linear, total=   3.3s\n",
            "[CV] C=0.1, gamma=0.01, kernel=linear ................................\n",
            "[CV] ................. C=0.1, gamma=0.01, kernel=linear, total=   3.3s\n",
            "[CV] C=0.1, gamma=0.01, kernel=linear ................................\n",
            "[CV] ................. C=0.1, gamma=0.01, kernel=linear, total=   5.2s\n",
            "[CV] C=0.1, gamma=0.01, kernel=linear ................................\n",
            "[CV] ................. C=0.1, gamma=0.01, kernel=linear, total=   2.7s\n",
            "[CV] C=0.1, gamma=0.01, kernel=rbf ...................................\n",
            "[CV] .................... C=0.1, gamma=0.01, kernel=rbf, total=   2.3s\n",
            "[CV] C=0.1, gamma=0.01, kernel=rbf ...................................\n",
            "[CV] .................... C=0.1, gamma=0.01, kernel=rbf, total=   2.2s\n",
            "[CV] C=0.1, gamma=0.01, kernel=rbf ...................................\n",
            "[CV] .................... C=0.1, gamma=0.01, kernel=rbf, total=   2.2s\n",
            "[CV] C=0.1, gamma=0.01, kernel=rbf ...................................\n",
            "[CV] .................... C=0.1, gamma=0.01, kernel=rbf, total=   2.2s\n",
            "[CV] C=0.1, gamma=0.01, kernel=rbf ...................................\n",
            "[CV] .................... C=0.1, gamma=0.01, kernel=rbf, total=   2.0s\n",
            "[CV] C=0.1, gamma=0.01, kernel=poly ..................................\n",
            "[CV] ................... C=0.1, gamma=0.01, kernel=poly, total=   1.8s\n",
            "[CV] C=0.1, gamma=0.01, kernel=poly ..................................\n",
            "[CV] ................... C=0.1, gamma=0.01, kernel=poly, total=   1.8s\n",
            "[CV] C=0.1, gamma=0.01, kernel=poly ..................................\n",
            "[CV] ................... C=0.1, gamma=0.01, kernel=poly, total=   1.7s\n",
            "[CV] C=0.1, gamma=0.01, kernel=poly ..................................\n",
            "[CV] ................... C=0.1, gamma=0.01, kernel=poly, total=   1.8s\n",
            "[CV] C=0.1, gamma=0.01, kernel=poly ..................................\n",
            "[CV] ................... C=0.1, gamma=0.01, kernel=poly, total=   1.8s\n",
            "[CV] C=0.1, gamma=0.01, kernel=sigmoid ...............................\n",
            "[CV] ................ C=0.1, gamma=0.01, kernel=sigmoid, total=   2.0s\n",
            "[CV] C=0.1, gamma=0.01, kernel=sigmoid ...............................\n",
            "[CV] ................ C=0.1, gamma=0.01, kernel=sigmoid, total=   2.0s\n",
            "[CV] C=0.1, gamma=0.01, kernel=sigmoid ...............................\n",
            "[CV] ................ C=0.1, gamma=0.01, kernel=sigmoid, total=   2.0s\n",
            "[CV] C=0.1, gamma=0.01, kernel=sigmoid ...............................\n",
            "[CV] ................ C=0.1, gamma=0.01, kernel=sigmoid, total=   1.9s\n",
            "[CV] C=0.1, gamma=0.01, kernel=sigmoid ...............................\n"
          ],
          "name": "stdout"
        },
        {
          "output_type": "stream",
          "text": [
            "[CV] ................ C=0.1, gamma=0.01, kernel=sigmoid, total=   2.0s\n",
            "[CV] C=0.1, gamma=0.001, kernel=linear ...............................\n",
            "[CV] ................ C=0.1, gamma=0.001, kernel=linear, total=   2.4s\n",
            "[CV] C=0.1, gamma=0.001, kernel=linear ...............................\n",
            "[CV] ................ C=0.1, gamma=0.001, kernel=linear, total=   4.6s\n",
            "[CV] C=0.1, gamma=0.001, kernel=linear ...............................\n",
            "[CV] ................ C=0.1, gamma=0.001, kernel=linear, total=   2.5s\n",
            "[CV] C=0.1, gamma=0.001, kernel=linear ...............................\n",
            "[CV] ................ C=0.1, gamma=0.001, kernel=linear, total=   2.3s\n",
            "[CV] C=0.1, gamma=0.001, kernel=linear ...............................\n",
            "[CV] ................ C=0.1, gamma=0.001, kernel=linear, total=   2.5s\n",
            "[CV] C=0.1, gamma=0.001, kernel=rbf ..................................\n",
            "[CV] ................... C=0.1, gamma=0.001, kernel=rbf, total=   1.8s\n",
            "[CV] C=0.1, gamma=0.001, kernel=rbf ..................................\n",
            "[CV] ................... C=0.1, gamma=0.001, kernel=rbf, total=   1.8s\n",
            "[CV] C=0.1, gamma=0.001, kernel=rbf ..................................\n",
            "[CV] ................... C=0.1, gamma=0.001, kernel=rbf, total=   1.8s\n",
            "[CV] C=0.1, gamma=0.001, kernel=rbf ..................................\n",
            "[CV] ................... C=0.1, gamma=0.001, kernel=rbf, total=   1.8s\n",
            "[CV] C=0.1, gamma=0.001, kernel=rbf ..................................\n",
            "[CV] ................... C=0.1, gamma=0.001, kernel=rbf, total=   1.8s\n",
            "[CV] C=0.1, gamma=0.001, kernel=poly .................................\n",
            "[CV] .................. C=0.1, gamma=0.001, kernel=poly, total=   1.7s\n",
            "[CV] C=0.1, gamma=0.001, kernel=poly .................................\n",
            "[CV] .................. C=0.1, gamma=0.001, kernel=poly, total=   1.8s\n",
            "[CV] C=0.1, gamma=0.001, kernel=poly .................................\n",
            "[CV] .................. C=0.1, gamma=0.001, kernel=poly, total=   1.7s\n",
            "[CV] C=0.1, gamma=0.001, kernel=poly .................................\n",
            "[CV] .................. C=0.1, gamma=0.001, kernel=poly, total=   1.8s\n",
            "[CV] C=0.1, gamma=0.001, kernel=poly .................................\n",
            "[CV] .................. C=0.1, gamma=0.001, kernel=poly, total=   1.7s\n",
            "[CV] C=0.1, gamma=0.001, kernel=sigmoid ..............................\n",
            "[CV] ............... C=0.1, gamma=0.001, kernel=sigmoid, total=   1.8s\n",
            "[CV] C=0.1, gamma=0.001, kernel=sigmoid ..............................\n",
            "[CV] ............... C=0.1, gamma=0.001, kernel=sigmoid, total=   1.8s\n",
            "[CV] C=0.1, gamma=0.001, kernel=sigmoid ..............................\n",
            "[CV] ............... C=0.1, gamma=0.001, kernel=sigmoid, total=   1.8s\n",
            "[CV] C=0.1, gamma=0.001, kernel=sigmoid ..............................\n",
            "[CV] ............... C=0.1, gamma=0.001, kernel=sigmoid, total=   1.8s\n",
            "[CV] C=0.1, gamma=0.001, kernel=sigmoid ..............................\n",
            "[CV] ............... C=0.1, gamma=0.001, kernel=sigmoid, total=   1.8s\n",
            "[CV] C=1, gamma=1, kernel=linear .....................................\n",
            "[CV] ...................... C=1, gamma=1, kernel=linear, total=   2.4s\n",
            "[CV] C=1, gamma=1, kernel=linear .....................................\n",
            "[CV] ...................... C=1, gamma=1, kernel=linear, total=   2.4s\n",
            "[CV] C=1, gamma=1, kernel=linear .....................................\n",
            "[CV] ...................... C=1, gamma=1, kernel=linear, total=   2.3s\n",
            "[CV] C=1, gamma=1, kernel=linear .....................................\n",
            "[CV] ...................... C=1, gamma=1, kernel=linear, total=   2.3s\n",
            "[CV] C=1, gamma=1, kernel=linear .....................................\n",
            "[CV] ...................... C=1, gamma=1, kernel=linear, total=   2.5s\n",
            "[CV] C=1, gamma=1, kernel=rbf ........................................\n",
            "[CV] ......................... C=1, gamma=1, kernel=rbf, total=   2.5s\n",
            "[CV] C=1, gamma=1, kernel=rbf ........................................\n",
            "[CV] ......................... C=1, gamma=1, kernel=rbf, total=   2.5s\n",
            "[CV] C=1, gamma=1, kernel=rbf ........................................\n",
            "[CV] ......................... C=1, gamma=1, kernel=rbf, total=   2.5s\n",
            "[CV] C=1, gamma=1, kernel=rbf ........................................\n",
            "[CV] ......................... C=1, gamma=1, kernel=rbf, total=   2.5s\n",
            "[CV] C=1, gamma=1, kernel=rbf ........................................\n",
            "[CV] ......................... C=1, gamma=1, kernel=rbf, total=   2.5s\n",
            "[CV] C=1, gamma=1, kernel=poly .......................................\n",
            "[CV] ........................ C=1, gamma=1, kernel=poly, total=   2.5s\n",
            "[CV] C=1, gamma=1, kernel=poly .......................................\n",
            "[CV] ........................ C=1, gamma=1, kernel=poly, total=   2.5s\n",
            "[CV] C=1, gamma=1, kernel=poly .......................................\n",
            "[CV] ........................ C=1, gamma=1, kernel=poly, total=   2.5s\n",
            "[CV] C=1, gamma=1, kernel=poly .......................................\n",
            "[CV] ........................ C=1, gamma=1, kernel=poly, total=   2.5s\n",
            "[CV] C=1, gamma=1, kernel=poly .......................................\n",
            "[CV] ........................ C=1, gamma=1, kernel=poly, total=   2.5s\n",
            "[CV] C=1, gamma=1, kernel=sigmoid ....................................\n",
            "[CV] ..................... C=1, gamma=1, kernel=sigmoid, total=   2.3s\n",
            "[CV] C=1, gamma=1, kernel=sigmoid ....................................\n",
            "[CV] ..................... C=1, gamma=1, kernel=sigmoid, total=   2.3s\n",
            "[CV] C=1, gamma=1, kernel=sigmoid ....................................\n",
            "[CV] ..................... C=1, gamma=1, kernel=sigmoid, total=   2.3s\n",
            "[CV] C=1, gamma=1, kernel=sigmoid ....................................\n",
            "[CV] ..................... C=1, gamma=1, kernel=sigmoid, total=   2.3s\n",
            "[CV] C=1, gamma=1, kernel=sigmoid ....................................\n",
            "[CV] ..................... C=1, gamma=1, kernel=sigmoid, total=   2.3s\n",
            "[CV] C=1, gamma=0.1, kernel=linear ...................................\n",
            "[CV] .................... C=1, gamma=0.1, kernel=linear, total=   2.4s\n",
            "[CV] C=1, gamma=0.1, kernel=linear ...................................\n",
            "[CV] .................... C=1, gamma=0.1, kernel=linear, total=   2.4s\n",
            "[CV] C=1, gamma=0.1, kernel=linear ...................................\n",
            "[CV] .................... C=1, gamma=0.1, kernel=linear, total=   2.4s\n",
            "[CV] C=1, gamma=0.1, kernel=linear ...................................\n",
            "[CV] .................... C=1, gamma=0.1, kernel=linear, total=   2.3s\n",
            "[CV] C=1, gamma=0.1, kernel=linear ...................................\n",
            "[CV] .................... C=1, gamma=0.1, kernel=linear, total=   2.4s\n",
            "[CV] C=1, gamma=0.1, kernel=rbf ......................................\n",
            "[CV] ....................... C=1, gamma=0.1, kernel=rbf, total=   2.4s\n",
            "[CV] C=1, gamma=0.1, kernel=rbf ......................................\n",
            "[CV] ....................... C=1, gamma=0.1, kernel=rbf, total=   2.4s\n",
            "[CV] C=1, gamma=0.1, kernel=rbf ......................................\n",
            "[CV] ....................... C=1, gamma=0.1, kernel=rbf, total=   2.5s\n",
            "[CV] C=1, gamma=0.1, kernel=rbf ......................................\n",
            "[CV] ....................... C=1, gamma=0.1, kernel=rbf, total=   2.4s\n",
            "[CV] C=1, gamma=0.1, kernel=rbf ......................................\n",
            "[CV] ....................... C=1, gamma=0.1, kernel=rbf, total=   2.4s\n",
            "[CV] C=1, gamma=0.1, kernel=poly .....................................\n",
            "[CV] ...................... C=1, gamma=0.1, kernel=poly, total=   1.9s\n",
            "[CV] C=1, gamma=0.1, kernel=poly .....................................\n",
            "[CV] ...................... C=1, gamma=0.1, kernel=poly, total=   1.9s\n",
            "[CV] C=1, gamma=0.1, kernel=poly .....................................\n",
            "[CV] ...................... C=1, gamma=0.1, kernel=poly, total=   1.9s\n",
            "[CV] C=1, gamma=0.1, kernel=poly .....................................\n",
            "[CV] ...................... C=1, gamma=0.1, kernel=poly, total=   1.9s\n",
            "[CV] C=1, gamma=0.1, kernel=poly .....................................\n",
            "[CV] ...................... C=1, gamma=0.1, kernel=poly, total=   2.0s\n",
            "[CV] C=1, gamma=0.1, kernel=sigmoid ..................................\n",
            "[CV] ................... C=1, gamma=0.1, kernel=sigmoid, total=   2.4s\n",
            "[CV] C=1, gamma=0.1, kernel=sigmoid ..................................\n",
            "[CV] ................... C=1, gamma=0.1, kernel=sigmoid, total=   2.4s\n",
            "[CV] C=1, gamma=0.1, kernel=sigmoid ..................................\n"
          ],
          "name": "stdout"
        },
        {
          "output_type": "stream",
          "text": [
            "[CV] ................... C=1, gamma=0.1, kernel=sigmoid, total=   2.4s\n",
            "[CV] C=1, gamma=0.1, kernel=sigmoid ..................................\n",
            "[CV] ................... C=1, gamma=0.1, kernel=sigmoid, total=   2.4s\n",
            "[CV] C=1, gamma=0.1, kernel=sigmoid ..................................\n",
            "[CV] ................... C=1, gamma=0.1, kernel=sigmoid, total=   2.4s\n",
            "[CV] C=1, gamma=0.01, kernel=linear ..................................\n",
            "[CV] ................... C=1, gamma=0.01, kernel=linear, total=   2.4s\n",
            "[CV] C=1, gamma=0.01, kernel=linear ..................................\n",
            "[CV] ................... C=1, gamma=0.01, kernel=linear, total=   2.4s\n",
            "[CV] C=1, gamma=0.01, kernel=linear ..................................\n",
            "[CV] ................... C=1, gamma=0.01, kernel=linear, total=   2.3s\n",
            "[CV] C=1, gamma=0.01, kernel=linear ..................................\n",
            "[CV] ................... C=1, gamma=0.01, kernel=linear, total=   2.4s\n",
            "[CV] C=1, gamma=0.01, kernel=linear ..................................\n",
            "[CV] ................... C=1, gamma=0.01, kernel=linear, total=   2.4s\n",
            "[CV] C=1, gamma=0.01, kernel=rbf .....................................\n",
            "[CV] ...................... C=1, gamma=0.01, kernel=rbf, total=   2.3s\n",
            "[CV] C=1, gamma=0.01, kernel=rbf .....................................\n",
            "[CV] ...................... C=1, gamma=0.01, kernel=rbf, total=   2.3s\n",
            "[CV] C=1, gamma=0.01, kernel=rbf .....................................\n",
            "[CV] ...................... C=1, gamma=0.01, kernel=rbf, total=   2.3s\n",
            "[CV] C=1, gamma=0.01, kernel=rbf .....................................\n",
            "[CV] ...................... C=1, gamma=0.01, kernel=rbf, total=   2.3s\n",
            "[CV] C=1, gamma=0.01, kernel=rbf .....................................\n",
            "[CV] ...................... C=1, gamma=0.01, kernel=rbf, total=   2.3s\n",
            "[CV] C=1, gamma=0.01, kernel=poly ....................................\n",
            "[CV] ..................... C=1, gamma=0.01, kernel=poly, total=   1.8s\n",
            "[CV] C=1, gamma=0.01, kernel=poly ....................................\n",
            "[CV] ..................... C=1, gamma=0.01, kernel=poly, total=   1.7s\n",
            "[CV] C=1, gamma=0.01, kernel=poly ....................................\n",
            "[CV] ..................... C=1, gamma=0.01, kernel=poly, total=   1.7s\n",
            "[CV] C=1, gamma=0.01, kernel=poly ....................................\n",
            "[CV] ..................... C=1, gamma=0.01, kernel=poly, total=   1.8s\n",
            "[CV] C=1, gamma=0.01, kernel=poly ....................................\n",
            "[CV] ..................... C=1, gamma=0.01, kernel=poly, total=   1.7s\n",
            "[CV] C=1, gamma=0.01, kernel=sigmoid .................................\n",
            "[CV] .................. C=1, gamma=0.01, kernel=sigmoid, total=   2.4s\n",
            "[CV] C=1, gamma=0.01, kernel=sigmoid .................................\n",
            "[CV] .................. C=1, gamma=0.01, kernel=sigmoid, total=   2.4s\n",
            "[CV] C=1, gamma=0.01, kernel=sigmoid .................................\n",
            "[CV] .................. C=1, gamma=0.01, kernel=sigmoid, total=   2.5s\n",
            "[CV] C=1, gamma=0.01, kernel=sigmoid .................................\n",
            "[CV] .................. C=1, gamma=0.01, kernel=sigmoid, total=   2.4s\n",
            "[CV] C=1, gamma=0.01, kernel=sigmoid .................................\n",
            "[CV] .................. C=1, gamma=0.01, kernel=sigmoid, total=   2.3s\n",
            "[CV] C=1, gamma=0.001, kernel=linear .................................\n",
            "[CV] .................. C=1, gamma=0.001, kernel=linear, total=   2.4s\n",
            "[CV] C=1, gamma=0.001, kernel=linear .................................\n",
            "[CV] .................. C=1, gamma=0.001, kernel=linear, total=   2.3s\n",
            "[CV] C=1, gamma=0.001, kernel=linear .................................\n",
            "[CV] .................. C=1, gamma=0.001, kernel=linear, total=   2.5s\n",
            "[CV] C=1, gamma=0.001, kernel=linear .................................\n",
            "[CV] .................. C=1, gamma=0.001, kernel=linear, total=   2.3s\n",
            "[CV] C=1, gamma=0.001, kernel=linear .................................\n",
            "[CV] .................. C=1, gamma=0.001, kernel=linear, total=   2.4s\n",
            "[CV] C=1, gamma=0.001, kernel=rbf ....................................\n",
            "[CV] ..................... C=1, gamma=0.001, kernel=rbf, total=   2.0s\n",
            "[CV] C=1, gamma=0.001, kernel=rbf ....................................\n",
            "[CV] ..................... C=1, gamma=0.001, kernel=rbf, total=   2.1s\n",
            "[CV] C=1, gamma=0.001, kernel=rbf ....................................\n",
            "[CV] ..................... C=1, gamma=0.001, kernel=rbf, total=   2.1s\n",
            "[CV] C=1, gamma=0.001, kernel=rbf ....................................\n",
            "[CV] ..................... C=1, gamma=0.001, kernel=rbf, total=   2.3s\n",
            "[CV] C=1, gamma=0.001, kernel=rbf ....................................\n",
            "[CV] ..................... C=1, gamma=0.001, kernel=rbf, total=   2.2s\n",
            "[CV] C=1, gamma=0.001, kernel=poly ...................................\n",
            "[CV] .................... C=1, gamma=0.001, kernel=poly, total=   1.9s\n",
            "[CV] C=1, gamma=0.001, kernel=poly ...................................\n",
            "[CV] .................... C=1, gamma=0.001, kernel=poly, total=   1.9s\n",
            "[CV] C=1, gamma=0.001, kernel=poly ...................................\n",
            "[CV] .................... C=1, gamma=0.001, kernel=poly, total=   1.8s\n",
            "[CV] C=1, gamma=0.001, kernel=poly ...................................\n",
            "[CV] .................... C=1, gamma=0.001, kernel=poly, total=   1.8s\n",
            "[CV] C=1, gamma=0.001, kernel=poly ...................................\n",
            "[CV] .................... C=1, gamma=0.001, kernel=poly, total=   1.7s\n",
            "[CV] C=1, gamma=0.001, kernel=sigmoid ................................\n",
            "[CV] ................. C=1, gamma=0.001, kernel=sigmoid, total=   2.0s\n",
            "[CV] C=1, gamma=0.001, kernel=sigmoid ................................\n",
            "[CV] ................. C=1, gamma=0.001, kernel=sigmoid, total=   1.9s\n",
            "[CV] C=1, gamma=0.001, kernel=sigmoid ................................\n",
            "[CV] ................. C=1, gamma=0.001, kernel=sigmoid, total=   2.0s\n",
            "[CV] C=1, gamma=0.001, kernel=sigmoid ................................\n",
            "[CV] ................. C=1, gamma=0.001, kernel=sigmoid, total=   2.0s\n",
            "[CV] C=1, gamma=0.001, kernel=sigmoid ................................\n",
            "[CV] ................. C=1, gamma=0.001, kernel=sigmoid, total=   1.9s\n",
            "[CV] C=10, gamma=1, kernel=linear ....................................\n",
            "[CV] ..................... C=10, gamma=1, kernel=linear, total=   3.0s\n",
            "[CV] C=10, gamma=1, kernel=linear ....................................\n",
            "[CV] ..................... C=10, gamma=1, kernel=linear, total=   2.9s\n",
            "[CV] C=10, gamma=1, kernel=linear ....................................\n",
            "[CV] ..................... C=10, gamma=1, kernel=linear, total=   3.0s\n",
            "[CV] C=10, gamma=1, kernel=linear ....................................\n",
            "[CV] ..................... C=10, gamma=1, kernel=linear, total=   3.0s\n",
            "[CV] C=10, gamma=1, kernel=linear ....................................\n",
            "[CV] ..................... C=10, gamma=1, kernel=linear, total=   3.0s\n",
            "[CV] C=10, gamma=1, kernel=rbf .......................................\n",
            "[CV] ........................ C=10, gamma=1, kernel=rbf, total=   2.6s\n",
            "[CV] C=10, gamma=1, kernel=rbf .......................................\n",
            "[CV] ........................ C=10, gamma=1, kernel=rbf, total=   2.7s\n",
            "[CV] C=10, gamma=1, kernel=rbf .......................................\n",
            "[CV] ........................ C=10, gamma=1, kernel=rbf, total=   2.6s\n",
            "[CV] C=10, gamma=1, kernel=rbf .......................................\n",
            "[CV] ........................ C=10, gamma=1, kernel=rbf, total=   2.6s\n",
            "[CV] C=10, gamma=1, kernel=rbf .......................................\n",
            "[CV] ........................ C=10, gamma=1, kernel=rbf, total=   2.6s\n",
            "[CV] C=10, gamma=1, kernel=poly ......................................\n",
            "[CV] ....................... C=10, gamma=1, kernel=poly, total=   2.6s\n",
            "[CV] C=10, gamma=1, kernel=poly ......................................\n",
            "[CV] ....................... C=10, gamma=1, kernel=poly, total=   2.6s\n",
            "[CV] C=10, gamma=1, kernel=poly ......................................\n",
            "[CV] ....................... C=10, gamma=1, kernel=poly, total=   2.8s\n",
            "[CV] C=10, gamma=1, kernel=poly ......................................\n",
            "[CV] ....................... C=10, gamma=1, kernel=poly, total=   2.7s\n",
            "[CV] C=10, gamma=1, kernel=poly ......................................\n",
            "[CV] ....................... C=10, gamma=1, kernel=poly, total=   2.7s\n",
            "[CV] C=10, gamma=1, kernel=sigmoid ...................................\n"
          ],
          "name": "stdout"
        },
        {
          "output_type": "stream",
          "text": [
            "[CV] .................... C=10, gamma=1, kernel=sigmoid, total=   4.4s\n",
            "[CV] C=10, gamma=1, kernel=sigmoid ...................................\n",
            "[CV] .................... C=10, gamma=1, kernel=sigmoid, total=   4.2s\n",
            "[CV] C=10, gamma=1, kernel=sigmoid ...................................\n",
            "[CV] .................... C=10, gamma=1, kernel=sigmoid, total=   3.8s\n",
            "[CV] C=10, gamma=1, kernel=sigmoid ...................................\n",
            "[CV] .................... C=10, gamma=1, kernel=sigmoid, total=   3.5s\n",
            "[CV] C=10, gamma=1, kernel=sigmoid ...................................\n",
            "[CV] .................... C=10, gamma=1, kernel=sigmoid, total=   4.2s\n",
            "[CV] C=10, gamma=0.1, kernel=linear ..................................\n",
            "[CV] ................... C=10, gamma=0.1, kernel=linear, total=   3.0s\n",
            "[CV] C=10, gamma=0.1, kernel=linear ..................................\n",
            "[CV] ................... C=10, gamma=0.1, kernel=linear, total=   3.0s\n",
            "[CV] C=10, gamma=0.1, kernel=linear ..................................\n",
            "[CV] ................... C=10, gamma=0.1, kernel=linear, total=   3.1s\n",
            "[CV] C=10, gamma=0.1, kernel=linear ..................................\n",
            "[CV] ................... C=10, gamma=0.1, kernel=linear, total=   3.2s\n",
            "[CV] C=10, gamma=0.1, kernel=linear ..................................\n",
            "[CV] ................... C=10, gamma=0.1, kernel=linear, total=   3.1s\n",
            "[CV] C=10, gamma=0.1, kernel=rbf .....................................\n",
            "[CV] ...................... C=10, gamma=0.1, kernel=rbf, total=   2.6s\n",
            "[CV] C=10, gamma=0.1, kernel=rbf .....................................\n",
            "[CV] ...................... C=10, gamma=0.1, kernel=rbf, total=   2.6s\n",
            "[CV] C=10, gamma=0.1, kernel=rbf .....................................\n",
            "[CV] ...................... C=10, gamma=0.1, kernel=rbf, total=   2.5s\n",
            "[CV] C=10, gamma=0.1, kernel=rbf .....................................\n",
            "[CV] ...................... C=10, gamma=0.1, kernel=rbf, total=   2.7s\n",
            "[CV] C=10, gamma=0.1, kernel=rbf .....................................\n",
            "[CV] ...................... C=10, gamma=0.1, kernel=rbf, total=   2.6s\n",
            "[CV] C=10, gamma=0.1, kernel=poly ....................................\n",
            "[CV] ..................... C=10, gamma=0.1, kernel=poly, total=   2.5s\n",
            "[CV] C=10, gamma=0.1, kernel=poly ....................................\n",
            "[CV] ..................... C=10, gamma=0.1, kernel=poly, total=   2.4s\n",
            "[CV] C=10, gamma=0.1, kernel=poly ....................................\n",
            "[CV] ..................... C=10, gamma=0.1, kernel=poly, total=   2.4s\n",
            "[CV] C=10, gamma=0.1, kernel=poly ....................................\n",
            "[CV] ..................... C=10, gamma=0.1, kernel=poly, total=   2.5s\n",
            "[CV] C=10, gamma=0.1, kernel=poly ....................................\n",
            "[CV] ..................... C=10, gamma=0.1, kernel=poly, total=   2.4s\n",
            "[CV] C=10, gamma=0.1, kernel=sigmoid .................................\n",
            "[CV] .................. C=10, gamma=0.1, kernel=sigmoid, total=   2.4s\n",
            "[CV] C=10, gamma=0.1, kernel=sigmoid .................................\n",
            "[CV] .................. C=10, gamma=0.1, kernel=sigmoid, total=   2.4s\n",
            "[CV] C=10, gamma=0.1, kernel=sigmoid .................................\n",
            "[CV] .................. C=10, gamma=0.1, kernel=sigmoid, total=   2.5s\n",
            "[CV] C=10, gamma=0.1, kernel=sigmoid .................................\n",
            "[CV] .................. C=10, gamma=0.1, kernel=sigmoid, total=   2.4s\n",
            "[CV] C=10, gamma=0.1, kernel=sigmoid .................................\n",
            "[CV] .................. C=10, gamma=0.1, kernel=sigmoid, total=   2.4s\n",
            "[CV] C=10, gamma=0.01, kernel=linear .................................\n",
            "[CV] .................. C=10, gamma=0.01, kernel=linear, total=   3.0s\n",
            "[CV] C=10, gamma=0.01, kernel=linear .................................\n",
            "[CV] .................. C=10, gamma=0.01, kernel=linear, total=   2.9s\n",
            "[CV] C=10, gamma=0.01, kernel=linear .................................\n",
            "[CV] .................. C=10, gamma=0.01, kernel=linear, total=   3.0s\n",
            "[CV] C=10, gamma=0.01, kernel=linear .................................\n",
            "[CV] .................. C=10, gamma=0.01, kernel=linear, total=   3.0s\n",
            "[CV] C=10, gamma=0.01, kernel=linear .................................\n",
            "[CV] .................. C=10, gamma=0.01, kernel=linear, total=   2.9s\n",
            "[CV] C=10, gamma=0.01, kernel=rbf ....................................\n",
            "[CV] ..................... C=10, gamma=0.01, kernel=rbf, total=   2.5s\n",
            "[CV] C=10, gamma=0.01, kernel=rbf ....................................\n",
            "[CV] ..................... C=10, gamma=0.01, kernel=rbf, total=   2.6s\n",
            "[CV] C=10, gamma=0.01, kernel=rbf ....................................\n",
            "[CV] ..................... C=10, gamma=0.01, kernel=rbf, total=   2.5s\n",
            "[CV] C=10, gamma=0.01, kernel=rbf ....................................\n",
            "[CV] ..................... C=10, gamma=0.01, kernel=rbf, total=   2.4s\n",
            "[CV] C=10, gamma=0.01, kernel=rbf ....................................\n",
            "[CV] ..................... C=10, gamma=0.01, kernel=rbf, total=   2.6s\n",
            "[CV] C=10, gamma=0.01, kernel=poly ...................................\n",
            "[CV] .................... C=10, gamma=0.01, kernel=poly, total=   1.8s\n",
            "[CV] C=10, gamma=0.01, kernel=poly ...................................\n",
            "[CV] .................... C=10, gamma=0.01, kernel=poly, total=   1.7s\n",
            "[CV] C=10, gamma=0.01, kernel=poly ...................................\n",
            "[CV] .................... C=10, gamma=0.01, kernel=poly, total=   1.8s\n",
            "[CV] C=10, gamma=0.01, kernel=poly ...................................\n",
            "[CV] .................... C=10, gamma=0.01, kernel=poly, total=   1.9s\n",
            "[CV] C=10, gamma=0.01, kernel=poly ...................................\n",
            "[CV] .................... C=10, gamma=0.01, kernel=poly, total=   1.9s\n",
            "[CV] C=10, gamma=0.01, kernel=sigmoid ................................\n",
            "[CV] ................. C=10, gamma=0.01, kernel=sigmoid, total=   2.4s\n",
            "[CV] C=10, gamma=0.01, kernel=sigmoid ................................\n",
            "[CV] ................. C=10, gamma=0.01, kernel=sigmoid, total=   2.6s\n",
            "[CV] C=10, gamma=0.01, kernel=sigmoid ................................\n",
            "[CV] ................. C=10, gamma=0.01, kernel=sigmoid, total=   2.8s\n",
            "[CV] C=10, gamma=0.01, kernel=sigmoid ................................\n",
            "[CV] ................. C=10, gamma=0.01, kernel=sigmoid, total=   3.9s\n",
            "[CV] C=10, gamma=0.01, kernel=sigmoid ................................\n",
            "[CV] ................. C=10, gamma=0.01, kernel=sigmoid, total=   2.4s\n",
            "[CV] C=10, gamma=0.001, kernel=linear ................................\n",
            "[CV] ................. C=10, gamma=0.001, kernel=linear, total=   3.2s\n",
            "[CV] C=10, gamma=0.001, kernel=linear ................................\n",
            "[CV] ................. C=10, gamma=0.001, kernel=linear, total=   3.1s\n",
            "[CV] C=10, gamma=0.001, kernel=linear ................................\n",
            "[CV] ................. C=10, gamma=0.001, kernel=linear, total=   3.1s\n",
            "[CV] C=10, gamma=0.001, kernel=linear ................................\n",
            "[CV] ................. C=10, gamma=0.001, kernel=linear, total=   3.1s\n",
            "[CV] C=10, gamma=0.001, kernel=linear ................................\n",
            "[CV] ................. C=10, gamma=0.001, kernel=linear, total=   3.2s\n",
            "[CV] C=10, gamma=0.001, kernel=rbf ...................................\n",
            "[CV] .................... C=10, gamma=0.001, kernel=rbf, total=   2.4s\n",
            "[CV] C=10, gamma=0.001, kernel=rbf ...................................\n",
            "[CV] .................... C=10, gamma=0.001, kernel=rbf, total=   2.4s\n",
            "[CV] C=10, gamma=0.001, kernel=rbf ...................................\n",
            "[CV] .................... C=10, gamma=0.001, kernel=rbf, total=   2.3s\n",
            "[CV] C=10, gamma=0.001, kernel=rbf ...................................\n",
            "[CV] .................... C=10, gamma=0.001, kernel=rbf, total=   2.3s\n",
            "[CV] C=10, gamma=0.001, kernel=rbf ...................................\n",
            "[CV] .................... C=10, gamma=0.001, kernel=rbf, total=   2.7s\n",
            "[CV] C=10, gamma=0.001, kernel=poly ..................................\n",
            "[CV] ................... C=10, gamma=0.001, kernel=poly, total=   1.8s\n",
            "[CV] C=10, gamma=0.001, kernel=poly ..................................\n",
            "[CV] ................... C=10, gamma=0.001, kernel=poly, total=   1.7s\n",
            "[CV] C=10, gamma=0.001, kernel=poly ..................................\n",
            "[CV] ................... C=10, gamma=0.001, kernel=poly, total=   1.8s\n",
            "[CV] C=10, gamma=0.001, kernel=poly ..................................\n"
          ],
          "name": "stdout"
        },
        {
          "output_type": "stream",
          "text": [
            "[CV] ................... C=10, gamma=0.001, kernel=poly, total=   1.9s\n",
            "[CV] C=10, gamma=0.001, kernel=poly ..................................\n",
            "[CV] ................... C=10, gamma=0.001, kernel=poly, total=   1.7s\n",
            "[CV] C=10, gamma=0.001, kernel=sigmoid ...............................\n",
            "[CV] ................ C=10, gamma=0.001, kernel=sigmoid, total=   2.4s\n",
            "[CV] C=10, gamma=0.001, kernel=sigmoid ...............................\n",
            "[CV] ................ C=10, gamma=0.001, kernel=sigmoid, total=   2.6s\n",
            "[CV] C=10, gamma=0.001, kernel=sigmoid ...............................\n",
            "[CV] ................ C=10, gamma=0.001, kernel=sigmoid, total=   2.4s\n",
            "[CV] C=10, gamma=0.001, kernel=sigmoid ...............................\n",
            "[CV] ................ C=10, gamma=0.001, kernel=sigmoid, total=   2.3s\n",
            "[CV] C=10, gamma=0.001, kernel=sigmoid ...............................\n",
            "[CV] ................ C=10, gamma=0.001, kernel=sigmoid, total=   2.3s\n",
            "[CV] C=100, gamma=1, kernel=linear ...................................\n",
            "[CV] .................... C=100, gamma=1, kernel=linear, total=   3.3s\n",
            "[CV] C=100, gamma=1, kernel=linear ...................................\n",
            "[CV] .................... C=100, gamma=1, kernel=linear, total=   3.6s\n",
            "[CV] C=100, gamma=1, kernel=linear ...................................\n",
            "[CV] .................... C=100, gamma=1, kernel=linear, total=   3.8s\n",
            "[CV] C=100, gamma=1, kernel=linear ...................................\n",
            "[CV] .................... C=100, gamma=1, kernel=linear, total=   3.7s\n",
            "[CV] C=100, gamma=1, kernel=linear ...................................\n",
            "[CV] .................... C=100, gamma=1, kernel=linear, total=   3.6s\n",
            "[CV] C=100, gamma=1, kernel=rbf ......................................\n",
            "[CV] ....................... C=100, gamma=1, kernel=rbf, total=   3.6s\n",
            "[CV] C=100, gamma=1, kernel=rbf ......................................\n",
            "[CV] ....................... C=100, gamma=1, kernel=rbf, total=   3.9s\n",
            "[CV] C=100, gamma=1, kernel=rbf ......................................\n",
            "[CV] ....................... C=100, gamma=1, kernel=rbf, total=   3.0s\n",
            "[CV] C=100, gamma=1, kernel=rbf ......................................\n",
            "[CV] ....................... C=100, gamma=1, kernel=rbf, total=   2.6s\n",
            "[CV] C=100, gamma=1, kernel=rbf ......................................\n",
            "[CV] ....................... C=100, gamma=1, kernel=rbf, total=   2.7s\n",
            "[CV] C=100, gamma=1, kernel=poly .....................................\n",
            "[CV] ...................... C=100, gamma=1, kernel=poly, total=   2.7s\n",
            "[CV] C=100, gamma=1, kernel=poly .....................................\n",
            "[CV] ...................... C=100, gamma=1, kernel=poly, total=   2.8s\n",
            "[CV] C=100, gamma=1, kernel=poly .....................................\n",
            "[CV] ...................... C=100, gamma=1, kernel=poly, total=   2.6s\n",
            "[CV] C=100, gamma=1, kernel=poly .....................................\n",
            "[CV] ...................... C=100, gamma=1, kernel=poly, total=   2.6s\n",
            "[CV] C=100, gamma=1, kernel=poly .....................................\n",
            "[CV] ...................... C=100, gamma=1, kernel=poly, total=   2.6s\n",
            "[CV] C=100, gamma=1, kernel=sigmoid ..................................\n",
            "[CV] ................... C=100, gamma=1, kernel=sigmoid, total=   4.9s\n",
            "[CV] C=100, gamma=1, kernel=sigmoid ..................................\n",
            "[CV] ................... C=100, gamma=1, kernel=sigmoid, total=   4.1s\n",
            "[CV] C=100, gamma=1, kernel=sigmoid ..................................\n",
            "[CV] ................... C=100, gamma=1, kernel=sigmoid, total=   6.5s\n",
            "[CV] C=100, gamma=1, kernel=sigmoid ..................................\n",
            "[CV] ................... C=100, gamma=1, kernel=sigmoid, total=   4.2s\n",
            "[CV] C=100, gamma=1, kernel=sigmoid ..................................\n",
            "[CV] ................... C=100, gamma=1, kernel=sigmoid, total=   3.7s\n",
            "[CV] C=100, gamma=0.1, kernel=linear .................................\n",
            "[CV] .................. C=100, gamma=0.1, kernel=linear, total=   3.2s\n",
            "[CV] C=100, gamma=0.1, kernel=linear .................................\n",
            "[CV] .................. C=100, gamma=0.1, kernel=linear, total=   3.4s\n",
            "[CV] C=100, gamma=0.1, kernel=linear .................................\n",
            "[CV] .................. C=100, gamma=0.1, kernel=linear, total=   3.5s\n",
            "[CV] C=100, gamma=0.1, kernel=linear .................................\n",
            "[CV] .................. C=100, gamma=0.1, kernel=linear, total=   3.5s\n",
            "[CV] C=100, gamma=0.1, kernel=linear .................................\n",
            "[CV] .................. C=100, gamma=0.1, kernel=linear, total=   3.3s\n",
            "[CV] C=100, gamma=0.1, kernel=rbf ....................................\n",
            "[CV] ..................... C=100, gamma=0.1, kernel=rbf, total=   2.8s\n",
            "[CV] C=100, gamma=0.1, kernel=rbf ....................................\n",
            "[CV] ..................... C=100, gamma=0.1, kernel=rbf, total=   2.8s\n",
            "[CV] C=100, gamma=0.1, kernel=rbf ....................................\n",
            "[CV] ..................... C=100, gamma=0.1, kernel=rbf, total=   2.8s\n",
            "[CV] C=100, gamma=0.1, kernel=rbf ....................................\n",
            "[CV] ..................... C=100, gamma=0.1, kernel=rbf, total=   2.9s\n",
            "[CV] C=100, gamma=0.1, kernel=rbf ....................................\n",
            "[CV] ..................... C=100, gamma=0.1, kernel=rbf, total=   2.8s\n",
            "[CV] C=100, gamma=0.1, kernel=poly ...................................\n",
            "[CV] .................... C=100, gamma=0.1, kernel=poly, total=   2.4s\n",
            "[CV] C=100, gamma=0.1, kernel=poly ...................................\n",
            "[CV] .................... C=100, gamma=0.1, kernel=poly, total=   2.6s\n",
            "[CV] C=100, gamma=0.1, kernel=poly ...................................\n",
            "[CV] .................... C=100, gamma=0.1, kernel=poly, total=   2.5s\n",
            "[CV] C=100, gamma=0.1, kernel=poly ...................................\n",
            "[CV] .................... C=100, gamma=0.1, kernel=poly, total=   2.4s\n",
            "[CV] C=100, gamma=0.1, kernel=poly ...................................\n",
            "[CV] .................... C=100, gamma=0.1, kernel=poly, total=   2.6s\n",
            "[CV] C=100, gamma=0.1, kernel=sigmoid ................................\n",
            "[CV] ................. C=100, gamma=0.1, kernel=sigmoid, total=   3.1s\n",
            "[CV] C=100, gamma=0.1, kernel=sigmoid ................................\n",
            "[CV] ................. C=100, gamma=0.1, kernel=sigmoid, total=   3.2s\n",
            "[CV] C=100, gamma=0.1, kernel=sigmoid ................................\n",
            "[CV] ................. C=100, gamma=0.1, kernel=sigmoid, total=   2.9s\n",
            "[CV] C=100, gamma=0.1, kernel=sigmoid ................................\n",
            "[CV] ................. C=100, gamma=0.1, kernel=sigmoid, total=   3.1s\n",
            "[CV] C=100, gamma=0.1, kernel=sigmoid ................................\n",
            "[CV] ................. C=100, gamma=0.1, kernel=sigmoid, total=   3.2s\n",
            "[CV] C=100, gamma=0.01, kernel=linear ................................\n",
            "[CV] ................. C=100, gamma=0.01, kernel=linear, total=   3.3s\n",
            "[CV] C=100, gamma=0.01, kernel=linear ................................\n",
            "[CV] ................. C=100, gamma=0.01, kernel=linear, total=   3.2s\n",
            "[CV] C=100, gamma=0.01, kernel=linear ................................\n",
            "[CV] ................. C=100, gamma=0.01, kernel=linear, total=   3.6s\n",
            "[CV] C=100, gamma=0.01, kernel=linear ................................\n",
            "[CV] ................. C=100, gamma=0.01, kernel=linear, total=   3.8s\n",
            "[CV] C=100, gamma=0.01, kernel=linear ................................\n",
            "[CV] ................. C=100, gamma=0.01, kernel=linear, total=   3.3s\n",
            "[CV] C=100, gamma=0.01, kernel=rbf ...................................\n",
            "[CV] .................... C=100, gamma=0.01, kernel=rbf, total=   2.8s\n",
            "[CV] C=100, gamma=0.01, kernel=rbf ...................................\n",
            "[CV] .................... C=100, gamma=0.01, kernel=rbf, total=   2.5s\n",
            "[CV] C=100, gamma=0.01, kernel=rbf ...................................\n",
            "[CV] .................... C=100, gamma=0.01, kernel=rbf, total=   2.7s\n",
            "[CV] C=100, gamma=0.01, kernel=rbf ...................................\n",
            "[CV] .................... C=100, gamma=0.01, kernel=rbf, total=   2.5s\n",
            "[CV] C=100, gamma=0.01, kernel=rbf ...................................\n",
            "[CV] .................... C=100, gamma=0.01, kernel=rbf, total=   2.5s\n",
            "[CV] C=100, gamma=0.01, kernel=poly ..................................\n",
            "[CV] ................... C=100, gamma=0.01, kernel=poly, total=   1.7s\n",
            "[CV] C=100, gamma=0.01, kernel=poly ..................................\n"
          ],
          "name": "stdout"
        },
        {
          "output_type": "stream",
          "text": [
            "[CV] ................... C=100, gamma=0.01, kernel=poly, total=   1.7s\n",
            "[CV] C=100, gamma=0.01, kernel=poly ..................................\n",
            "[CV] ................... C=100, gamma=0.01, kernel=poly, total=   1.8s\n",
            "[CV] C=100, gamma=0.01, kernel=poly ..................................\n",
            "[CV] ................... C=100, gamma=0.01, kernel=poly, total=   1.7s\n",
            "[CV] C=100, gamma=0.01, kernel=poly ..................................\n",
            "[CV] ................... C=100, gamma=0.01, kernel=poly, total=   1.7s\n",
            "[CV] C=100, gamma=0.01, kernel=sigmoid ...............................\n",
            "[CV] ................ C=100, gamma=0.01, kernel=sigmoid, total=   2.5s\n",
            "[CV] C=100, gamma=0.01, kernel=sigmoid ...............................\n",
            "[CV] ................ C=100, gamma=0.01, kernel=sigmoid, total=   2.4s\n",
            "[CV] C=100, gamma=0.01, kernel=sigmoid ...............................\n",
            "[CV] ................ C=100, gamma=0.01, kernel=sigmoid, total=   2.5s\n",
            "[CV] C=100, gamma=0.01, kernel=sigmoid ...............................\n",
            "[CV] ................ C=100, gamma=0.01, kernel=sigmoid, total=   2.5s\n",
            "[CV] C=100, gamma=0.01, kernel=sigmoid ...............................\n",
            "[CV] ................ C=100, gamma=0.01, kernel=sigmoid, total=   2.5s\n",
            "[CV] C=100, gamma=0.001, kernel=linear ...............................\n",
            "[CV] ................ C=100, gamma=0.001, kernel=linear, total=   3.2s\n",
            "[CV] C=100, gamma=0.001, kernel=linear ...............................\n",
            "[CV] ................ C=100, gamma=0.001, kernel=linear, total=   3.3s\n",
            "[CV] C=100, gamma=0.001, kernel=linear ...............................\n",
            "[CV] ................ C=100, gamma=0.001, kernel=linear, total=   3.7s\n",
            "[CV] C=100, gamma=0.001, kernel=linear ...............................\n",
            "[CV] ................ C=100, gamma=0.001, kernel=linear, total=   3.8s\n",
            "[CV] C=100, gamma=0.001, kernel=linear ...............................\n",
            "[CV] ................ C=100, gamma=0.001, kernel=linear, total=   3.3s\n",
            "[CV] C=100, gamma=0.001, kernel=rbf ..................................\n",
            "[CV] ................... C=100, gamma=0.001, kernel=rbf, total=   2.3s\n",
            "[CV] C=100, gamma=0.001, kernel=rbf ..................................\n",
            "[CV] ................... C=100, gamma=0.001, kernel=rbf, total=   2.3s\n",
            "[CV] C=100, gamma=0.001, kernel=rbf ..................................\n",
            "[CV] ................... C=100, gamma=0.001, kernel=rbf, total=   2.3s\n",
            "[CV] C=100, gamma=0.001, kernel=rbf ..................................\n",
            "[CV] ................... C=100, gamma=0.001, kernel=rbf, total=   2.3s\n",
            "[CV] C=100, gamma=0.001, kernel=rbf ..................................\n",
            "[CV] ................... C=100, gamma=0.001, kernel=rbf, total=   2.4s\n",
            "[CV] C=100, gamma=0.001, kernel=poly .................................\n",
            "[CV] .................. C=100, gamma=0.001, kernel=poly, total=   1.8s\n",
            "[CV] C=100, gamma=0.001, kernel=poly .................................\n",
            "[CV] .................. C=100, gamma=0.001, kernel=poly, total=   1.8s\n",
            "[CV] C=100, gamma=0.001, kernel=poly .................................\n",
            "[CV] .................. C=100, gamma=0.001, kernel=poly, total=   1.7s\n",
            "[CV] C=100, gamma=0.001, kernel=poly .................................\n",
            "[CV] .................. C=100, gamma=0.001, kernel=poly, total=   1.7s\n",
            "[CV] C=100, gamma=0.001, kernel=poly .................................\n",
            "[CV] .................. C=100, gamma=0.001, kernel=poly, total=   1.8s\n",
            "[CV] C=100, gamma=0.001, kernel=sigmoid ..............................\n",
            "[CV] ............... C=100, gamma=0.001, kernel=sigmoid, total=   2.3s\n",
            "[CV] C=100, gamma=0.001, kernel=sigmoid ..............................\n",
            "[CV] ............... C=100, gamma=0.001, kernel=sigmoid, total=   2.4s\n",
            "[CV] C=100, gamma=0.001, kernel=sigmoid ..............................\n",
            "[CV] ............... C=100, gamma=0.001, kernel=sigmoid, total=   2.8s\n",
            "[CV] C=100, gamma=0.001, kernel=sigmoid ..............................\n",
            "[CV] ............... C=100, gamma=0.001, kernel=sigmoid, total=   2.6s\n",
            "[CV] C=100, gamma=0.001, kernel=sigmoid ..............................\n",
            "[CV] ............... C=100, gamma=0.001, kernel=sigmoid, total=   2.5s\n"
          ],
          "name": "stdout"
        },
        {
          "output_type": "stream",
          "text": [
            "[Parallel(n_jobs=1)]: Done 320 out of 320 | elapsed: 13.5min finished\n"
          ],
          "name": "stderr"
        },
        {
          "output_type": "execute_result",
          "data": {
            "text/plain": [
              "GridSearchCV(cv=None, error_score=nan,\n",
              "             estimator=SVC(C=1.0, break_ties=False, cache_size=200,\n",
              "                           class_weight=None, coef0=0.0,\n",
              "                           decision_function_shape='ovr', degree=3,\n",
              "                           gamma='scale', kernel='rbf', max_iter=-1,\n",
              "                           probability=False, random_state=None, shrinking=True,\n",
              "                           tol=0.001, verbose=False),\n",
              "             iid='deprecated', n_jobs=None,\n",
              "             param_grid={'C': [0.1, 1, 10, 100], 'gamma': [1, 0.1, 0.01, 0.001],\n",
              "                         'kernel': ['linear', 'rbf', 'poly', 'sigmoid']},\n",
              "             pre_dispatch='2*n_jobs', refit=True, return_train_score=False,\n",
              "             scoring='f1_weighted', verbose=2)"
            ]
          },
          "metadata": {
            "tags": []
          },
          "execution_count": 120
        }
      ]
    },
    {
      "cell_type": "code",
      "metadata": {
        "id": "lOMYHMjg3I2P",
        "colab_type": "code",
        "colab": {},
        "outputId": "9bee656a-b637-4adf-d01a-4038894f57d6"
      },
      "source": [
        "grid.best_score_"
      ],
      "execution_count": 0,
      "outputs": [
        {
          "output_type": "execute_result",
          "data": {
            "text/plain": [
              "0.4162840484174154"
            ]
          },
          "metadata": {
            "tags": []
          },
          "execution_count": 121
        }
      ]
    },
    {
      "cell_type": "code",
      "metadata": {
        "id": "qQn03gc73I2X",
        "colab_type": "code",
        "colab": {},
        "outputId": "c1ebb0a9-ffff-4e3f-ef79-1a6f5e822527"
      },
      "source": [
        "pd.DataFrame(grid.cv_results_)[['param_C','param_kernel','mean_test_score']]"
      ],
      "execution_count": 0,
      "outputs": [
        {
          "output_type": "execute_result",
          "data": {
            "text/html": [
              "<div>\n",
              "<style scoped>\n",
              "    .dataframe tbody tr th:only-of-type {\n",
              "        vertical-align: middle;\n",
              "    }\n",
              "\n",
              "    .dataframe tbody tr th {\n",
              "        vertical-align: top;\n",
              "    }\n",
              "\n",
              "    .dataframe thead th {\n",
              "        text-align: right;\n",
              "    }\n",
              "</style>\n",
              "<table border=\"1\" class=\"dataframe\">\n",
              "  <thead>\n",
              "    <tr style=\"text-align: right;\">\n",
              "      <th></th>\n",
              "      <th>param_C</th>\n",
              "      <th>param_kernel</th>\n",
              "      <th>mean_test_score</th>\n",
              "    </tr>\n",
              "  </thead>\n",
              "  <tbody>\n",
              "    <tr>\n",
              "      <th>0</th>\n",
              "      <td>0.1</td>\n",
              "      <td>linear</td>\n",
              "      <td>0.362401</td>\n",
              "    </tr>\n",
              "    <tr>\n",
              "      <th>1</th>\n",
              "      <td>0.1</td>\n",
              "      <td>rbf</td>\n",
              "      <td>0.362401</td>\n",
              "    </tr>\n",
              "    <tr>\n",
              "      <th>2</th>\n",
              "      <td>0.1</td>\n",
              "      <td>poly</td>\n",
              "      <td>0.362401</td>\n",
              "    </tr>\n",
              "    <tr>\n",
              "      <th>3</th>\n",
              "      <td>0.1</td>\n",
              "      <td>sigmoid</td>\n",
              "      <td>0.362401</td>\n",
              "    </tr>\n",
              "    <tr>\n",
              "      <th>4</th>\n",
              "      <td>0.1</td>\n",
              "      <td>linear</td>\n",
              "      <td>0.362401</td>\n",
              "    </tr>\n",
              "    <tr>\n",
              "      <th>5</th>\n",
              "      <td>0.1</td>\n",
              "      <td>rbf</td>\n",
              "      <td>0.362401</td>\n",
              "    </tr>\n",
              "    <tr>\n",
              "      <th>6</th>\n",
              "      <td>0.1</td>\n",
              "      <td>poly</td>\n",
              "      <td>0.362401</td>\n",
              "    </tr>\n",
              "    <tr>\n",
              "      <th>7</th>\n",
              "      <td>0.1</td>\n",
              "      <td>sigmoid</td>\n",
              "      <td>0.362401</td>\n",
              "    </tr>\n",
              "    <tr>\n",
              "      <th>8</th>\n",
              "      <td>0.1</td>\n",
              "      <td>linear</td>\n",
              "      <td>0.362401</td>\n",
              "    </tr>\n",
              "    <tr>\n",
              "      <th>9</th>\n",
              "      <td>0.1</td>\n",
              "      <td>rbf</td>\n",
              "      <td>0.362401</td>\n",
              "    </tr>\n",
              "    <tr>\n",
              "      <th>10</th>\n",
              "      <td>0.1</td>\n",
              "      <td>poly</td>\n",
              "      <td>0.362401</td>\n",
              "    </tr>\n",
              "    <tr>\n",
              "      <th>11</th>\n",
              "      <td>0.1</td>\n",
              "      <td>sigmoid</td>\n",
              "      <td>0.362401</td>\n",
              "    </tr>\n",
              "    <tr>\n",
              "      <th>12</th>\n",
              "      <td>0.1</td>\n",
              "      <td>linear</td>\n",
              "      <td>0.362401</td>\n",
              "    </tr>\n",
              "    <tr>\n",
              "      <th>13</th>\n",
              "      <td>0.1</td>\n",
              "      <td>rbf</td>\n",
              "      <td>0.362401</td>\n",
              "    </tr>\n",
              "    <tr>\n",
              "      <th>14</th>\n",
              "      <td>0.1</td>\n",
              "      <td>poly</td>\n",
              "      <td>0.362401</td>\n",
              "    </tr>\n",
              "    <tr>\n",
              "      <th>15</th>\n",
              "      <td>0.1</td>\n",
              "      <td>sigmoid</td>\n",
              "      <td>0.362401</td>\n",
              "    </tr>\n",
              "    <tr>\n",
              "      <th>16</th>\n",
              "      <td>1</td>\n",
              "      <td>linear</td>\n",
              "      <td>0.377656</td>\n",
              "    </tr>\n",
              "    <tr>\n",
              "      <th>17</th>\n",
              "      <td>1</td>\n",
              "      <td>rbf</td>\n",
              "      <td>0.368821</td>\n",
              "    </tr>\n",
              "    <tr>\n",
              "      <th>18</th>\n",
              "      <td>1</td>\n",
              "      <td>poly</td>\n",
              "      <td>0.369287</td>\n",
              "    </tr>\n",
              "    <tr>\n",
              "      <th>19</th>\n",
              "      <td>1</td>\n",
              "      <td>sigmoid</td>\n",
              "      <td>0.367319</td>\n",
              "    </tr>\n",
              "    <tr>\n",
              "      <th>20</th>\n",
              "      <td>1</td>\n",
              "      <td>linear</td>\n",
              "      <td>0.377656</td>\n",
              "    </tr>\n",
              "    <tr>\n",
              "      <th>21</th>\n",
              "      <td>1</td>\n",
              "      <td>rbf</td>\n",
              "      <td>0.362401</td>\n",
              "    </tr>\n",
              "    <tr>\n",
              "      <th>22</th>\n",
              "      <td>1</td>\n",
              "      <td>poly</td>\n",
              "      <td>0.362401</td>\n",
              "    </tr>\n",
              "    <tr>\n",
              "      <th>23</th>\n",
              "      <td>1</td>\n",
              "      <td>sigmoid</td>\n",
              "      <td>0.362401</td>\n",
              "    </tr>\n",
              "    <tr>\n",
              "      <th>24</th>\n",
              "      <td>1</td>\n",
              "      <td>linear</td>\n",
              "      <td>0.377656</td>\n",
              "    </tr>\n",
              "    <tr>\n",
              "      <th>25</th>\n",
              "      <td>1</td>\n",
              "      <td>rbf</td>\n",
              "      <td>0.362401</td>\n",
              "    </tr>\n",
              "    <tr>\n",
              "      <th>26</th>\n",
              "      <td>1</td>\n",
              "      <td>poly</td>\n",
              "      <td>0.362401</td>\n",
              "    </tr>\n",
              "    <tr>\n",
              "      <th>27</th>\n",
              "      <td>1</td>\n",
              "      <td>sigmoid</td>\n",
              "      <td>0.362401</td>\n",
              "    </tr>\n",
              "    <tr>\n",
              "      <th>28</th>\n",
              "      <td>1</td>\n",
              "      <td>linear</td>\n",
              "      <td>0.377656</td>\n",
              "    </tr>\n",
              "    <tr>\n",
              "      <th>29</th>\n",
              "      <td>1</td>\n",
              "      <td>rbf</td>\n",
              "      <td>0.362401</td>\n",
              "    </tr>\n",
              "    <tr>\n",
              "      <th>30</th>\n",
              "      <td>1</td>\n",
              "      <td>poly</td>\n",
              "      <td>0.362401</td>\n",
              "    </tr>\n",
              "    <tr>\n",
              "      <th>31</th>\n",
              "      <td>1</td>\n",
              "      <td>sigmoid</td>\n",
              "      <td>0.362401</td>\n",
              "    </tr>\n",
              "    <tr>\n",
              "      <th>32</th>\n",
              "      <td>10</td>\n",
              "      <td>linear</td>\n",
              "      <td>0.406758</td>\n",
              "    </tr>\n",
              "    <tr>\n",
              "      <th>33</th>\n",
              "      <td>10</td>\n",
              "      <td>rbf</td>\n",
              "      <td>0.400728</td>\n",
              "    </tr>\n",
              "    <tr>\n",
              "      <th>34</th>\n",
              "      <td>10</td>\n",
              "      <td>poly</td>\n",
              "      <td>0.373243</td>\n",
              "    </tr>\n",
              "    <tr>\n",
              "      <th>35</th>\n",
              "      <td>10</td>\n",
              "      <td>sigmoid</td>\n",
              "      <td>0.398726</td>\n",
              "    </tr>\n",
              "    <tr>\n",
              "      <th>36</th>\n",
              "      <td>10</td>\n",
              "      <td>linear</td>\n",
              "      <td>0.406758</td>\n",
              "    </tr>\n",
              "    <tr>\n",
              "      <th>37</th>\n",
              "      <td>10</td>\n",
              "      <td>rbf</td>\n",
              "      <td>0.416284</td>\n",
              "    </tr>\n",
              "    <tr>\n",
              "      <th>38</th>\n",
              "      <td>10</td>\n",
              "      <td>poly</td>\n",
              "      <td>0.362401</td>\n",
              "    </tr>\n",
              "    <tr>\n",
              "      <th>39</th>\n",
              "      <td>10</td>\n",
              "      <td>sigmoid</td>\n",
              "      <td>0.377367</td>\n",
              "    </tr>\n",
              "    <tr>\n",
              "      <th>40</th>\n",
              "      <td>10</td>\n",
              "      <td>linear</td>\n",
              "      <td>0.406758</td>\n",
              "    </tr>\n",
              "    <tr>\n",
              "      <th>41</th>\n",
              "      <td>10</td>\n",
              "      <td>rbf</td>\n",
              "      <td>0.362401</td>\n",
              "    </tr>\n",
              "    <tr>\n",
              "      <th>42</th>\n",
              "      <td>10</td>\n",
              "      <td>poly</td>\n",
              "      <td>0.362401</td>\n",
              "    </tr>\n",
              "    <tr>\n",
              "      <th>43</th>\n",
              "      <td>10</td>\n",
              "      <td>sigmoid</td>\n",
              "      <td>0.362401</td>\n",
              "    </tr>\n",
              "    <tr>\n",
              "      <th>44</th>\n",
              "      <td>10</td>\n",
              "      <td>linear</td>\n",
              "      <td>0.406758</td>\n",
              "    </tr>\n",
              "    <tr>\n",
              "      <th>45</th>\n",
              "      <td>10</td>\n",
              "      <td>rbf</td>\n",
              "      <td>0.362401</td>\n",
              "    </tr>\n",
              "    <tr>\n",
              "      <th>46</th>\n",
              "      <td>10</td>\n",
              "      <td>poly</td>\n",
              "      <td>0.362401</td>\n",
              "    </tr>\n",
              "    <tr>\n",
              "      <th>47</th>\n",
              "      <td>10</td>\n",
              "      <td>sigmoid</td>\n",
              "      <td>0.362401</td>\n",
              "    </tr>\n",
              "    <tr>\n",
              "      <th>48</th>\n",
              "      <td>100</td>\n",
              "      <td>linear</td>\n",
              "      <td>0.396042</td>\n",
              "    </tr>\n",
              "    <tr>\n",
              "      <th>49</th>\n",
              "      <td>100</td>\n",
              "      <td>rbf</td>\n",
              "      <td>0.403154</td>\n",
              "    </tr>\n",
              "    <tr>\n",
              "      <th>50</th>\n",
              "      <td>100</td>\n",
              "      <td>poly</td>\n",
              "      <td>0.373685</td>\n",
              "    </tr>\n",
              "    <tr>\n",
              "      <th>51</th>\n",
              "      <td>100</td>\n",
              "      <td>sigmoid</td>\n",
              "      <td>0.389232</td>\n",
              "    </tr>\n",
              "    <tr>\n",
              "      <th>52</th>\n",
              "      <td>100</td>\n",
              "      <td>linear</td>\n",
              "      <td>0.396042</td>\n",
              "    </tr>\n",
              "    <tr>\n",
              "      <th>53</th>\n",
              "      <td>100</td>\n",
              "      <td>rbf</td>\n",
              "      <td>0.415367</td>\n",
              "    </tr>\n",
              "    <tr>\n",
              "      <th>54</th>\n",
              "      <td>100</td>\n",
              "      <td>poly</td>\n",
              "      <td>0.362401</td>\n",
              "    </tr>\n",
              "    <tr>\n",
              "      <th>55</th>\n",
              "      <td>100</td>\n",
              "      <td>sigmoid</td>\n",
              "      <td>0.408079</td>\n",
              "    </tr>\n",
              "    <tr>\n",
              "      <th>56</th>\n",
              "      <td>100</td>\n",
              "      <td>linear</td>\n",
              "      <td>0.396042</td>\n",
              "    </tr>\n",
              "    <tr>\n",
              "      <th>57</th>\n",
              "      <td>100</td>\n",
              "      <td>rbf</td>\n",
              "      <td>0.413182</td>\n",
              "    </tr>\n",
              "    <tr>\n",
              "      <th>58</th>\n",
              "      <td>100</td>\n",
              "      <td>poly</td>\n",
              "      <td>0.362401</td>\n",
              "    </tr>\n",
              "    <tr>\n",
              "      <th>59</th>\n",
              "      <td>100</td>\n",
              "      <td>sigmoid</td>\n",
              "      <td>0.377041</td>\n",
              "    </tr>\n",
              "    <tr>\n",
              "      <th>60</th>\n",
              "      <td>100</td>\n",
              "      <td>linear</td>\n",
              "      <td>0.396042</td>\n",
              "    </tr>\n",
              "    <tr>\n",
              "      <th>61</th>\n",
              "      <td>100</td>\n",
              "      <td>rbf</td>\n",
              "      <td>0.362401</td>\n",
              "    </tr>\n",
              "    <tr>\n",
              "      <th>62</th>\n",
              "      <td>100</td>\n",
              "      <td>poly</td>\n",
              "      <td>0.362401</td>\n",
              "    </tr>\n",
              "    <tr>\n",
              "      <th>63</th>\n",
              "      <td>100</td>\n",
              "      <td>sigmoid</td>\n",
              "      <td>0.362401</td>\n",
              "    </tr>\n",
              "  </tbody>\n",
              "</table>\n",
              "</div>"
            ],
            "text/plain": [
              "   param_C param_kernel  mean_test_score\n",
              "0      0.1       linear         0.362401\n",
              "1      0.1          rbf         0.362401\n",
              "2      0.1         poly         0.362401\n",
              "3      0.1      sigmoid         0.362401\n",
              "4      0.1       linear         0.362401\n",
              "5      0.1          rbf         0.362401\n",
              "6      0.1         poly         0.362401\n",
              "7      0.1      sigmoid         0.362401\n",
              "8      0.1       linear         0.362401\n",
              "9      0.1          rbf         0.362401\n",
              "10     0.1         poly         0.362401\n",
              "11     0.1      sigmoid         0.362401\n",
              "12     0.1       linear         0.362401\n",
              "13     0.1          rbf         0.362401\n",
              "14     0.1         poly         0.362401\n",
              "15     0.1      sigmoid         0.362401\n",
              "16       1       linear         0.377656\n",
              "17       1          rbf         0.368821\n",
              "18       1         poly         0.369287\n",
              "19       1      sigmoid         0.367319\n",
              "20       1       linear         0.377656\n",
              "21       1          rbf         0.362401\n",
              "22       1         poly         0.362401\n",
              "23       1      sigmoid         0.362401\n",
              "24       1       linear         0.377656\n",
              "25       1          rbf         0.362401\n",
              "26       1         poly         0.362401\n",
              "27       1      sigmoid         0.362401\n",
              "28       1       linear         0.377656\n",
              "29       1          rbf         0.362401\n",
              "30       1         poly         0.362401\n",
              "31       1      sigmoid         0.362401\n",
              "32      10       linear         0.406758\n",
              "33      10          rbf         0.400728\n",
              "34      10         poly         0.373243\n",
              "35      10      sigmoid         0.398726\n",
              "36      10       linear         0.406758\n",
              "37      10          rbf         0.416284\n",
              "38      10         poly         0.362401\n",
              "39      10      sigmoid         0.377367\n",
              "40      10       linear         0.406758\n",
              "41      10          rbf         0.362401\n",
              "42      10         poly         0.362401\n",
              "43      10      sigmoid         0.362401\n",
              "44      10       linear         0.406758\n",
              "45      10          rbf         0.362401\n",
              "46      10         poly         0.362401\n",
              "47      10      sigmoid         0.362401\n",
              "48     100       linear         0.396042\n",
              "49     100          rbf         0.403154\n",
              "50     100         poly         0.373685\n",
              "51     100      sigmoid         0.389232\n",
              "52     100       linear         0.396042\n",
              "53     100          rbf         0.415367\n",
              "54     100         poly         0.362401\n",
              "55     100      sigmoid         0.408079\n",
              "56     100       linear         0.396042\n",
              "57     100          rbf         0.413182\n",
              "58     100         poly         0.362401\n",
              "59     100      sigmoid         0.377041\n",
              "60     100       linear         0.396042\n",
              "61     100          rbf         0.362401\n",
              "62     100         poly         0.362401\n",
              "63     100      sigmoid         0.362401"
            ]
          },
          "metadata": {
            "tags": []
          },
          "execution_count": 122
        }
      ]
    },
    {
      "cell_type": "code",
      "metadata": {
        "id": "dVuVCg5i3I2_",
        "colab_type": "code",
        "colab": {},
        "outputId": "2df65007-f0a3-4f0c-bcbb-ce33c913f618"
      },
      "source": [
        "stsvc= pd.DataFrame(grid.cv_results_)[['params','mean_test_score']]\n",
        "stsvc"
      ],
      "execution_count": 0,
      "outputs": [
        {
          "output_type": "execute_result",
          "data": {
            "text/html": [
              "<div>\n",
              "<style scoped>\n",
              "    .dataframe tbody tr th:only-of-type {\n",
              "        vertical-align: middle;\n",
              "    }\n",
              "\n",
              "    .dataframe tbody tr th {\n",
              "        vertical-align: top;\n",
              "    }\n",
              "\n",
              "    .dataframe thead th {\n",
              "        text-align: right;\n",
              "    }\n",
              "</style>\n",
              "<table border=\"1\" class=\"dataframe\">\n",
              "  <thead>\n",
              "    <tr style=\"text-align: right;\">\n",
              "      <th></th>\n",
              "      <th>params</th>\n",
              "      <th>mean_test_score</th>\n",
              "    </tr>\n",
              "  </thead>\n",
              "  <tbody>\n",
              "    <tr>\n",
              "      <th>0</th>\n",
              "      <td>{'C': 0.1, 'gamma': 1, 'kernel': 'linear'}</td>\n",
              "      <td>0.362401</td>\n",
              "    </tr>\n",
              "    <tr>\n",
              "      <th>1</th>\n",
              "      <td>{'C': 0.1, 'gamma': 1, 'kernel': 'rbf'}</td>\n",
              "      <td>0.362401</td>\n",
              "    </tr>\n",
              "    <tr>\n",
              "      <th>2</th>\n",
              "      <td>{'C': 0.1, 'gamma': 1, 'kernel': 'poly'}</td>\n",
              "      <td>0.362401</td>\n",
              "    </tr>\n",
              "    <tr>\n",
              "      <th>3</th>\n",
              "      <td>{'C': 0.1, 'gamma': 1, 'kernel': 'sigmoid'}</td>\n",
              "      <td>0.362401</td>\n",
              "    </tr>\n",
              "    <tr>\n",
              "      <th>4</th>\n",
              "      <td>{'C': 0.1, 'gamma': 0.1, 'kernel': 'linear'}</td>\n",
              "      <td>0.362401</td>\n",
              "    </tr>\n",
              "    <tr>\n",
              "      <th>5</th>\n",
              "      <td>{'C': 0.1, 'gamma': 0.1, 'kernel': 'rbf'}</td>\n",
              "      <td>0.362401</td>\n",
              "    </tr>\n",
              "    <tr>\n",
              "      <th>6</th>\n",
              "      <td>{'C': 0.1, 'gamma': 0.1, 'kernel': 'poly'}</td>\n",
              "      <td>0.362401</td>\n",
              "    </tr>\n",
              "    <tr>\n",
              "      <th>7</th>\n",
              "      <td>{'C': 0.1, 'gamma': 0.1, 'kernel': 'sigmoid'}</td>\n",
              "      <td>0.362401</td>\n",
              "    </tr>\n",
              "    <tr>\n",
              "      <th>8</th>\n",
              "      <td>{'C': 0.1, 'gamma': 0.01, 'kernel': 'linear'}</td>\n",
              "      <td>0.362401</td>\n",
              "    </tr>\n",
              "    <tr>\n",
              "      <th>9</th>\n",
              "      <td>{'C': 0.1, 'gamma': 0.01, 'kernel': 'rbf'}</td>\n",
              "      <td>0.362401</td>\n",
              "    </tr>\n",
              "    <tr>\n",
              "      <th>10</th>\n",
              "      <td>{'C': 0.1, 'gamma': 0.01, 'kernel': 'poly'}</td>\n",
              "      <td>0.362401</td>\n",
              "    </tr>\n",
              "    <tr>\n",
              "      <th>11</th>\n",
              "      <td>{'C': 0.1, 'gamma': 0.01, 'kernel': 'sigmoid'}</td>\n",
              "      <td>0.362401</td>\n",
              "    </tr>\n",
              "    <tr>\n",
              "      <th>12</th>\n",
              "      <td>{'C': 0.1, 'gamma': 0.001, 'kernel': 'linear'}</td>\n",
              "      <td>0.362401</td>\n",
              "    </tr>\n",
              "    <tr>\n",
              "      <th>13</th>\n",
              "      <td>{'C': 0.1, 'gamma': 0.001, 'kernel': 'rbf'}</td>\n",
              "      <td>0.362401</td>\n",
              "    </tr>\n",
              "    <tr>\n",
              "      <th>14</th>\n",
              "      <td>{'C': 0.1, 'gamma': 0.001, 'kernel': 'poly'}</td>\n",
              "      <td>0.362401</td>\n",
              "    </tr>\n",
              "    <tr>\n",
              "      <th>15</th>\n",
              "      <td>{'C': 0.1, 'gamma': 0.001, 'kernel': 'sigmoid'}</td>\n",
              "      <td>0.362401</td>\n",
              "    </tr>\n",
              "    <tr>\n",
              "      <th>16</th>\n",
              "      <td>{'C': 1, 'gamma': 1, 'kernel': 'linear'}</td>\n",
              "      <td>0.377656</td>\n",
              "    </tr>\n",
              "    <tr>\n",
              "      <th>17</th>\n",
              "      <td>{'C': 1, 'gamma': 1, 'kernel': 'rbf'}</td>\n",
              "      <td>0.368821</td>\n",
              "    </tr>\n",
              "    <tr>\n",
              "      <th>18</th>\n",
              "      <td>{'C': 1, 'gamma': 1, 'kernel': 'poly'}</td>\n",
              "      <td>0.369287</td>\n",
              "    </tr>\n",
              "    <tr>\n",
              "      <th>19</th>\n",
              "      <td>{'C': 1, 'gamma': 1, 'kernel': 'sigmoid'}</td>\n",
              "      <td>0.367319</td>\n",
              "    </tr>\n",
              "    <tr>\n",
              "      <th>20</th>\n",
              "      <td>{'C': 1, 'gamma': 0.1, 'kernel': 'linear'}</td>\n",
              "      <td>0.377656</td>\n",
              "    </tr>\n",
              "    <tr>\n",
              "      <th>21</th>\n",
              "      <td>{'C': 1, 'gamma': 0.1, 'kernel': 'rbf'}</td>\n",
              "      <td>0.362401</td>\n",
              "    </tr>\n",
              "    <tr>\n",
              "      <th>22</th>\n",
              "      <td>{'C': 1, 'gamma': 0.1, 'kernel': 'poly'}</td>\n",
              "      <td>0.362401</td>\n",
              "    </tr>\n",
              "    <tr>\n",
              "      <th>23</th>\n",
              "      <td>{'C': 1, 'gamma': 0.1, 'kernel': 'sigmoid'}</td>\n",
              "      <td>0.362401</td>\n",
              "    </tr>\n",
              "    <tr>\n",
              "      <th>24</th>\n",
              "      <td>{'C': 1, 'gamma': 0.01, 'kernel': 'linear'}</td>\n",
              "      <td>0.377656</td>\n",
              "    </tr>\n",
              "    <tr>\n",
              "      <th>25</th>\n",
              "      <td>{'C': 1, 'gamma': 0.01, 'kernel': 'rbf'}</td>\n",
              "      <td>0.362401</td>\n",
              "    </tr>\n",
              "    <tr>\n",
              "      <th>26</th>\n",
              "      <td>{'C': 1, 'gamma': 0.01, 'kernel': 'poly'}</td>\n",
              "      <td>0.362401</td>\n",
              "    </tr>\n",
              "    <tr>\n",
              "      <th>27</th>\n",
              "      <td>{'C': 1, 'gamma': 0.01, 'kernel': 'sigmoid'}</td>\n",
              "      <td>0.362401</td>\n",
              "    </tr>\n",
              "    <tr>\n",
              "      <th>28</th>\n",
              "      <td>{'C': 1, 'gamma': 0.001, 'kernel': 'linear'}</td>\n",
              "      <td>0.377656</td>\n",
              "    </tr>\n",
              "    <tr>\n",
              "      <th>29</th>\n",
              "      <td>{'C': 1, 'gamma': 0.001, 'kernel': 'rbf'}</td>\n",
              "      <td>0.362401</td>\n",
              "    </tr>\n",
              "    <tr>\n",
              "      <th>30</th>\n",
              "      <td>{'C': 1, 'gamma': 0.001, 'kernel': 'poly'}</td>\n",
              "      <td>0.362401</td>\n",
              "    </tr>\n",
              "    <tr>\n",
              "      <th>31</th>\n",
              "      <td>{'C': 1, 'gamma': 0.001, 'kernel': 'sigmoid'}</td>\n",
              "      <td>0.362401</td>\n",
              "    </tr>\n",
              "    <tr>\n",
              "      <th>32</th>\n",
              "      <td>{'C': 10, 'gamma': 1, 'kernel': 'linear'}</td>\n",
              "      <td>0.406758</td>\n",
              "    </tr>\n",
              "    <tr>\n",
              "      <th>33</th>\n",
              "      <td>{'C': 10, 'gamma': 1, 'kernel': 'rbf'}</td>\n",
              "      <td>0.400728</td>\n",
              "    </tr>\n",
              "    <tr>\n",
              "      <th>34</th>\n",
              "      <td>{'C': 10, 'gamma': 1, 'kernel': 'poly'}</td>\n",
              "      <td>0.373243</td>\n",
              "    </tr>\n",
              "    <tr>\n",
              "      <th>35</th>\n",
              "      <td>{'C': 10, 'gamma': 1, 'kernel': 'sigmoid'}</td>\n",
              "      <td>0.398726</td>\n",
              "    </tr>\n",
              "    <tr>\n",
              "      <th>36</th>\n",
              "      <td>{'C': 10, 'gamma': 0.1, 'kernel': 'linear'}</td>\n",
              "      <td>0.406758</td>\n",
              "    </tr>\n",
              "    <tr>\n",
              "      <th>37</th>\n",
              "      <td>{'C': 10, 'gamma': 0.1, 'kernel': 'rbf'}</td>\n",
              "      <td>0.416284</td>\n",
              "    </tr>\n",
              "    <tr>\n",
              "      <th>38</th>\n",
              "      <td>{'C': 10, 'gamma': 0.1, 'kernel': 'poly'}</td>\n",
              "      <td>0.362401</td>\n",
              "    </tr>\n",
              "    <tr>\n",
              "      <th>39</th>\n",
              "      <td>{'C': 10, 'gamma': 0.1, 'kernel': 'sigmoid'}</td>\n",
              "      <td>0.377367</td>\n",
              "    </tr>\n",
              "    <tr>\n",
              "      <th>40</th>\n",
              "      <td>{'C': 10, 'gamma': 0.01, 'kernel': 'linear'}</td>\n",
              "      <td>0.406758</td>\n",
              "    </tr>\n",
              "    <tr>\n",
              "      <th>41</th>\n",
              "      <td>{'C': 10, 'gamma': 0.01, 'kernel': 'rbf'}</td>\n",
              "      <td>0.362401</td>\n",
              "    </tr>\n",
              "    <tr>\n",
              "      <th>42</th>\n",
              "      <td>{'C': 10, 'gamma': 0.01, 'kernel': 'poly'}</td>\n",
              "      <td>0.362401</td>\n",
              "    </tr>\n",
              "    <tr>\n",
              "      <th>43</th>\n",
              "      <td>{'C': 10, 'gamma': 0.01, 'kernel': 'sigmoid'}</td>\n",
              "      <td>0.362401</td>\n",
              "    </tr>\n",
              "    <tr>\n",
              "      <th>44</th>\n",
              "      <td>{'C': 10, 'gamma': 0.001, 'kernel': 'linear'}</td>\n",
              "      <td>0.406758</td>\n",
              "    </tr>\n",
              "    <tr>\n",
              "      <th>45</th>\n",
              "      <td>{'C': 10, 'gamma': 0.001, 'kernel': 'rbf'}</td>\n",
              "      <td>0.362401</td>\n",
              "    </tr>\n",
              "    <tr>\n",
              "      <th>46</th>\n",
              "      <td>{'C': 10, 'gamma': 0.001, 'kernel': 'poly'}</td>\n",
              "      <td>0.362401</td>\n",
              "    </tr>\n",
              "    <tr>\n",
              "      <th>47</th>\n",
              "      <td>{'C': 10, 'gamma': 0.001, 'kernel': 'sigmoid'}</td>\n",
              "      <td>0.362401</td>\n",
              "    </tr>\n",
              "    <tr>\n",
              "      <th>48</th>\n",
              "      <td>{'C': 100, 'gamma': 1, 'kernel': 'linear'}</td>\n",
              "      <td>0.396042</td>\n",
              "    </tr>\n",
              "    <tr>\n",
              "      <th>49</th>\n",
              "      <td>{'C': 100, 'gamma': 1, 'kernel': 'rbf'}</td>\n",
              "      <td>0.403154</td>\n",
              "    </tr>\n",
              "    <tr>\n",
              "      <th>50</th>\n",
              "      <td>{'C': 100, 'gamma': 1, 'kernel': 'poly'}</td>\n",
              "      <td>0.373685</td>\n",
              "    </tr>\n",
              "    <tr>\n",
              "      <th>51</th>\n",
              "      <td>{'C': 100, 'gamma': 1, 'kernel': 'sigmoid'}</td>\n",
              "      <td>0.389232</td>\n",
              "    </tr>\n",
              "    <tr>\n",
              "      <th>52</th>\n",
              "      <td>{'C': 100, 'gamma': 0.1, 'kernel': 'linear'}</td>\n",
              "      <td>0.396042</td>\n",
              "    </tr>\n",
              "    <tr>\n",
              "      <th>53</th>\n",
              "      <td>{'C': 100, 'gamma': 0.1, 'kernel': 'rbf'}</td>\n",
              "      <td>0.415367</td>\n",
              "    </tr>\n",
              "    <tr>\n",
              "      <th>54</th>\n",
              "      <td>{'C': 100, 'gamma': 0.1, 'kernel': 'poly'}</td>\n",
              "      <td>0.362401</td>\n",
              "    </tr>\n",
              "    <tr>\n",
              "      <th>55</th>\n",
              "      <td>{'C': 100, 'gamma': 0.1, 'kernel': 'sigmoid'}</td>\n",
              "      <td>0.408079</td>\n",
              "    </tr>\n",
              "    <tr>\n",
              "      <th>56</th>\n",
              "      <td>{'C': 100, 'gamma': 0.01, 'kernel': 'linear'}</td>\n",
              "      <td>0.396042</td>\n",
              "    </tr>\n",
              "    <tr>\n",
              "      <th>57</th>\n",
              "      <td>{'C': 100, 'gamma': 0.01, 'kernel': 'rbf'}</td>\n",
              "      <td>0.413182</td>\n",
              "    </tr>\n",
              "    <tr>\n",
              "      <th>58</th>\n",
              "      <td>{'C': 100, 'gamma': 0.01, 'kernel': 'poly'}</td>\n",
              "      <td>0.362401</td>\n",
              "    </tr>\n",
              "    <tr>\n",
              "      <th>59</th>\n",
              "      <td>{'C': 100, 'gamma': 0.01, 'kernel': 'sigmoid'}</td>\n",
              "      <td>0.377041</td>\n",
              "    </tr>\n",
              "    <tr>\n",
              "      <th>60</th>\n",
              "      <td>{'C': 100, 'gamma': 0.001, 'kernel': 'linear'}</td>\n",
              "      <td>0.396042</td>\n",
              "    </tr>\n",
              "    <tr>\n",
              "      <th>61</th>\n",
              "      <td>{'C': 100, 'gamma': 0.001, 'kernel': 'rbf'}</td>\n",
              "      <td>0.362401</td>\n",
              "    </tr>\n",
              "    <tr>\n",
              "      <th>62</th>\n",
              "      <td>{'C': 100, 'gamma': 0.001, 'kernel': 'poly'}</td>\n",
              "      <td>0.362401</td>\n",
              "    </tr>\n",
              "    <tr>\n",
              "      <th>63</th>\n",
              "      <td>{'C': 100, 'gamma': 0.001, 'kernel': 'sigmoid'}</td>\n",
              "      <td>0.362401</td>\n",
              "    </tr>\n",
              "  </tbody>\n",
              "</table>\n",
              "</div>"
            ],
            "text/plain": [
              "                                             params  mean_test_score\n",
              "0        {'C': 0.1, 'gamma': 1, 'kernel': 'linear'}         0.362401\n",
              "1           {'C': 0.1, 'gamma': 1, 'kernel': 'rbf'}         0.362401\n",
              "2          {'C': 0.1, 'gamma': 1, 'kernel': 'poly'}         0.362401\n",
              "3       {'C': 0.1, 'gamma': 1, 'kernel': 'sigmoid'}         0.362401\n",
              "4      {'C': 0.1, 'gamma': 0.1, 'kernel': 'linear'}         0.362401\n",
              "5         {'C': 0.1, 'gamma': 0.1, 'kernel': 'rbf'}         0.362401\n",
              "6        {'C': 0.1, 'gamma': 0.1, 'kernel': 'poly'}         0.362401\n",
              "7     {'C': 0.1, 'gamma': 0.1, 'kernel': 'sigmoid'}         0.362401\n",
              "8     {'C': 0.1, 'gamma': 0.01, 'kernel': 'linear'}         0.362401\n",
              "9        {'C': 0.1, 'gamma': 0.01, 'kernel': 'rbf'}         0.362401\n",
              "10      {'C': 0.1, 'gamma': 0.01, 'kernel': 'poly'}         0.362401\n",
              "11   {'C': 0.1, 'gamma': 0.01, 'kernel': 'sigmoid'}         0.362401\n",
              "12   {'C': 0.1, 'gamma': 0.001, 'kernel': 'linear'}         0.362401\n",
              "13      {'C': 0.1, 'gamma': 0.001, 'kernel': 'rbf'}         0.362401\n",
              "14     {'C': 0.1, 'gamma': 0.001, 'kernel': 'poly'}         0.362401\n",
              "15  {'C': 0.1, 'gamma': 0.001, 'kernel': 'sigmoid'}         0.362401\n",
              "16         {'C': 1, 'gamma': 1, 'kernel': 'linear'}         0.377656\n",
              "17            {'C': 1, 'gamma': 1, 'kernel': 'rbf'}         0.368821\n",
              "18           {'C': 1, 'gamma': 1, 'kernel': 'poly'}         0.369287\n",
              "19        {'C': 1, 'gamma': 1, 'kernel': 'sigmoid'}         0.367319\n",
              "20       {'C': 1, 'gamma': 0.1, 'kernel': 'linear'}         0.377656\n",
              "21          {'C': 1, 'gamma': 0.1, 'kernel': 'rbf'}         0.362401\n",
              "22         {'C': 1, 'gamma': 0.1, 'kernel': 'poly'}         0.362401\n",
              "23      {'C': 1, 'gamma': 0.1, 'kernel': 'sigmoid'}         0.362401\n",
              "24      {'C': 1, 'gamma': 0.01, 'kernel': 'linear'}         0.377656\n",
              "25         {'C': 1, 'gamma': 0.01, 'kernel': 'rbf'}         0.362401\n",
              "26        {'C': 1, 'gamma': 0.01, 'kernel': 'poly'}         0.362401\n",
              "27     {'C': 1, 'gamma': 0.01, 'kernel': 'sigmoid'}         0.362401\n",
              "28     {'C': 1, 'gamma': 0.001, 'kernel': 'linear'}         0.377656\n",
              "29        {'C': 1, 'gamma': 0.001, 'kernel': 'rbf'}         0.362401\n",
              "30       {'C': 1, 'gamma': 0.001, 'kernel': 'poly'}         0.362401\n",
              "31    {'C': 1, 'gamma': 0.001, 'kernel': 'sigmoid'}         0.362401\n",
              "32        {'C': 10, 'gamma': 1, 'kernel': 'linear'}         0.406758\n",
              "33           {'C': 10, 'gamma': 1, 'kernel': 'rbf'}         0.400728\n",
              "34          {'C': 10, 'gamma': 1, 'kernel': 'poly'}         0.373243\n",
              "35       {'C': 10, 'gamma': 1, 'kernel': 'sigmoid'}         0.398726\n",
              "36      {'C': 10, 'gamma': 0.1, 'kernel': 'linear'}         0.406758\n",
              "37         {'C': 10, 'gamma': 0.1, 'kernel': 'rbf'}         0.416284\n",
              "38        {'C': 10, 'gamma': 0.1, 'kernel': 'poly'}         0.362401\n",
              "39     {'C': 10, 'gamma': 0.1, 'kernel': 'sigmoid'}         0.377367\n",
              "40     {'C': 10, 'gamma': 0.01, 'kernel': 'linear'}         0.406758\n",
              "41        {'C': 10, 'gamma': 0.01, 'kernel': 'rbf'}         0.362401\n",
              "42       {'C': 10, 'gamma': 0.01, 'kernel': 'poly'}         0.362401\n",
              "43    {'C': 10, 'gamma': 0.01, 'kernel': 'sigmoid'}         0.362401\n",
              "44    {'C': 10, 'gamma': 0.001, 'kernel': 'linear'}         0.406758\n",
              "45       {'C': 10, 'gamma': 0.001, 'kernel': 'rbf'}         0.362401\n",
              "46      {'C': 10, 'gamma': 0.001, 'kernel': 'poly'}         0.362401\n",
              "47   {'C': 10, 'gamma': 0.001, 'kernel': 'sigmoid'}         0.362401\n",
              "48       {'C': 100, 'gamma': 1, 'kernel': 'linear'}         0.396042\n",
              "49          {'C': 100, 'gamma': 1, 'kernel': 'rbf'}         0.403154\n",
              "50         {'C': 100, 'gamma': 1, 'kernel': 'poly'}         0.373685\n",
              "51      {'C': 100, 'gamma': 1, 'kernel': 'sigmoid'}         0.389232\n",
              "52     {'C': 100, 'gamma': 0.1, 'kernel': 'linear'}         0.396042\n",
              "53        {'C': 100, 'gamma': 0.1, 'kernel': 'rbf'}         0.415367\n",
              "54       {'C': 100, 'gamma': 0.1, 'kernel': 'poly'}         0.362401\n",
              "55    {'C': 100, 'gamma': 0.1, 'kernel': 'sigmoid'}         0.408079\n",
              "56    {'C': 100, 'gamma': 0.01, 'kernel': 'linear'}         0.396042\n",
              "57       {'C': 100, 'gamma': 0.01, 'kernel': 'rbf'}         0.413182\n",
              "58      {'C': 100, 'gamma': 0.01, 'kernel': 'poly'}         0.362401\n",
              "59   {'C': 100, 'gamma': 0.01, 'kernel': 'sigmoid'}         0.377041\n",
              "60   {'C': 100, 'gamma': 0.001, 'kernel': 'linear'}         0.396042\n",
              "61      {'C': 100, 'gamma': 0.001, 'kernel': 'rbf'}         0.362401\n",
              "62     {'C': 100, 'gamma': 0.001, 'kernel': 'poly'}         0.362401\n",
              "63  {'C': 100, 'gamma': 0.001, 'kernel': 'sigmoid'}         0.362401"
            ]
          },
          "metadata": {
            "tags": []
          },
          "execution_count": 124
        }
      ]
    },
    {
      "cell_type": "code",
      "metadata": {
        "id": "InUguh4e3I3H",
        "colab_type": "code",
        "colab": {},
        "outputId": "fa8d31b6-b9eb-4193-f46e-49f49b618fde"
      },
      "source": [
        "grid.best_estimator_"
      ],
      "execution_count": 0,
      "outputs": [
        {
          "output_type": "execute_result",
          "data": {
            "text/plain": [
              "SVC(C=10, break_ties=False, cache_size=200, class_weight=None, coef0=0.0,\n",
              "    decision_function_shape='ovr', degree=3, gamma=0.1, kernel='rbf',\n",
              "    max_iter=-1, probability=False, random_state=None, shrinking=True,\n",
              "    tol=0.001, verbose=False)"
            ]
          },
          "metadata": {
            "tags": []
          },
          "execution_count": 125
        }
      ]
    },
    {
      "cell_type": "code",
      "metadata": {
        "id": "6v4i8HbG3I3M",
        "colab_type": "code",
        "colab": {},
        "outputId": "5fd30960-9c3e-47e2-a87b-29ad584c498e"
      },
      "source": [
        "grid.best_params_"
      ],
      "execution_count": 0,
      "outputs": [
        {
          "output_type": "execute_result",
          "data": {
            "text/plain": [
              "{'C': 10, 'gamma': 0.1, 'kernel': 'rbf'}"
            ]
          },
          "metadata": {
            "tags": []
          },
          "execution_count": 129
        }
      ]
    },
    {
      "cell_type": "code",
      "metadata": {
        "id": "AHVJYTBS3I3T",
        "colab_type": "code",
        "colab": {}
      },
      "source": [
        "pred = grid.best_estimator_.predict(X_test)"
      ],
      "execution_count": 0,
      "outputs": []
    },
    {
      "cell_type": "code",
      "metadata": {
        "id": "gtuasS5-3I3W",
        "colab_type": "code",
        "colab": {},
        "outputId": "a4763148-0127-43ed-939c-40b2f4e9f28b"
      },
      "source": [
        "sns.countplot(pred)"
      ],
      "execution_count": 0,
      "outputs": [
        {
          "output_type": "execute_result",
          "data": {
            "text/plain": [
              "<matplotlib.axes._subplots.AxesSubplot at 0x21e52780d08>"
            ]
          },
          "metadata": {
            "tags": []
          },
          "execution_count": 131
        },
        {
          "output_type": "display_data",
          "data": {
            "image/png": "[encoded data removed]",
            "text/plain": [
              "<Figure size 432x288 with 1 Axes>"
            ]
          },
          "metadata": {
            "tags": [],
            "needs_background": "light"
          }
        }
      ]
    },
    {
      "cell_type": "code",
      "metadata": {
        "id": "2CpIcXgj3I3a",
        "colab_type": "code",
        "colab": {}
      },
      "source": [
        "#from sklearn.pipeline import Pipeline"
      ],
      "execution_count": 0,
      "outputs": []
    },
    {
      "cell_type": "code",
      "metadata": {
        "id": "qtzwnKiv3I3d",
        "colab_type": "code",
        "colab": {}
      },
      "source": [
        "'''\n",
        "svm_clf = Pipeline([('vect', CountVectorizer()),\n",
        "                     ('tfidf', TfidfTransformer()), \n",
        "                     ('clf-svm', SVC(C=10, break_ties=False, cache_size=200, class_weight=None, coef0=0.0,\n",
        "    decision_function_shape='ovr', degree=3, gamma=0.1, kernel='rbf',\n",
        "    max_iter=-1, probability=False, random_state=None, shrinking=True,\n",
        "    tol=0.001, verbose=False)),])\n",
        "'''"
      ],
      "execution_count": 0,
      "outputs": []
    },
    {
      "cell_type": "code",
      "metadata": {
        "id": "CwAVe4dU3I3i",
        "colab_type": "code",
        "colab": {}
      },
      "source": [
        "#svm_clf = svm_clf.fit(data_train[\"original_text\"], data_train[\"sentiment_class\"])"
      ],
      "execution_count": 0,
      "outputs": []
    },
    {
      "cell_type": "code",
      "metadata": {
        "id": "ZbchGpJl3I3m",
        "colab_type": "code",
        "colab": {}
      },
      "source": [
        "#pred = svm_clf.predict(data_test[\"original_text\"])"
      ],
      "execution_count": 0,
      "outputs": []
    },
    {
      "cell_type": "code",
      "metadata": {
        "id": "nZIXmnkL3I3q",
        "colab_type": "code",
        "colab": {}
      },
      "source": [
        "Submission1 = pd.DataFrame(data_test['id'])\n",
        "Submission1[\"sentiment_class\"] = pred\n",
        "#Submission1.to_csv(\"Mothersday_Submission_svm3Grid.csv\", index = False)"
      ],
      "execution_count": 0,
      "outputs": []
    },
    {
      "cell_type": "code",
      "metadata": {
        "id": "nQgWKd5x3I3t",
        "colab_type": "code",
        "colab": {},
        "outputId": "613f151b-8bc2-4d40-afc5-3e80901514b4"
      },
      "source": [
        "pred[0:30]"
      ],
      "execution_count": 0,
      "outputs": [
        {
          "output_type": "execute_result",
          "data": {
            "text/plain": [
              "array([ 0,  0, -1,  0,  0,  0,  0,  0,  0,  1,  0,  0,  0,  0,  0, -1,  0,\n",
              "       -1,  1,  0,  0,  0,  0,  0,  0,  0,  0,  0,  0,  0], dtype=int64)"
            ]
          },
          "metadata": {
            "tags": []
          },
          "execution_count": 133
        }
      ]
    },
    {
      "cell_type": "markdown",
      "metadata": {
        "id": "vQxLbeCt3I3v",
        "colab_type": "text"
      },
      "source": [
        "### Nive bayes"
      ]
    },
    {
      "cell_type": "code",
      "metadata": {
        "id": "tFGebRyX3I3w",
        "colab_type": "code",
        "colab": {}
      },
      "source": [
        "from sklearn.naive_bayes import MultinomialNB"
      ],
      "execution_count": 0,
      "outputs": []
    },
    {
      "cell_type": "code",
      "metadata": {
        "id": "spZFSAGs3I3z",
        "colab_type": "code",
        "colab": {}
      },
      "source": [
        "clf = MultinomialNB().fit(X_train, y_train)"
      ],
      "execution_count": 0,
      "outputs": []
    },
    {
      "cell_type": "code",
      "metadata": {
        "id": "yWqLEuh23I32",
        "colab_type": "code",
        "colab": {}
      },
      "source": [
        "parameters = {'alpha':[1.0,0.01,0.001,10], 'fit_prior':[True,False]}"
      ],
      "execution_count": 0,
      "outputs": []
    },
    {
      "cell_type": "code",
      "metadata": {
        "id": "Gw6ZdUim3I36",
        "colab_type": "code",
        "colab": {},
        "outputId": "19c0a41e-6262-4301-ebb4-8438f38dd4fd"
      },
      "source": [
        "grid_NMB = GridSearchCV(MultinomialNB(),parameters, scoring='f1_weighted')\n",
        "grid_NMB.fit(X_train,y_train)"
      ],
      "execution_count": 0,
      "outputs": [
        {
          "output_type": "execute_result",
          "data": {
            "text/plain": [
              "GridSearchCV(cv=None, error_score=nan,\n",
              "             estimator=MultinomialNB(alpha=1.0, class_prior=None,\n",
              "                                     fit_prior=True),\n",
              "             iid='deprecated', n_jobs=None,\n",
              "             param_grid={'alpha': [1.0, 0.01, 0.001, 10],\n",
              "                         'fit_prior': [True, False]},\n",
              "             pre_dispatch='2*n_jobs', refit=True, return_train_score=False,\n",
              "             scoring='f1_weighted', verbose=0)"
            ]
          },
          "metadata": {
            "tags": []
          },
          "execution_count": 137
        }
      ]
    },
    {
      "cell_type": "code",
      "metadata": {
        "id": "lFJZS4Sp3I39",
        "colab_type": "code",
        "colab": {},
        "outputId": "cd0b6cd2-6af9-4437-d1a2-0cfc5466d47f"
      },
      "source": [
        "grid_NMB.best_score_"
      ],
      "execution_count": 0,
      "outputs": [
        {
          "output_type": "execute_result",
          "data": {
            "text/plain": [
              "0.4156174034385011"
            ]
          },
          "metadata": {
            "tags": []
          },
          "execution_count": 138
        }
      ]
    },
    {
      "cell_type": "code",
      "metadata": {
        "id": "sQ5NUKPD3I3_",
        "colab_type": "code",
        "colab": {},
        "outputId": "9a7cbb21-3780-4b9e-8541-8a311d46dfd9"
      },
      "source": [
        "grid_NMB.best_estimator_"
      ],
      "execution_count": 0,
      "outputs": [
        {
          "output_type": "execute_result",
          "data": {
            "text/plain": [
              "MultinomialNB(alpha=0.01, class_prior=None, fit_prior=True)"
            ]
          },
          "metadata": {
            "tags": []
          },
          "execution_count": 139
        }
      ]
    },
    {
      "cell_type": "code",
      "metadata": {
        "id": "k93wzsp33I4H",
        "colab_type": "code",
        "colab": {},
        "outputId": "a74c343f-bbd5-4c08-9f1b-452a2d5d86ca"
      },
      "source": [
        "grid_NMB.best_params_"
      ],
      "execution_count": 0,
      "outputs": [
        {
          "output_type": "execute_result",
          "data": {
            "text/plain": [
              "{'alpha': 0.01, 'fit_prior': True}"
            ]
          },
          "metadata": {
            "tags": []
          },
          "execution_count": 140
        }
      ]
    },
    {
      "cell_type": "code",
      "metadata": {
        "id": "e_JD7LF23I4M",
        "colab_type": "code",
        "colab": {}
      },
      "source": [
        "pred = grid_NMB.best_estimator_.predict(X_test)"
      ],
      "execution_count": 0,
      "outputs": []
    },
    {
      "cell_type": "code",
      "metadata": {
        "id": "wQYQTr1w3I4R",
        "colab_type": "code",
        "colab": {}
      },
      "source": [
        "Submission1 = pd.DataFrame(data_test['id'])\n",
        "Submission1[\"sentiment_class\"] = pred\n",
        "Submission1.to_csv(\"Mothersday_Submission_nivemultinomial2_test.csv\", index = False)"
      ],
      "execution_count": 0,
      "outputs": []
    },
    {
      "cell_type": "code",
      "metadata": {
        "id": "crmdo09t3I4V",
        "colab_type": "code",
        "colab": {},
        "outputId": "d83656b5-c296-498b-b8eb-234629523954"
      },
      "source": [
        "pred[1:10]"
      ],
      "execution_count": 0,
      "outputs": [
        {
          "output_type": "execute_result",
          "data": {
            "text/plain": [
              "array([0, 0, 0, 0, 0, 0, 1, 0, 0], dtype=int64)"
            ]
          },
          "metadata": {
            "tags": []
          },
          "execution_count": 143
        }
      ]
    },
    {
      "cell_type": "code",
      "metadata": {
        "id": "B0MpX3Nt3I4Z",
        "colab_type": "code",
        "colab": {},
        "outputId": "d5f8f88a-1a4a-4a05-ef28-24634221a7f0"
      },
      "source": [
        "grid_NMB.best_estimator_.predict_proba(X_test)"
      ],
      "execution_count": 0,
      "outputs": [
        {
          "output_type": "execute_result",
          "data": {
            "text/plain": [
              "array([[0.19264352, 0.77061969, 0.03673679],\n",
              "       [0.13803495, 0.67705018, 0.18491487],\n",
              "       [0.15862471, 0.52757526, 0.31380002],\n",
              "       ...,\n",
              "       [0.02726906, 0.45122276, 0.52150818],\n",
              "       [0.25410096, 0.49796556, 0.24793348],\n",
              "       [0.39026416, 0.42607316, 0.18366268]])"
            ]
          },
          "metadata": {
            "tags": []
          },
          "execution_count": 144
        }
      ]
    },
    {
      "cell_type": "code",
      "metadata": {
        "id": "BlHzfRuA3I4c",
        "colab_type": "code",
        "colab": {},
        "outputId": "a79cd916-b87f-4d0d-cc82-ec162ce0d25f"
      },
      "source": [
        "sns.countplot(pred)"
      ],
      "execution_count": 0,
      "outputs": [
        {
          "output_type": "execute_result",
          "data": {
            "text/plain": [
              "<matplotlib.axes._subplots.AxesSubplot at 0x21e4e08bf88>"
            ]
          },
          "metadata": {
            "tags": []
          },
          "execution_count": 145
        },
        {
          "output_type": "display_data",
          "data": {
            "image/png": "[encoded data removed]",
            "text/plain": [
              "<Figure size 432x288 with 1 Axes>"
            ]
          },
          "metadata": {
            "tags": [],
            "needs_background": "light"
          }
        }
      ]
    },
    {
      "cell_type": "markdown",
      "metadata": {
        "id": "u1tWIuIK3I4j",
        "colab_type": "text"
      },
      "source": [
        "#### SGDClassifier"
      ]
    },
    {
      "cell_type": "code",
      "metadata": {
        "id": "Xxao6Vy53I4j",
        "colab_type": "code",
        "colab": {}
      },
      "source": [
        "from sklearn.linear_model import SGDClassifier"
      ],
      "execution_count": 0,
      "outputs": []
    },
    {
      "cell_type": "code",
      "metadata": {
        "id": "c_eFpsZd3I4m",
        "colab_type": "code",
        "colab": {}
      },
      "source": [
        "parameters = {'alpha':[0.0001,1.0,0.01,0.001,10,0.003], 'penalty':['l1','l2','elasticnet'],\n",
        "              'learning_rate':['constant','optimal','invscaling','adaptive'],'eta0':[0.1,0.2,0.3]}"
      ],
      "execution_count": 0,
      "outputs": []
    },
    {
      "cell_type": "code",
      "metadata": {
        "id": "5IySyOBJ3I4r",
        "colab_type": "code",
        "colab": {},
        "outputId": "5a391cca-f742-4821-af27-7da5733e5a3e"
      },
      "source": [
        "grid_SGD = GridSearchCV(SGDClassifier(),parameters, scoring='f1_weighted')\n",
        "grid_SGD.fit(X_train,y_train)"
      ],
      "execution_count": 0,
      "outputs": [
        {
          "output_type": "execute_result",
          "data": {
            "text/plain": [
              "GridSearchCV(cv=None, error_score=nan,\n",
              "             estimator=SGDClassifier(alpha=0.0001, average=False,\n",
              "                                     class_weight=None, early_stopping=False,\n",
              "                                     epsilon=0.1, eta0=0.0, fit_intercept=True,\n",
              "                                     l1_ratio=0.15, learning_rate='optimal',\n",
              "                                     loss='hinge', max_iter=1000,\n",
              "                                     n_iter_no_change=5, n_jobs=None,\n",
              "                                     penalty='l2', power_t=0.5,\n",
              "                                     random_state=None, shuffle=True, tol=0.001,\n",
              "                                     validation_fraction=0.1, verbose=0,\n",
              "                                     warm_start=False),\n",
              "             iid='deprecated', n_jobs=None,\n",
              "             param_grid={'alpha': [0.0001, 1.0, 0.01, 0.001, 10, 0.003],\n",
              "                         'eta0': [0.1, 0.2, 0.3],\n",
              "                         'learning_rate': ['constant', 'optimal', 'invscaling',\n",
              "                                           'adaptive'],\n",
              "                         'penalty': ['l1', 'l2', 'elasticnet']},\n",
              "             pre_dispatch='2*n_jobs', refit=True, return_train_score=False,\n",
              "             scoring='f1_weighted', verbose=0)"
            ]
          },
          "metadata": {
            "tags": []
          },
          "execution_count": 94
        }
      ]
    },
    {
      "cell_type": "code",
      "metadata": {
        "id": "X9_s706p3I4v",
        "colab_type": "code",
        "colab": {},
        "outputId": "b6b68726-726a-4815-d7cb-2bf83c86b094"
      },
      "source": [
        "grid_SGD.best_score_"
      ],
      "execution_count": 0,
      "outputs": [
        {
          "output_type": "execute_result",
          "data": {
            "text/plain": [
              "0.41736077231248664"
            ]
          },
          "metadata": {
            "tags": []
          },
          "execution_count": 95
        }
      ]
    },
    {
      "cell_type": "code",
      "metadata": {
        "id": "fnNCf-Uo3I4y",
        "colab_type": "code",
        "colab": {},
        "outputId": "da664bac-4b8d-47fb-e38c-896f1e69a860"
      },
      "source": [
        "grid_SGD.best_params_"
      ],
      "execution_count": 0,
      "outputs": [
        {
          "output_type": "execute_result",
          "data": {
            "text/plain": [
              "{'alpha': 0.0001, 'eta0': 0.3, 'learning_rate': 'adaptive', 'penalty': 'l1'}"
            ]
          },
          "metadata": {
            "tags": []
          },
          "execution_count": 96
        }
      ]
    },
    {
      "cell_type": "code",
      "metadata": {
        "id": "d3qQBsJi3I41",
        "colab_type": "code",
        "colab": {},
        "outputId": "a8f8d7e1-493f-4573-872b-831ecd156508"
      },
      "source": [
        "grid_SGD.best_estimator_"
      ],
      "execution_count": 0,
      "outputs": [
        {
          "output_type": "execute_result",
          "data": {
            "text/plain": [
              "SGDClassifier(alpha=0.0001, average=False, class_weight=None,\n",
              "              early_stopping=False, epsilon=0.1, eta0=0.3, fit_intercept=True,\n",
              "              l1_ratio=0.15, learning_rate='adaptive', loss='hinge',\n",
              "              max_iter=1000, n_iter_no_change=5, n_jobs=None, penalty='l1',\n",
              "              power_t=0.5, random_state=None, shuffle=True, tol=0.001,\n",
              "              validation_fraction=0.1, verbose=0, warm_start=False)"
            ]
          },
          "metadata": {
            "tags": []
          },
          "execution_count": 97
        }
      ]
    },
    {
      "cell_type": "code",
      "metadata": {
        "id": "eyszsLxo3I48",
        "colab_type": "code",
        "colab": {}
      },
      "source": [
        "pred = grid_SGD.best_estimator_.predict(X_test)"
      ],
      "execution_count": 0,
      "outputs": []
    },
    {
      "cell_type": "code",
      "metadata": {
        "id": "DZ1rDjm_3I4_",
        "colab_type": "code",
        "colab": {},
        "outputId": "46c08cdb-c16f-4e42-dd58-2839cad58698"
      },
      "source": [
        "sns.countplot(pred)"
      ],
      "execution_count": 0,
      "outputs": [
        {
          "output_type": "execute_result",
          "data": {
            "text/plain": [
              "<matplotlib.axes._subplots.AxesSubplot at 0x21e4e216508>"
            ]
          },
          "metadata": {
            "tags": []
          },
          "execution_count": 99
        },
        {
          "output_type": "display_data",
          "data": {
            "image/png": "[encoded data removed]",
            "text/plain": [
              "<Figure size 432x288 with 1 Axes>"
            ]
          },
          "metadata": {
            "tags": [],
            "needs_background": "light"
          }
        }
      ]
    },
    {
      "cell_type": "code",
      "metadata": {
        "id": "aFleXKJc3I5G",
        "colab_type": "code",
        "colab": {}
      },
      "source": [
        "Submission1 = pd.DataFrame(data_test['id'])\n",
        "Submission1[\"sentiment_class\"] = pred\n",
        "#Submission1.to_csv(\"Mothersday_Submission_SGDClassifier2.csv\", index = False)"
      ],
      "execution_count": 0,
      "outputs": []
    },
    {
      "cell_type": "markdown",
      "metadata": {
        "id": "SFj8SH8l3I5I",
        "colab_type": "text"
      },
      "source": [
        "### Tpot Classifier"
      ]
    },
    {
      "cell_type": "code",
      "metadata": {
        "id": "SyBEESOE3I5J",
        "colab_type": "code",
        "colab": {}
      },
      "source": [
        "from tpot import TPOTClassifier"
      ],
      "execution_count": 0,
      "outputs": []
    },
    {
      "cell_type": "code",
      "metadata": {
        "id": "_hbLCHD23I5R",
        "colab_type": "code",
        "colab": {},
        "outputId": "8869efd3-4fec-4602-8fad-5a4b3ff7a4d5"
      },
      "source": [
        "X_train.shape"
      ],
      "execution_count": 0,
      "outputs": [
        {
          "output_type": "execute_result",
          "data": {
            "text/plain": [
              "(3235, 5788)"
            ]
          },
          "metadata": {
            "tags": []
          },
          "execution_count": 103
        }
      ]
    },
    {
      "cell_type": "code",
      "metadata": {
        "id": "A9pNZCBV3I5V",
        "colab_type": "code",
        "colab": {},
        "outputId": "969e16e8-817f-40e6-f55d-0b6afd46f6e8"
      },
      "source": [
        "y_train.shape"
      ],
      "execution_count": 0,
      "outputs": [
        {
          "output_type": "execute_result",
          "data": {
            "text/plain": [
              "(3235,)"
            ]
          },
          "metadata": {
            "tags": []
          },
          "execution_count": 104
        }
      ]
    },
    {
      "cell_type": "code",
      "metadata": {
        "id": "gIL5Evxg3I5Z",
        "colab_type": "code",
        "colab": {},
        "outputId": "6beaab51-3e6e-47b7-a149-ec555f63b025"
      },
      "source": [
        "X_test.shape"
      ],
      "execution_count": 0,
      "outputs": [
        {
          "output_type": "execute_result",
          "data": {
            "text/plain": [
              "(1387, 5788)"
            ]
          },
          "metadata": {
            "tags": []
          },
          "execution_count": 105
        }
      ]
    },
    {
      "cell_type": "code",
      "metadata": {
        "id": "orkuS22i3I5e",
        "colab_type": "code",
        "colab": {},
        "outputId": "f4f1dd60-3dc1-4f4c-bbc4-2821ebc4fb55"
      },
      "source": [
        "tpot = TPOTClassifier(generations=5, population_size=50, verbosity=2, \n",
        "                      random_state=200,scoring='f1_weighted',config_dict='TPOT sparse')\n",
        "tpot.fit(X_train, y_train)\n"
      ],
      "execution_count": 0,
      "outputs": [
        {
          "output_type": "display_data",
          "data": {
            "application/vnd.jupyter.widget-view+json": {
              "model_id": "",
              "version_major": 2,
              "version_minor": 0
            },
            "text/plain": [
              "HBox(children=(FloatProgress(value=0.0, description='Optimization Progress', max=300.0, style=ProgressStyle(de…"
            ]
          },
          "metadata": {
            "tags": []
          }
        },
        {
          "output_type": "stream",
          "text": [
            "\n",
            "Generation 1 - Current best internal CV score: 0.4224032401859053\n",
            "Generation 2 - Current best internal CV score: 0.4224032401859053\n",
            "Generation 3 - Current best internal CV score: 0.4224032401859053\n",
            "Generation 4 - Current best internal CV score: 0.4224032401859053\n",
            "Generation 5 - Current best internal CV score: 0.4224032401859053\n",
            "Best pipeline: RandomForestClassifier(input_matrix, bootstrap=False, criterion=gini, max_features=0.8500000000000001, min_samples_leaf=6, min_samples_split=17, n_estimators=100)\n"
          ],
          "name": "stdout"
        },
        {
          "output_type": "error",
          "ename": "NameError",
          "evalue": "name 'y_test' is not defined",
          "traceback": [
            "\u001b[1;31m---------------------------------------------------------------------------\u001b[0m",
            "\u001b[1;31mNameError\u001b[0m                                 Traceback (most recent call last)",
            "\u001b[1;32m<ipython-input-106-cd631e1050c7>\u001b[0m in \u001b[0;36m<module>\u001b[1;34m\u001b[0m\n\u001b[0;32m      2\u001b[0m                       random_state=200,scoring='f1_weighted',config_dict='TPOT sparse')\n\u001b[0;32m      3\u001b[0m \u001b[0mtpot\u001b[0m\u001b[1;33m.\u001b[0m\u001b[0mfit\u001b[0m\u001b[1;33m(\u001b[0m\u001b[0mX_train\u001b[0m\u001b[1;33m,\u001b[0m \u001b[0my_train\u001b[0m\u001b[1;33m)\u001b[0m\u001b[1;33m\u001b[0m\u001b[1;33m\u001b[0m\u001b[0m\n\u001b[1;32m----> 4\u001b[1;33m \u001b[0mprint\u001b[0m\u001b[1;33m(\u001b[0m\u001b[0mtpot\u001b[0m\u001b[1;33m.\u001b[0m\u001b[0mscore\u001b[0m\u001b[1;33m(\u001b[0m\u001b[0mX_test\u001b[0m\u001b[1;33m,\u001b[0m \u001b[0my_test\u001b[0m\u001b[1;33m)\u001b[0m\u001b[1;33m)\u001b[0m\u001b[1;33m\u001b[0m\u001b[1;33m\u001b[0m\u001b[0m\n\u001b[0m\u001b[0;32m      5\u001b[0m \u001b[0mtpot\u001b[0m\u001b[1;33m.\u001b[0m\u001b[0mexport\u001b[0m\u001b[1;33m(\u001b[0m\u001b[1;34m'tpot_advertise_pipeline.py'\u001b[0m\u001b[1;33m)\u001b[0m\u001b[1;33m\u001b[0m\u001b[1;33m\u001b[0m\u001b[0m\n",
            "\u001b[1;31mNameError\u001b[0m: name 'y_test' is not defined"
          ]
        }
      ]
    },
    {
      "cell_type": "code",
      "metadata": {
        "id": "a9vXd3OK3I5h",
        "colab_type": "code",
        "colab": {}
      },
      "source": [
        "tpot.export('tpot_advertise_pipeline.py')"
      ],
      "execution_count": 0,
      "outputs": []
    },
    {
      "cell_type": "code",
      "metadata": {
        "id": "N5tLh4Uh3I5j",
        "colab_type": "code",
        "colab": {},
        "outputId": "6dbfb064-61e1-45b0-a8d7-e5cbb1a178ee"
      },
      "source": [
        "tpot.cv"
      ],
      "execution_count": 0,
      "outputs": [
        {
          "output_type": "execute_result",
          "data": {
            "text/plain": [
              "5"
            ]
          },
          "metadata": {
            "tags": []
          },
          "execution_count": 108
        }
      ]
    },
    {
      "cell_type": "code",
      "metadata": {
        "id": "GPSHwcxo3I5l",
        "colab_type": "code",
        "colab": {},
        "outputId": "824d6397-8735-4cfe-91ce-1ac387782f10"
      },
      "source": [
        "tpot.fitted_pipeline_"
      ],
      "execution_count": 0,
      "outputs": [
        {
          "output_type": "execute_result",
          "data": {
            "text/plain": [
              "Pipeline(memory=None,\n",
              "         steps=[('randomforestclassifier',\n",
              "                 RandomForestClassifier(bootstrap=False, ccp_alpha=0.0,\n",
              "                                        class_weight=None, criterion='gini',\n",
              "                                        max_depth=None,\n",
              "                                        max_features=0.8500000000000001,\n",
              "                                        max_leaf_nodes=None, max_samples=None,\n",
              "                                        min_impurity_decrease=0.0,\n",
              "                                        min_impurity_split=None,\n",
              "                                        min_samples_leaf=6,\n",
              "                                        min_samples_split=17,\n",
              "                                        min_weight_fraction_leaf=0.0,\n",
              "                                        n_estimators=100, n_jobs=None,\n",
              "                                        oob_score=False, random_state=200,\n",
              "                                        verbose=0, warm_start=False))],\n",
              "         verbose=False)"
            ]
          },
          "metadata": {
            "tags": []
          },
          "execution_count": 109
        }
      ]
    },
    {
      "cell_type": "code",
      "metadata": {
        "id": "WN5RTchD3I5p",
        "colab_type": "code",
        "colab": {}
      },
      "source": [
        "pred = tpot.predict(X_test)"
      ],
      "execution_count": 0,
      "outputs": []
    },
    {
      "cell_type": "code",
      "metadata": {
        "id": "XopQ59ig3I5s",
        "colab_type": "code",
        "colab": {},
        "outputId": "5dd1b955-f065-4afc-ec89-fdd40af55608"
      },
      "source": [
        "sns.countplot(pred)"
      ],
      "execution_count": 0,
      "outputs": [
        {
          "output_type": "execute_result",
          "data": {
            "text/plain": [
              "<matplotlib.axes._subplots.AxesSubplot at 0x21e4e97a188>"
            ]
          },
          "metadata": {
            "tags": []
          },
          "execution_count": 112
        },
        {
          "output_type": "display_data",
          "data": {
            "image/png": "[encoded data removed]",
            "text/plain": [
              "<Figure size 432x288 with 1 Axes>"
            ]
          },
          "metadata": {
            "tags": [],
            "needs_background": "light"
          }
        }
      ]
    },
    {
      "cell_type": "code",
      "metadata": {
        "id": "cD5bwuYW3I5w",
        "colab_type": "code",
        "colab": {}
      },
      "source": [
        "Submission1 = pd.DataFrame(data_test['id'])\n",
        "Submission1[\"sentiment_class\"] = pred\n",
        "#Submission1.to_csv(\"Mothersday_Submission_tpotRandomForest.csv\", index = False)"
      ],
      "execution_count": 0,
      "outputs": []
    },
    {
      "cell_type": "markdown",
      "metadata": {
        "id": "G7wci_jn3I5y",
        "colab_type": "text"
      },
      "source": [
        "### CNN"
      ]
    },
    {
      "cell_type": "code",
      "metadata": {
        "id": "DAvoP5Yc3I5y",
        "colab_type": "code",
        "colab": {
          "base_uri": "https://localhost:8080/",
          "height": 34
        },
        "outputId": "b312a359-edaa-4793-a556-360ad276796c"
      },
      "source": [
        "import pandas as pd\n",
        "import numpy as np\n",
        "import re\n",
        "import nltk\n",
        "from nltk.corpus import stopwords\n",
        "\n",
        "from numpy import array\n",
        "import tensorflow as tf\n",
        "from keras.preprocessing.text import one_hot\n",
        "from keras.preprocessing.sequence import pad_sequences\n",
        "from keras.models import Sequential\n",
        "from keras.layers.core import Activation, Dropout, Dense\n",
        "from keras.layers import Flatten\n",
        "from keras.layers import GlobalMaxPooling1D\n",
        "from keras.layers import Conv1D\n",
        "from keras.layers import LSTM, SimpleRNN\n",
        "from keras.layers.embeddings import Embedding\n",
        "from sklearn.model_selection import train_test_split\n",
        "from keras.preprocessing.text import Tokenizer"
      ],
      "execution_count": 80,
      "outputs": [
        {
          "output_type": "stream",
          "text": [
            "Using TensorFlow backend.\n"
          ],
          "name": "stderr"
        }
      ]
    },
    {
      "cell_type": "markdown",
      "metadata": {
        "id": "iH-bPOPs3I50",
        "colab_type": "text"
      },
      "source": [
        "#### Preprocessing"
      ]
    },
    {
      "cell_type": "code",
      "metadata": {
        "id": "8lgxDrmP3I51",
        "colab_type": "code",
        "colab": {
          "base_uri": "https://localhost:8080/",
          "height": 156
        },
        "outputId": "73e82067-c230-4433-caae-067168250d1b"
      },
      "source": [
        "X_train= data_train[\"original_text\"].values\n",
        "X_train"
      ],
      "execution_count": 81,
      "outputs": [
        {
          "output_type": "execute_result",
          "data": {
            "text/plain": [
              "array(['happi amaz mother know hard abl see mother today us protect vulner member societi',\n",
              "       'happi mother day mum im sorri cant bring mother day flower cwtch honest point id walk hot coal abl ill bell soon love lot xxx ps need photo',\n",
              "       'happi mother day mother day work today quiet time reflect dog walk finish jigsaw garden learn guitar chord drunk strawberri gin tonic watch lee even dvd favourit place visit',\n",
              "       ...,\n",
              "       'happi mother day craziest woman know thank alway push best person',\n",
              "       'happi mother day amaz wife love like crazi even though your bit weird xxx',\n",
              "       'wish safe happi mother day ferri inn'], dtype=object)"
            ]
          },
          "metadata": {
            "tags": []
          },
          "execution_count": 81
        }
      ]
    },
    {
      "cell_type": "code",
      "metadata": {
        "id": "oVUDmaSu3I53",
        "colab_type": "code",
        "colab": {
          "base_uri": "https://localhost:8080/",
          "height": 153
        },
        "outputId": "d7bac821-0ec8-4f4a-c09a-65c733e33602"
      },
      "source": [
        "X_test= data_test[\"original_text\"].values\n",
        "X_test"
      ],
      "execution_count": 82,
      "outputs": [
        {
          "output_type": "execute_result",
          "data": {
            "text/plain": [
              "array(['yeah cook potato year old mean threw bag spud toilet happi mother day made breakfast time thought cool draw nake ladi dachshund overhead projector psycholog class',\n",
              "       'happi mother day mum stepmum grandmoth dad cover parent role',\n",
              "       'love peopl uk howev awok saw trend woke american immedi happi mother day mum across way god bless love share sacrific make',\n",
              "       ...,\n",
              "       'despit bullshit today one favourit day lonnng time danc donut took photo drive daphn chines quiz happi mother day',\n",
              "       'happi mother day first queen danielesullivan also wish special ladi wonder mother day',\n",
              "       'mother day walk live tini villag rural lincolnshir walk mile without see soul happi mother day amaz women know'],\n",
              "      dtype=object)"
            ]
          },
          "metadata": {
            "tags": []
          },
          "execution_count": 82
        }
      ]
    },
    {
      "cell_type": "code",
      "metadata": {
        "id": "TaDbCICf3I55",
        "colab_type": "code",
        "colab": {}
      },
      "source": [
        "y_train = pd.get_dummies(data_train[\"sentiment_class\"])"
      ],
      "execution_count": 0,
      "outputs": []
    },
    {
      "cell_type": "code",
      "metadata": {
        "id": "MnSHB1XD3I5-",
        "colab_type": "code",
        "colab": {
          "base_uri": "https://localhost:8080/",
          "height": 34
        },
        "outputId": "66006192-8e0e-46a0-bc97-a4138732abf5"
      },
      "source": [
        "y_train.shape"
      ],
      "execution_count": 84,
      "outputs": [
        {
          "output_type": "execute_result",
          "data": {
            "text/plain": [
              "(3235, 3)"
            ]
          },
          "metadata": {
            "tags": []
          },
          "execution_count": 84
        }
      ]
    },
    {
      "cell_type": "code",
      "metadata": {
        "id": "oW9XJMol3I6C",
        "colab_type": "code",
        "colab": {
          "base_uri": "https://localhost:8080/",
          "height": 204
        },
        "outputId": "bd5eb8a4-8d1f-4f54-a252-618d06c79d62"
      },
      "source": [
        "y_train.head()"
      ],
      "execution_count": 85,
      "outputs": [
        {
          "output_type": "execute_result",
          "data": {
            "text/html": [
              "<div>\n",
              "<style scoped>\n",
              "    .dataframe tbody tr th:only-of-type {\n",
              "        vertical-align: middle;\n",
              "    }\n",
              "\n",
              "    .dataframe tbody tr th {\n",
              "        vertical-align: top;\n",
              "    }\n",
              "\n",
              "    .dataframe thead th {\n",
              "        text-align: right;\n",
              "    }\n",
              "</style>\n",
              "<table border=\"1\" class=\"dataframe\">\n",
              "  <thead>\n",
              "    <tr style=\"text-align: right;\">\n",
              "      <th></th>\n",
              "      <th>-1</th>\n",
              "      <th>0</th>\n",
              "      <th>1</th>\n",
              "    </tr>\n",
              "  </thead>\n",
              "  <tbody>\n",
              "    <tr>\n",
              "      <th>0</th>\n",
              "      <td>0</td>\n",
              "      <td>1</td>\n",
              "      <td>0</td>\n",
              "    </tr>\n",
              "    <tr>\n",
              "      <th>1</th>\n",
              "      <td>0</td>\n",
              "      <td>1</td>\n",
              "      <td>0</td>\n",
              "    </tr>\n",
              "    <tr>\n",
              "      <th>2</th>\n",
              "      <td>1</td>\n",
              "      <td>0</td>\n",
              "      <td>0</td>\n",
              "    </tr>\n",
              "    <tr>\n",
              "      <th>3</th>\n",
              "      <td>0</td>\n",
              "      <td>1</td>\n",
              "      <td>0</td>\n",
              "    </tr>\n",
              "    <tr>\n",
              "      <th>4</th>\n",
              "      <td>1</td>\n",
              "      <td>0</td>\n",
              "      <td>0</td>\n",
              "    </tr>\n",
              "  </tbody>\n",
              "</table>\n",
              "</div>"
            ],
            "text/plain": [
              "   -1   0   1\n",
              "0   0   1   0\n",
              "1   0   1   0\n",
              "2   1   0   0\n",
              "3   0   1   0\n",
              "4   1   0   0"
            ]
          },
          "metadata": {
            "tags": []
          },
          "execution_count": 85
        }
      ]
    },
    {
      "cell_type": "code",
      "metadata": {
        "id": "7GB_FITi3I6H",
        "colab_type": "code",
        "colab": {}
      },
      "source": [
        "tokenizer = Tokenizer(num_words=5000)\n",
        "tokenizer.fit_on_texts(X_train)\n",
        "\n",
        "X_train = tokenizer.texts_to_sequences(X_train)\n",
        "X_test = tokenizer.texts_to_sequences(X_test)"
      ],
      "execution_count": 0,
      "outputs": []
    },
    {
      "cell_type": "code",
      "metadata": {
        "id": "za-RsyEU3I6O",
        "colab_type": "code",
        "colab": {
          "base_uri": "https://localhost:8080/",
          "height": 34
        },
        "outputId": "af10f26a-a1b0-4714-ca8b-4e5c30f344e6"
      },
      "source": [
        "len(tokenizer.word_index)"
      ],
      "execution_count": 87,
      "outputs": [
        {
          "output_type": "execute_result",
          "data": {
            "text/plain": [
              "5802"
            ]
          },
          "metadata": {
            "tags": []
          },
          "execution_count": 87
        }
      ]
    },
    {
      "cell_type": "code",
      "metadata": {
        "id": "uR7m1Iwf3I6V",
        "colab_type": "code",
        "colab": {
          "base_uri": "https://localhost:8080/",
          "height": 476
        },
        "outputId": "76f49b4a-92f9-4a77-efe7-fc76432f62b6"
      },
      "source": [
        "X_train[2190]"
      ],
      "execution_count": 88,
      "outputs": [
        {
          "output_type": "execute_result",
          "data": {
            "text/plain": [
              "[50,\n",
              " 102,\n",
              " 2,\n",
              " 1643,\n",
              " 1092,\n",
              " 4,\n",
              " 3,\n",
              " 1,\n",
              " 2,\n",
              " 20,\n",
              " 4,\n",
              " 14,\n",
              " 8,\n",
              " 23,\n",
              " 54,\n",
              " 224,\n",
              " 326,\n",
              " 262,\n",
              " 29,\n",
              " 47,\n",
              " 56,\n",
              " 443,\n",
              " 437,\n",
              " 50,\n",
              " 18,\n",
              " 640,\n",
              " 26]"
            ]
          },
          "metadata": {
            "tags": []
          },
          "execution_count": 88
        }
      ]
    },
    {
      "cell_type": "code",
      "metadata": {
        "id": "qnp2JQe33I6Y",
        "colab_type": "code",
        "colab": {}
      },
      "source": [
        "# Adding 1 because of reserved 0 index\n",
        "vocab_size = len(tokenizer.word_index) + 1\n",
        "\n",
        "maxlen = 1500"
      ],
      "execution_count": 0,
      "outputs": []
    },
    {
      "cell_type": "code",
      "metadata": {
        "id": "6tbCm_pj3I6d",
        "colab_type": "code",
        "colab": {}
      },
      "source": [
        "\n",
        "\n",
        "X_train = pad_sequences(X_train, padding='post', maxlen=maxlen)\n",
        "X_test = pad_sequences(X_test, padding='post', maxlen=maxlen)"
      ],
      "execution_count": 0,
      "outputs": []
    },
    {
      "cell_type": "code",
      "metadata": {
        "id": "wxN3uzac3I6j",
        "colab_type": "code",
        "colab": {
          "base_uri": "https://localhost:8080/",
          "height": 34
        },
        "outputId": "a0092362-6d59-4196-8705-38a623858d36"
      },
      "source": [
        "X_train.shape"
      ],
      "execution_count": 91,
      "outputs": [
        {
          "output_type": "execute_result",
          "data": {
            "text/plain": [
              "(3235, 1500)"
            ]
          },
          "metadata": {
            "tags": []
          },
          "execution_count": 91
        }
      ]
    },
    {
      "cell_type": "code",
      "metadata": {
        "id": "QhEN7ENu3I6n",
        "colab_type": "code",
        "colab": {
          "base_uri": "https://localhost:8080/",
          "height": 34
        },
        "outputId": "730c6a31-511a-4724-c2a3-74298ef58ea0"
      },
      "source": [
        "X_test.shape"
      ],
      "execution_count": 92,
      "outputs": [
        {
          "output_type": "execute_result",
          "data": {
            "text/plain": [
              "(1387, 1500)"
            ]
          },
          "metadata": {
            "tags": []
          },
          "execution_count": 92
        }
      ]
    },
    {
      "cell_type": "markdown",
      "metadata": {
        "id": "pdXHlYwKdrZ-",
        "colab_type": "text"
      },
      "source": [
        "### Model"
      ]
    },
    {
      "cell_type": "code",
      "metadata": {
        "id": "rmWpp6Zg3I6s",
        "colab_type": "code",
        "colab": {}
      },
      "source": [
        "model = Sequential()\n",
        "embedding_layer = Embedding(vocab_size, 5000, input_length=maxlen , trainable=False)\n",
        "#embedding_layer = Embedding(5802, 5000, input_length=5788 , trainable=False)\n",
        "model.add(embedding_layer)\n",
        "model.add(Conv1D(64, 5, activation='relu'))\n",
        "model.add(Conv1D(128, 5, activation='relu', kernel_regularizer=\"l2\"))\n",
        "model.add(Conv1D(64, 5, activation='relu'))\n",
        "model.add(GlobalMaxPooling1D())\n",
        "model.add(Dense(3, activation='softmax'))"
      ],
      "execution_count": 0,
      "outputs": []
    },
    {
      "cell_type": "code",
      "metadata": {
        "id": "-keqeoIp3I6v",
        "colab_type": "code",
        "colab": {}
      },
      "source": [
        "from keras import backend as K\n",
        "def recall_m(y_true, y_pred):\n",
        "    true_positives = K.sum(K.round(K.clip(y_true * y_pred, 0, 1)))\n",
        "    possible_positives = K.sum(K.round(K.clip(y_true, 0, 1)))\n",
        "    recall = true_positives / (possible_positives + K.epsilon())\n",
        "    return recall\n",
        "\n",
        "def precision_m(y_true, y_pred):\n",
        "    true_positives = K.sum(K.round(K.clip(y_true * y_pred, 0, 1)))\n",
        "    predicted_positives = K.sum(K.round(K.clip(y_pred, 0, 1)))\n",
        "    precision = true_positives / (predicted_positives + K.epsilon())\n",
        "    return precision\n",
        "\n",
        "def f1_m(y_true, y_pred):\n",
        "    precision = precision_m(y_true, y_pred)\n",
        "    recall = recall_m(y_true, y_pred)\n",
        "    return 2*((precision*recall)/(precision+recall+K.epsilon()))"
      ],
      "execution_count": 0,
      "outputs": []
    },
    {
      "cell_type": "code",
      "metadata": {
        "id": "GeF7N9eN3I6z",
        "colab_type": "code",
        "colab": {}
      },
      "source": [
        "model.compile(optimizer='adam', loss=tf.keras.losses.CategoricalCrossentropy(), metrics=['accuracy'])"
      ],
      "execution_count": 0,
      "outputs": []
    },
    {
      "cell_type": "code",
      "metadata": {
        "id": "_GA1mfZw3I61",
        "colab_type": "code",
        "colab": {
          "base_uri": "https://localhost:8080/",
          "height": 289
        },
        "outputId": "299c455e-b326-4efb-9ab0-69de0632762d"
      },
      "source": [
        "model.fit(X_train,y_train, batch_size= 64, epochs=7, validation_split=0.2)"
      ],
      "execution_count": 195,
      "outputs": [
        {
          "output_type": "stream",
          "text": [
            "Train on 2588 samples, validate on 647 samples\n",
            "Epoch 1/7\n",
            "2588/2588 [==============================] - 14s 6ms/step - loss: 1.5427 - accuracy: 0.5240 - val_loss: 1.2922 - val_accuracy: 0.5162\n",
            "Epoch 2/7\n",
            "2588/2588 [==============================] - 14s 5ms/step - loss: 1.1889 - accuracy: 0.5282 - val_loss: 1.1394 - val_accuracy: 0.5162\n",
            "Epoch 3/7\n",
            "2588/2588 [==============================] - 14s 5ms/step - loss: 1.0702 - accuracy: 0.5286 - val_loss: 1.1077 - val_accuracy: 0.5147\n",
            "Epoch 4/7\n",
            "2588/2588 [==============================] - 14s 6ms/step - loss: 0.9174 - accuracy: 0.6179 - val_loss: 1.3734 - val_accuracy: 0.5116\n",
            "Epoch 5/7\n",
            "2588/2588 [==============================] - 14s 6ms/step - loss: 0.6236 - accuracy: 0.7902 - val_loss: 1.6720 - val_accuracy: 0.4621\n",
            "Epoch 6/7\n",
            "2588/2588 [==============================] - 14s 6ms/step - loss: 0.4328 - accuracy: 0.8740 - val_loss: 1.8287 - val_accuracy: 0.4513\n",
            "Epoch 7/7\n",
            "2588/2588 [==============================] - 14s 6ms/step - loss: 0.3001 - accuracy: 0.9247 - val_loss: 2.0326 - val_accuracy: 0.4328\n"
          ],
          "name": "stdout"
        },
        {
          "output_type": "execute_result",
          "data": {
            "text/plain": [
              "<keras.callbacks.callbacks.History at 0x7f7fdec5cdd8>"
            ]
          },
          "metadata": {
            "tags": []
          },
          "execution_count": 195
        }
      ]
    },
    {
      "cell_type": "code",
      "metadata": {
        "id": "EpP90lMH3I67",
        "colab_type": "code",
        "colab": {}
      },
      "source": [
        "pred_prob = model.predict(X_test)"
      ],
      "execution_count": 0,
      "outputs": []
    },
    {
      "cell_type": "code",
      "metadata": {
        "id": "HmCN5CAI3I6-",
        "colab_type": "code",
        "colab": {
          "base_uri": "https://localhost:8080/",
          "height": 136
        },
        "outputId": "78287ed8-2c9f-4409-9cb3-afb435a7ab9d"
      },
      "source": [
        "pred_prob"
      ],
      "execution_count": 197,
      "outputs": [
        {
          "output_type": "execute_result",
          "data": {
            "text/plain": [
              "array([[1.6554724e-01, 7.5963891e-01, 7.4813820e-02],\n",
              "       [2.5363027e-03, 9.6762532e-01, 2.9838424e-02],\n",
              "       [1.1879048e-01, 8.7684584e-01, 4.3636519e-03],\n",
              "       ...,\n",
              "       [5.2381412e-04, 2.5989968e-01, 7.3957652e-01],\n",
              "       [4.2851624e-04, 7.1723938e-02, 9.2784750e-01],\n",
              "       [2.5425889e-02, 8.3090907e-01, 1.4366505e-01]], dtype=float32)"
            ]
          },
          "metadata": {
            "tags": []
          },
          "execution_count": 197
        }
      ]
    },
    {
      "cell_type": "code",
      "metadata": {
        "id": "3pUwaifm3I7A",
        "colab_type": "code",
        "colab": {
          "base_uri": "https://localhost:8080/",
          "height": 34
        },
        "outputId": "585c8661-20d3-42d6-c1b6-aaaa8f1178b9"
      },
      "source": [
        "Class_names=[-1,0,1]\n",
        "Class_names[np.argmax(pred_prob[0])]"
      ],
      "execution_count": 198,
      "outputs": [
        {
          "output_type": "execute_result",
          "data": {
            "text/plain": [
              "0"
            ]
          },
          "metadata": {
            "tags": []
          },
          "execution_count": 198
        }
      ]
    },
    {
      "cell_type": "code",
      "metadata": {
        "id": "iQdCQ0zq3I7F",
        "colab_type": "code",
        "colab": {}
      },
      "source": [
        "Class_names=[-1,0,1]\n",
        "pred =[]\n",
        "for lis in pred_prob:\n",
        "    clas = Class_names[np.argmax(lis)]\n",
        "    pred.append(clas)"
      ],
      "execution_count": 0,
      "outputs": []
    },
    {
      "cell_type": "code",
      "metadata": {
        "id": "uOs0ELPg3I7L",
        "colab_type": "code",
        "colab": {
          "base_uri": "https://localhost:8080/",
          "height": 34
        },
        "outputId": "2e22c6e7-f452-4e9d-9404-26088835e5fa"
      },
      "source": [
        "pred[0:20]"
      ],
      "execution_count": 200,
      "outputs": [
        {
          "output_type": "execute_result",
          "data": {
            "text/plain": [
              "[0, 0, 0, 0, 0, 0, 0, 1, 0, 0, 0, 0, 0, 0, 0, 1, 1, 0, 0, -1]"
            ]
          },
          "metadata": {
            "tags": []
          },
          "execution_count": 200
        }
      ]
    },
    {
      "cell_type": "code",
      "metadata": {
        "id": "wI1h1XQ9HuBy",
        "colab_type": "code",
        "colab": {
          "base_uri": "https://localhost:8080/",
          "height": 282
        },
        "outputId": "a5c972c6-38bc-4d0b-98da-65f2a5ff3c4c"
      },
      "source": [
        "sns.countplot(pred)"
      ],
      "execution_count": 201,
      "outputs": [
        {
          "output_type": "execute_result",
          "data": {
            "text/plain": [
              "<matplotlib.axes._subplots.AxesSubplot at 0x7f7fdea034e0>"
            ]
          },
          "metadata": {
            "tags": []
          },
          "execution_count": 201
        },
        {
          "output_type": "display_data",
          "data": {
            "image/png": "[encoded data removed]",
            "text/plain": [
              "<Figure size 432x288 with 1 Axes>"
            ]
          },
          "metadata": {
            "tags": [],
            "needs_background": "light"
          }
        }
      ]
    },
    {
      "cell_type": "code",
      "metadata": {
        "id": "WMcSSMBt3I7O",
        "colab_type": "code",
        "colab": {}
      },
      "source": [
        "Submission1 = pd.DataFrame(data_test['id'])\n",
        "Submission1[\"sentiment_class\"] = pred\n",
        "Submission1.to_csv(\"Mothersday_Submission_ThreeconvolutionNN10.csv\", index = False)"
      ],
      "execution_count": 0,
      "outputs": []
    },
    {
      "cell_type": "markdown",
      "metadata": {
        "id": "u_dCeR6lMMOg",
        "colab_type": "text"
      },
      "source": [
        "## LSTM"
      ]
    },
    {
      "cell_type": "code",
      "metadata": {
        "id": "7waShLgwMJJP",
        "colab_type": "code",
        "colab": {}
      },
      "source": [
        "model = Sequential()\n",
        "embedding_layer = Embedding(vocab_size, 5000, input_length=maxlen , trainable=False)\n",
        "#embedding_layer = Embedding(5802, 5000, input_length=5788 , trainable=False)\n",
        "model.add(embedding_layer)\n",
        "model.add(LSTM(128,activation='relu'))\n",
        "model.add(Dense(3, activation='softmax'))"
      ],
      "execution_count": 0,
      "outputs": []
    },
    {
      "cell_type": "code",
      "metadata": {
        "id": "31EiEHK9Nyd_",
        "colab_type": "code",
        "colab": {}
      },
      "source": [
        "model.compile(optimizer='adam', loss=tf.keras.losses.CategoricalCrossentropy(), metrics=['accuracy'])"
      ],
      "execution_count": 0,
      "outputs": []
    },
    {
      "cell_type": "code",
      "metadata": {
        "id": "6fP0YKC7N1Qw",
        "colab_type": "code",
        "colab": {
          "base_uri": "https://localhost:8080/",
          "height": 442
        },
        "outputId": "cff781ca-af09-4de6-a278-a50ad4189b37"
      },
      "source": [
        "model.fit(X_train,y_train, batch_size= 64, epochs=5, validation_split=0.2)"
      ],
      "execution_count": 273,
      "outputs": [
        {
          "output_type": "stream",
          "text": [
            "Train on 2588 samples, validate on 647 samples\n",
            "Epoch 1/5\n"
          ],
          "name": "stdout"
        },
        {
          "output_type": "error",
          "ename": "ResourceExhaustedError",
          "evalue": "ignored",
          "traceback": [
            "\u001b[0;31m---------------------------------------------------------------------------\u001b[0m",
            "\u001b[0;31mResourceExhaustedError\u001b[0m                    Traceback (most recent call last)",
            "\u001b[0;32m<ipython-input-273-aea95345e483>\u001b[0m in \u001b[0;36m<module>\u001b[0;34m()\u001b[0m\n\u001b[0;32m----> 1\u001b[0;31m \u001b[0mmodel\u001b[0m\u001b[0;34m.\u001b[0m\u001b[0mfit\u001b[0m\u001b[0;34m(\u001b[0m\u001b[0mX_train\u001b[0m\u001b[0;34m,\u001b[0m\u001b[0my_train\u001b[0m\u001b[0;34m,\u001b[0m \u001b[0mbatch_size\u001b[0m\u001b[0;34m=\u001b[0m \u001b[0;36m64\u001b[0m\u001b[0;34m,\u001b[0m \u001b[0mepochs\u001b[0m\u001b[0;34m=\u001b[0m\u001b[0;36m5\u001b[0m\u001b[0;34m,\u001b[0m \u001b[0mvalidation_split\u001b[0m\u001b[0;34m=\u001b[0m\u001b[0;36m0.2\u001b[0m\u001b[0;34m)\u001b[0m\u001b[0;34m\u001b[0m\u001b[0;34m\u001b[0m\u001b[0m\n\u001b[0m",
            "\u001b[0;32m/usr/local/lib/python3.6/dist-packages/keras/engine/training.py\u001b[0m in \u001b[0;36mfit\u001b[0;34m(self, x, y, batch_size, epochs, verbose, callbacks, validation_split, validation_data, shuffle, class_weight, sample_weight, initial_epoch, steps_per_epoch, validation_steps, validation_freq, max_queue_size, workers, use_multiprocessing, **kwargs)\u001b[0m\n\u001b[1;32m   1237\u001b[0m                                         \u001b[0msteps_per_epoch\u001b[0m\u001b[0;34m=\u001b[0m\u001b[0msteps_per_epoch\u001b[0m\u001b[0;34m,\u001b[0m\u001b[0;34m\u001b[0m\u001b[0;34m\u001b[0m\u001b[0m\n\u001b[1;32m   1238\u001b[0m                                         \u001b[0mvalidation_steps\u001b[0m\u001b[0;34m=\u001b[0m\u001b[0mvalidation_steps\u001b[0m\u001b[0;34m,\u001b[0m\u001b[0;34m\u001b[0m\u001b[0;34m\u001b[0m\u001b[0m\n\u001b[0;32m-> 1239\u001b[0;31m                                         validation_freq=validation_freq)\n\u001b[0m\u001b[1;32m   1240\u001b[0m \u001b[0;34m\u001b[0m\u001b[0m\n\u001b[1;32m   1241\u001b[0m     def evaluate(self,\n",
            "\u001b[0;32m/usr/local/lib/python3.6/dist-packages/keras/engine/training_arrays.py\u001b[0m in \u001b[0;36mfit_loop\u001b[0;34m(model, fit_function, fit_inputs, out_labels, batch_size, epochs, verbose, callbacks, val_function, val_inputs, shuffle, initial_epoch, steps_per_epoch, validation_steps, validation_freq)\u001b[0m\n\u001b[1;32m    194\u001b[0m                     \u001b[0mins_batch\u001b[0m\u001b[0;34m[\u001b[0m\u001b[0mi\u001b[0m\u001b[0;34m]\u001b[0m \u001b[0;34m=\u001b[0m \u001b[0mins_batch\u001b[0m\u001b[0;34m[\u001b[0m\u001b[0mi\u001b[0m\u001b[0;34m]\u001b[0m\u001b[0;34m.\u001b[0m\u001b[0mtoarray\u001b[0m\u001b[0;34m(\u001b[0m\u001b[0;34m)\u001b[0m\u001b[0;34m\u001b[0m\u001b[0;34m\u001b[0m\u001b[0m\n\u001b[1;32m    195\u001b[0m \u001b[0;34m\u001b[0m\u001b[0m\n\u001b[0;32m--> 196\u001b[0;31m                 \u001b[0mouts\u001b[0m \u001b[0;34m=\u001b[0m \u001b[0mfit_function\u001b[0m\u001b[0;34m(\u001b[0m\u001b[0mins_batch\u001b[0m\u001b[0;34m)\u001b[0m\u001b[0;34m\u001b[0m\u001b[0;34m\u001b[0m\u001b[0m\n\u001b[0m\u001b[1;32m    197\u001b[0m                 \u001b[0mouts\u001b[0m \u001b[0;34m=\u001b[0m \u001b[0mto_list\u001b[0m\u001b[0;34m(\u001b[0m\u001b[0mouts\u001b[0m\u001b[0;34m)\u001b[0m\u001b[0;34m\u001b[0m\u001b[0;34m\u001b[0m\u001b[0m\n\u001b[1;32m    198\u001b[0m                 \u001b[0;32mfor\u001b[0m \u001b[0ml\u001b[0m\u001b[0;34m,\u001b[0m \u001b[0mo\u001b[0m \u001b[0;32min\u001b[0m \u001b[0mzip\u001b[0m\u001b[0;34m(\u001b[0m\u001b[0mout_labels\u001b[0m\u001b[0;34m,\u001b[0m \u001b[0mouts\u001b[0m\u001b[0;34m)\u001b[0m\u001b[0;34m:\u001b[0m\u001b[0;34m\u001b[0m\u001b[0;34m\u001b[0m\u001b[0m\n",
            "\u001b[0;32m/usr/local/lib/python3.6/dist-packages/tensorflow/python/keras/backend.py\u001b[0m in \u001b[0;36m__call__\u001b[0;34m(self, inputs)\u001b[0m\n\u001b[1;32m   3790\u001b[0m         \u001b[0mvalue\u001b[0m \u001b[0;34m=\u001b[0m \u001b[0mmath_ops\u001b[0m\u001b[0;34m.\u001b[0m\u001b[0mcast\u001b[0m\u001b[0;34m(\u001b[0m\u001b[0mvalue\u001b[0m\u001b[0;34m,\u001b[0m \u001b[0mtensor\u001b[0m\u001b[0;34m.\u001b[0m\u001b[0mdtype\u001b[0m\u001b[0;34m)\u001b[0m\u001b[0;34m\u001b[0m\u001b[0;34m\u001b[0m\u001b[0m\n\u001b[1;32m   3791\u001b[0m       \u001b[0mconverted_inputs\u001b[0m\u001b[0;34m.\u001b[0m\u001b[0mappend\u001b[0m\u001b[0;34m(\u001b[0m\u001b[0mvalue\u001b[0m\u001b[0;34m)\u001b[0m\u001b[0;34m\u001b[0m\u001b[0;34m\u001b[0m\u001b[0m\n\u001b[0;32m-> 3792\u001b[0;31m     \u001b[0moutputs\u001b[0m \u001b[0;34m=\u001b[0m \u001b[0mself\u001b[0m\u001b[0;34m.\u001b[0m\u001b[0m_graph_fn\u001b[0m\u001b[0;34m(\u001b[0m\u001b[0;34m*\u001b[0m\u001b[0mconverted_inputs\u001b[0m\u001b[0;34m)\u001b[0m\u001b[0;34m\u001b[0m\u001b[0;34m\u001b[0m\u001b[0m\n\u001b[0m\u001b[1;32m   3793\u001b[0m \u001b[0;34m\u001b[0m\u001b[0m\n\u001b[1;32m   3794\u001b[0m     \u001b[0;31m# EagerTensor.numpy() will often make a copy to ensure memory safety.\u001b[0m\u001b[0;34m\u001b[0m\u001b[0;34m\u001b[0m\u001b[0;34m\u001b[0m\u001b[0m\n",
            "\u001b[0;32m/usr/local/lib/python3.6/dist-packages/tensorflow/python/eager/function.py\u001b[0m in \u001b[0;36m__call__\u001b[0;34m(self, *args, **kwargs)\u001b[0m\n\u001b[1;32m   1603\u001b[0m       \u001b[0mTypeError\u001b[0m\u001b[0;34m:\u001b[0m \u001b[0mFor\u001b[0m \u001b[0minvalid\u001b[0m \u001b[0mpositional\u001b[0m\u001b[0;34m/\u001b[0m\u001b[0mkeyword\u001b[0m \u001b[0margument\u001b[0m \u001b[0mcombinations\u001b[0m\u001b[0;34m.\u001b[0m\u001b[0;34m\u001b[0m\u001b[0;34m\u001b[0m\u001b[0m\n\u001b[1;32m   1604\u001b[0m     \"\"\"\n\u001b[0;32m-> 1605\u001b[0;31m     \u001b[0;32mreturn\u001b[0m \u001b[0mself\u001b[0m\u001b[0;34m.\u001b[0m\u001b[0m_call_impl\u001b[0m\u001b[0;34m(\u001b[0m\u001b[0margs\u001b[0m\u001b[0;34m,\u001b[0m \u001b[0mkwargs\u001b[0m\u001b[0;34m)\u001b[0m\u001b[0;34m\u001b[0m\u001b[0;34m\u001b[0m\u001b[0m\n\u001b[0m\u001b[1;32m   1606\u001b[0m \u001b[0;34m\u001b[0m\u001b[0m\n\u001b[1;32m   1607\u001b[0m   \u001b[0;32mdef\u001b[0m \u001b[0m_call_impl\u001b[0m\u001b[0;34m(\u001b[0m\u001b[0mself\u001b[0m\u001b[0;34m,\u001b[0m \u001b[0margs\u001b[0m\u001b[0;34m,\u001b[0m \u001b[0mkwargs\u001b[0m\u001b[0;34m,\u001b[0m \u001b[0mcancellation_manager\u001b[0m\u001b[0;34m=\u001b[0m\u001b[0;32mNone\u001b[0m\u001b[0;34m)\u001b[0m\u001b[0;34m:\u001b[0m\u001b[0;34m\u001b[0m\u001b[0;34m\u001b[0m\u001b[0m\n",
            "\u001b[0;32m/usr/local/lib/python3.6/dist-packages/tensorflow/python/eager/function.py\u001b[0m in \u001b[0;36m_call_impl\u001b[0;34m(self, args, kwargs, cancellation_manager)\u001b[0m\n\u001b[1;32m   1643\u001b[0m       raise TypeError(\"Keyword arguments {} unknown. Expected {}.\".format(\n\u001b[1;32m   1644\u001b[0m           list(kwargs.keys()), list(self._arg_keywords)))\n\u001b[0;32m-> 1645\u001b[0;31m     \u001b[0;32mreturn\u001b[0m \u001b[0mself\u001b[0m\u001b[0;34m.\u001b[0m\u001b[0m_call_flat\u001b[0m\u001b[0;34m(\u001b[0m\u001b[0margs\u001b[0m\u001b[0;34m,\u001b[0m \u001b[0mself\u001b[0m\u001b[0;34m.\u001b[0m\u001b[0mcaptured_inputs\u001b[0m\u001b[0;34m,\u001b[0m \u001b[0mcancellation_manager\u001b[0m\u001b[0;34m)\u001b[0m\u001b[0;34m\u001b[0m\u001b[0;34m\u001b[0m\u001b[0m\n\u001b[0m\u001b[1;32m   1646\u001b[0m \u001b[0;34m\u001b[0m\u001b[0m\n\u001b[1;32m   1647\u001b[0m   \u001b[0;32mdef\u001b[0m \u001b[0m_filtered_call\u001b[0m\u001b[0;34m(\u001b[0m\u001b[0mself\u001b[0m\u001b[0;34m,\u001b[0m \u001b[0margs\u001b[0m\u001b[0;34m,\u001b[0m \u001b[0mkwargs\u001b[0m\u001b[0;34m)\u001b[0m\u001b[0;34m:\u001b[0m\u001b[0;34m\u001b[0m\u001b[0;34m\u001b[0m\u001b[0m\n",
            "\u001b[0;32m/usr/local/lib/python3.6/dist-packages/tensorflow/python/eager/function.py\u001b[0m in \u001b[0;36m_call_flat\u001b[0;34m(self, args, captured_inputs, cancellation_manager)\u001b[0m\n\u001b[1;32m   1744\u001b[0m       \u001b[0;31m# No tape is watching; skip to running the function.\u001b[0m\u001b[0;34m\u001b[0m\u001b[0;34m\u001b[0m\u001b[0;34m\u001b[0m\u001b[0m\n\u001b[1;32m   1745\u001b[0m       return self._build_call_outputs(self._inference_function.call(\n\u001b[0;32m-> 1746\u001b[0;31m           ctx, args, cancellation_manager=cancellation_manager))\n\u001b[0m\u001b[1;32m   1747\u001b[0m     forward_backward = self._select_forward_and_backward_functions(\n\u001b[1;32m   1748\u001b[0m         \u001b[0margs\u001b[0m\u001b[0;34m,\u001b[0m\u001b[0;34m\u001b[0m\u001b[0;34m\u001b[0m\u001b[0m\n",
            "\u001b[0;32m/usr/local/lib/python3.6/dist-packages/tensorflow/python/eager/function.py\u001b[0m in \u001b[0;36mcall\u001b[0;34m(self, ctx, args, cancellation_manager)\u001b[0m\n\u001b[1;32m    596\u001b[0m               \u001b[0minputs\u001b[0m\u001b[0;34m=\u001b[0m\u001b[0margs\u001b[0m\u001b[0;34m,\u001b[0m\u001b[0;34m\u001b[0m\u001b[0;34m\u001b[0m\u001b[0m\n\u001b[1;32m    597\u001b[0m               \u001b[0mattrs\u001b[0m\u001b[0;34m=\u001b[0m\u001b[0mattrs\u001b[0m\u001b[0;34m,\u001b[0m\u001b[0;34m\u001b[0m\u001b[0;34m\u001b[0m\u001b[0m\n\u001b[0;32m--> 598\u001b[0;31m               ctx=ctx)\n\u001b[0m\u001b[1;32m    599\u001b[0m         \u001b[0;32melse\u001b[0m\u001b[0;34m:\u001b[0m\u001b[0;34m\u001b[0m\u001b[0;34m\u001b[0m\u001b[0m\n\u001b[1;32m    600\u001b[0m           outputs = execute.execute_with_cancellation(\n",
            "\u001b[0;32m/usr/local/lib/python3.6/dist-packages/tensorflow/python/eager/execute.py\u001b[0m in \u001b[0;36mquick_execute\u001b[0;34m(op_name, num_outputs, inputs, attrs, ctx, name)\u001b[0m\n\u001b[1;32m     58\u001b[0m     \u001b[0mctx\u001b[0m\u001b[0;34m.\u001b[0m\u001b[0mensure_initialized\u001b[0m\u001b[0;34m(\u001b[0m\u001b[0;34m)\u001b[0m\u001b[0;34m\u001b[0m\u001b[0;34m\u001b[0m\u001b[0m\n\u001b[1;32m     59\u001b[0m     tensors = pywrap_tfe.TFE_Py_Execute(ctx._handle, device_name, op_name,\n\u001b[0;32m---> 60\u001b[0;31m                                         inputs, attrs, num_outputs)\n\u001b[0m\u001b[1;32m     61\u001b[0m   \u001b[0;32mexcept\u001b[0m \u001b[0mcore\u001b[0m\u001b[0;34m.\u001b[0m\u001b[0m_NotOkStatusException\u001b[0m \u001b[0;32mas\u001b[0m \u001b[0me\u001b[0m\u001b[0;34m:\u001b[0m\u001b[0;34m\u001b[0m\u001b[0;34m\u001b[0m\u001b[0m\n\u001b[1;32m     62\u001b[0m     \u001b[0;32mif\u001b[0m \u001b[0mname\u001b[0m \u001b[0;32mis\u001b[0m \u001b[0;32mnot\u001b[0m \u001b[0;32mNone\u001b[0m\u001b[0;34m:\u001b[0m\u001b[0;34m\u001b[0m\u001b[0;34m\u001b[0m\u001b[0m\n",
            "\u001b[0;31mResourceExhaustedError\u001b[0m:  OOM when allocating tensor with shape[2000,64,5000] and type float on /job:localhost/replica:0/task:0/device:GPU:0 by allocator GPU_0_bfc\n\t [[node lstm_5/transpose (defined at /usr/local/lib/python3.6/dist-packages/keras/backend/tensorflow_backend.py:3009) ]]\nHint: If you want to see a list of allocated tensors when OOM happens, add report_tensor_allocations_upon_oom to RunOptions for current allocation info.\n [Op:__inference_keras_scratch_graph_36310]\n\nFunction call stack:\nkeras_scratch_graph\n"
          ]
        }
      ]
    },
    {
      "cell_type": "code",
      "metadata": {
        "id": "ovUkE5zvN5Ac",
        "colab_type": "code",
        "colab": {}
      },
      "source": [
        "pred_prob = model.predict(X_test)"
      ],
      "execution_count": 0,
      "outputs": []
    },
    {
      "cell_type": "code",
      "metadata": {
        "id": "lcBSCBglN6DL",
        "colab_type": "code",
        "colab": {
          "base_uri": "https://localhost:8080/",
          "height": 136
        },
        "outputId": "58d38295-ae7c-4892-95f2-6c8ea8cf4eb5"
      },
      "source": [
        "pred_prob"
      ],
      "execution_count": 226,
      "outputs": [
        {
          "output_type": "execute_result",
          "data": {
            "text/plain": [
              "array([[0.26032433, 0.48556975, 0.25410596],\n",
              "       [0.26032433, 0.48556975, 0.25410596],\n",
              "       [0.26032433, 0.48556975, 0.25410596],\n",
              "       ...,\n",
              "       [0.26032433, 0.48556975, 0.25410596],\n",
              "       [0.26032433, 0.48556975, 0.25410596],\n",
              "       [0.26032433, 0.48556975, 0.25410596]], dtype=float32)"
            ]
          },
          "metadata": {
            "tags": []
          },
          "execution_count": 226
        }
      ]
    },
    {
      "cell_type": "code",
      "metadata": {
        "id": "KkTZlhaoN9jY",
        "colab_type": "code",
        "colab": {
          "base_uri": "https://localhost:8080/",
          "height": 34
        },
        "outputId": "43158a8c-52f0-41a1-e488-7d6ac8e2a456"
      },
      "source": [
        "Class_names=[-1,0,1]\n",
        "Class_names[np.argmax(pred_prob[0])]"
      ],
      "execution_count": 227,
      "outputs": [
        {
          "output_type": "execute_result",
          "data": {
            "text/plain": [
              "0"
            ]
          },
          "metadata": {
            "tags": []
          },
          "execution_count": 227
        }
      ]
    },
    {
      "cell_type": "code",
      "metadata": {
        "id": "9BqJ8SUAOAHR",
        "colab_type": "code",
        "colab": {}
      },
      "source": [
        "Class_names=[-1,0,1]\n",
        "pred =[]\n",
        "for lis in pred_prob:\n",
        "    clas = Class_names[np.argmax(lis)]\n",
        "    pred.append(clas)"
      ],
      "execution_count": 0,
      "outputs": []
    },
    {
      "cell_type": "code",
      "metadata": {
        "id": "x1CH0HejOFD7",
        "colab_type": "code",
        "colab": {
          "base_uri": "https://localhost:8080/",
          "height": 34
        },
        "outputId": "1b5a742c-0156-4328-8a23-8738e12c23f1"
      },
      "source": [
        "pred[1:20]"
      ],
      "execution_count": 229,
      "outputs": [
        {
          "output_type": "execute_result",
          "data": {
            "text/plain": [
              "[0, 0, 0, 0, 0, 0, 0, 0, 0, 0, 0, 0, 0, 0, 0, 0, 0, 0, 0]"
            ]
          },
          "metadata": {
            "tags": []
          },
          "execution_count": 229
        }
      ]
    },
    {
      "cell_type": "code",
      "metadata": {
        "id": "D3jcwH6XOLE8",
        "colab_type": "code",
        "colab": {
          "base_uri": "https://localhost:8080/",
          "height": 282
        },
        "outputId": "44a64b72-e0f6-43dc-eff7-6ed16e343fad"
      },
      "source": [
        "sns.countplot(pred)"
      ],
      "execution_count": 230,
      "outputs": [
        {
          "output_type": "execute_result",
          "data": {
            "text/plain": [
              "<matplotlib.axes._subplots.AxesSubplot at 0x7f41f3d3df60>"
            ]
          },
          "metadata": {
            "tags": []
          },
          "execution_count": 230
        },
        {
          "output_type": "display_data",
          "data": {
            "image/png": "[encoded data removed]",
            "text/plain": [
              "<Figure size 432x288 with 1 Axes>"
            ]
          },
          "metadata": {
            "tags": [],
            "needs_background": "light"
          }
        }
      ]
    },
    {
      "cell_type": "code",
      "metadata": {
        "id": "f9M-liO-OM58",
        "colab_type": "code",
        "colab": {
          "base_uri": "https://localhost:8080/",
          "height": 282
        },
        "outputId": "c0676666-b839-4e10-ab79-8c7054708706"
      },
      "source": [
        "sns.countplot(model.predict_classes(X_test))"
      ],
      "execution_count": 220,
      "outputs": [
        {
          "output_type": "execute_result",
          "data": {
            "text/plain": [
              "<matplotlib.axes._subplots.AxesSubplot at 0x7f41f409ce80>"
            ]
          },
          "metadata": {
            "tags": []
          },
          "execution_count": 220
        },
        {
          "output_type": "display_data",
          "data": {
            "image/png": "[encoded data removed]",
            "text/plain": [
              "<Figure size 432x288 with 1 Axes>"
            ]
          },
          "metadata": {
            "tags": [],
            "needs_background": "light"
          }
        }
      ]
    },
    {
      "cell_type": "code",
      "metadata": {
        "id": "H-WIsz16OWJv",
        "colab_type": "code",
        "colab": {}
      },
      "source": [
        "Submission1 = pd.DataFrame(data_test['id'])\n",
        "Submission1[\"sentiment_class\"] = pred\n",
        "Submission1.to_csv(\"Mothersday_Submission_LSTMNN2.csv\", index = False)"
      ],
      "execution_count": 0,
      "outputs": []
    },
    {
      "cell_type": "markdown",
      "metadata": {
        "id": "nQyH8HyLYefJ",
        "colab_type": "text"
      },
      "source": [
        "### RNN"
      ]
    },
    {
      "cell_type": "code",
      "metadata": {
        "id": "ZjIoj4h0VmXE",
        "colab_type": "code",
        "colab": {}
      },
      "source": [
        "model = Sequential()\n",
        "embedding_layer = Embedding(vocab_size, 5000, input_length=maxlen , trainable=False)\n",
        "#embedding_layer = Embedding(5802, 5000, input_length=5788 , trainable=False)\n",
        "model.add(embedding_layer)\n",
        "model.add(SimpleRNN(128,activation='relu'))\n",
        "model.add(Dense(3, activation='softmax'))"
      ],
      "execution_count": 0,
      "outputs": []
    },
    {
      "cell_type": "code",
      "metadata": {
        "id": "zi27Y8UoYkk6",
        "colab_type": "code",
        "colab": {}
      },
      "source": [
        "model.compile(optimizer='adam', loss=tf.keras.losses.CategoricalCrossentropy(), metrics=['accuracy'])"
      ],
      "execution_count": 0,
      "outputs": []
    },
    {
      "cell_type": "code",
      "metadata": {
        "id": "Ru9TD2ujYoa5",
        "colab_type": "code",
        "colab": {
          "base_uri": "https://localhost:8080/",
          "height": 1000
        },
        "outputId": "ef59296c-3f1a-40f8-8b82-42b8c24c2115"
      },
      "source": [
        "model.fit(X_train,y_train, batch_size= 64, epochs=100, validation_split=0.2)"
      ],
      "execution_count": 473,
      "outputs": [
        {
          "output_type": "stream",
          "text": [
            "Train on 2588 samples, validate on 647 samples\n",
            "Epoch 1/100\n",
            "2588/2588 [==============================] - 40s 15ms/step - loss: 1.0362 - accuracy: 0.5193 - val_loss: 1.0360 - val_accuracy: 0.5162\n",
            "Epoch 2/100\n",
            "2588/2588 [==============================] - 39s 15ms/step - loss: 1.0248 - accuracy: 0.5282 - val_loss: 1.0287 - val_accuracy: 0.5162\n",
            "Epoch 3/100\n",
            "2588/2588 [==============================] - 39s 15ms/step - loss: 1.0225 - accuracy: 0.5282 - val_loss: 1.0282 - val_accuracy: 0.5162\n",
            "Epoch 4/100\n",
            "2588/2588 [==============================] - 39s 15ms/step - loss: 1.0235 - accuracy: 0.5282 - val_loss: 1.0386 - val_accuracy: 0.5162\n",
            "Epoch 5/100\n",
            "2588/2588 [==============================] - 39s 15ms/step - loss: 1.0251 - accuracy: 0.5282 - val_loss: 1.0367 - val_accuracy: 0.5162\n",
            "Epoch 6/100\n",
            "2588/2588 [==============================] - 39s 15ms/step - loss: 1.0228 - accuracy: 0.5282 - val_loss: 1.0287 - val_accuracy: 0.5162\n",
            "Epoch 7/100\n",
            "2588/2588 [==============================] - 39s 15ms/step - loss: 1.0236 - accuracy: 0.5282 - val_loss: 1.0289 - val_accuracy: 0.5162\n",
            "Epoch 8/100\n",
            "2588/2588 [==============================] - 39s 15ms/step - loss: 1.0208 - accuracy: 0.5282 - val_loss: 1.0299 - val_accuracy: 0.5162\n",
            "Epoch 9/100\n",
            "2588/2588 [==============================] - 39s 15ms/step - loss: 1.0226 - accuracy: 0.5282 - val_loss: 1.0320 - val_accuracy: 0.5162\n",
            "Epoch 10/100\n",
            "2588/2588 [==============================] - 39s 15ms/step - loss: 1.0270 - accuracy: 0.5282 - val_loss: 1.0297 - val_accuracy: 0.5162\n",
            "Epoch 11/100\n",
            "2588/2588 [==============================] - 39s 15ms/step - loss: 1.0195 - accuracy: 0.5282 - val_loss: 1.0294 - val_accuracy: 0.5162\n",
            "Epoch 12/100\n",
            "2588/2588 [==============================] - 39s 15ms/step - loss: 1.0213 - accuracy: 0.5282 - val_loss: 1.0323 - val_accuracy: 0.5162\n",
            "Epoch 13/100\n",
            "2588/2588 [==============================] - 39s 15ms/step - loss: 1.0213 - accuracy: 0.5282 - val_loss: 1.0287 - val_accuracy: 0.5162\n",
            "Epoch 14/100\n",
            "2588/2588 [==============================] - 39s 15ms/step - loss: 1.0193 - accuracy: 0.5282 - val_loss: 1.0303 - val_accuracy: 0.5162\n",
            "Epoch 15/100\n",
            "2588/2588 [==============================] - 39s 15ms/step - loss: 1.0238 - accuracy: 0.5282 - val_loss: 1.0611 - val_accuracy: 0.5162\n",
            "Epoch 16/100\n",
            "2588/2588 [==============================] - 39s 15ms/step - loss: 1.0264 - accuracy: 0.5282 - val_loss: 1.0459 - val_accuracy: 0.5162\n",
            "Epoch 17/100\n",
            "2588/2588 [==============================] - 40s 15ms/step - loss: 1.0247 - accuracy: 0.5282 - val_loss: 1.0293 - val_accuracy: 0.5162\n",
            "Epoch 18/100\n",
            "2588/2588 [==============================] - 40s 15ms/step - loss: 1.0221 - accuracy: 0.5282 - val_loss: 1.0341 - val_accuracy: 0.5162\n",
            "Epoch 19/100\n",
            "2588/2588 [==============================] - 40s 15ms/step - loss: 1.0221 - accuracy: 0.5282 - val_loss: 1.0280 - val_accuracy: 0.5162\n",
            "Epoch 20/100\n",
            "2588/2588 [==============================] - 40s 15ms/step - loss: 1.0207 - accuracy: 0.5282 - val_loss: 1.0288 - val_accuracy: 0.5162\n",
            "Epoch 21/100\n",
            "2588/2588 [==============================] - 40s 15ms/step - loss: 1.0201 - accuracy: 0.5282 - val_loss: 1.0289 - val_accuracy: 0.5162\n",
            "Epoch 22/100\n",
            "2588/2588 [==============================] - 39s 15ms/step - loss: 1.0220 - accuracy: 0.5282 - val_loss: 1.0291 - val_accuracy: 0.5162\n",
            "Epoch 23/100\n",
            "2588/2588 [==============================] - 40s 15ms/step - loss: 1.0215 - accuracy: 0.5282 - val_loss: 1.0302 - val_accuracy: 0.5162\n",
            "Epoch 24/100\n",
            "2588/2588 [==============================] - 40s 15ms/step - loss: 1.0198 - accuracy: 0.5282 - val_loss: 1.0324 - val_accuracy: 0.5162\n",
            "Epoch 25/100\n",
            "2588/2588 [==============================] - 40s 15ms/step - loss: 1.0218 - accuracy: 0.5282 - val_loss: 1.0295 - val_accuracy: 0.5162\n",
            "Epoch 26/100\n",
            "2588/2588 [==============================] - 40s 15ms/step - loss: 1.0207 - accuracy: 0.5282 - val_loss: 1.0326 - val_accuracy: 0.5162\n",
            "Epoch 27/100\n",
            "2588/2588 [==============================] - 40s 15ms/step - loss: 1.0204 - accuracy: 0.5282 - val_loss: 1.0294 - val_accuracy: 0.5162\n",
            "Epoch 28/100\n",
            "2588/2588 [==============================] - 40s 16ms/step - loss: 1.0195 - accuracy: 0.5282 - val_loss: 1.0288 - val_accuracy: 0.5162\n",
            "Epoch 29/100\n",
            "2588/2588 [==============================] - 40s 16ms/step - loss: 1.0195 - accuracy: 0.5282 - val_loss: 1.0289 - val_accuracy: 0.5162\n",
            "Epoch 30/100\n",
            "2588/2588 [==============================] - 40s 16ms/step - loss: 1.0197 - accuracy: 0.5282 - val_loss: 1.0282 - val_accuracy: 0.5162\n",
            "Epoch 31/100\n",
            "2588/2588 [==============================] - 40s 15ms/step - loss: 1.0196 - accuracy: 0.5282 - val_loss: 1.0279 - val_accuracy: 0.5162\n",
            "Epoch 32/100\n",
            "2588/2588 [==============================] - 40s 15ms/step - loss: 1.0202 - accuracy: 0.5282 - val_loss: 1.0280 - val_accuracy: 0.5162\n",
            "Epoch 33/100\n",
            "2588/2588 [==============================] - 40s 16ms/step - loss: 1.0203 - accuracy: 0.5282 - val_loss: 1.0283 - val_accuracy: 0.5162\n",
            "Epoch 34/100\n",
            "2588/2588 [==============================] - 40s 16ms/step - loss: 1.0196 - accuracy: 0.5282 - val_loss: 1.0290 - val_accuracy: 0.5162\n",
            "Epoch 35/100\n",
            "2588/2588 [==============================] - 40s 16ms/step - loss: 1.0214 - accuracy: 0.5282 - val_loss: 1.0287 - val_accuracy: 0.5162\n",
            "Epoch 36/100\n",
            "2588/2588 [==============================] - 40s 16ms/step - loss: 1.0197 - accuracy: 0.5282 - val_loss: 1.0284 - val_accuracy: 0.5162\n",
            "Epoch 37/100\n",
            "2588/2588 [==============================] - 40s 16ms/step - loss: 1.0193 - accuracy: 0.5282 - val_loss: 1.0300 - val_accuracy: 0.5162\n",
            "Epoch 38/100\n",
            "2588/2588 [==============================] - 40s 16ms/step - loss: 1.0200 - accuracy: 0.5282 - val_loss: 1.0297 - val_accuracy: 0.5162\n",
            "Epoch 39/100\n",
            "2588/2588 [==============================] - 40s 16ms/step - loss: 1.0207 - accuracy: 0.5282 - val_loss: 1.0285 - val_accuracy: 0.5162\n",
            "Epoch 40/100\n",
            "2588/2588 [==============================] - 40s 15ms/step - loss: 1.0192 - accuracy: 0.5282 - val_loss: 1.0284 - val_accuracy: 0.5162\n",
            "Epoch 41/100\n",
            "2588/2588 [==============================] - 40s 15ms/step - loss: 1.0195 - accuracy: 0.5282 - val_loss: 1.0299 - val_accuracy: 0.5162\n",
            "Epoch 42/100\n",
            "2588/2588 [==============================] - 40s 15ms/step - loss: 1.0200 - accuracy: 0.5282 - val_loss: 1.0282 - val_accuracy: 0.5162\n",
            "Epoch 43/100\n",
            "2588/2588 [==============================] - 40s 15ms/step - loss: 1.0199 - accuracy: 0.5282 - val_loss: 1.0290 - val_accuracy: 0.5162\n",
            "Epoch 44/100\n",
            "2588/2588 [==============================] - 40s 15ms/step - loss: 1.0197 - accuracy: 0.5282 - val_loss: 1.0286 - val_accuracy: 0.5162\n",
            "Epoch 45/100\n",
            "2588/2588 [==============================] - 40s 16ms/step - loss: 1.0202 - accuracy: 0.5282 - val_loss: 1.0282 - val_accuracy: 0.5162\n",
            "Epoch 46/100\n",
            "2588/2588 [==============================] - 40s 16ms/step - loss: 1.0203 - accuracy: 0.5282 - val_loss: 1.0325 - val_accuracy: 0.5162\n",
            "Epoch 47/100\n",
            "2588/2588 [==============================] - 40s 16ms/step - loss: 1.0200 - accuracy: 0.5282 - val_loss: 1.0281 - val_accuracy: 0.5162\n",
            "Epoch 48/100\n",
            "2588/2588 [==============================] - 40s 15ms/step - loss: 1.0201 - accuracy: 0.5282 - val_loss: 1.0292 - val_accuracy: 0.5162\n",
            "Epoch 49/100\n",
            "2588/2588 [==============================] - 40s 15ms/step - loss: 1.0203 - accuracy: 0.5282 - val_loss: 1.0301 - val_accuracy: 0.5162\n",
            "Epoch 50/100\n",
            "2588/2588 [==============================] - 40s 15ms/step - loss: 1.0191 - accuracy: 0.5282 - val_loss: 1.0284 - val_accuracy: 0.5162\n",
            "Epoch 51/100\n",
            "2588/2588 [==============================] - 40s 16ms/step - loss: 1.0198 - accuracy: 0.5282 - val_loss: 1.0287 - val_accuracy: 0.5162\n",
            "Epoch 52/100\n",
            "2588/2588 [==============================] - 40s 16ms/step - loss: 1.0187 - accuracy: 0.5282 - val_loss: 1.0291 - val_accuracy: 0.5162\n",
            "Epoch 53/100\n",
            "2588/2588 [==============================] - 40s 15ms/step - loss: 1.0198 - accuracy: 0.5282 - val_loss: 1.0283 - val_accuracy: 0.5162\n",
            "Epoch 54/100\n",
            "2588/2588 [==============================] - 40s 15ms/step - loss: 1.0197 - accuracy: 0.5282 - val_loss: 1.0280 - val_accuracy: 0.5162\n",
            "Epoch 55/100\n",
            "2588/2588 [==============================] - 40s 15ms/step - loss: 1.0206 - accuracy: 0.5282 - val_loss: 1.0280 - val_accuracy: 0.5162\n",
            "Epoch 56/100\n",
            "2588/2588 [==============================] - 40s 15ms/step - loss: 1.0194 - accuracy: 0.5282 - val_loss: 1.0291 - val_accuracy: 0.5162\n",
            "Epoch 57/100\n",
            "2588/2588 [==============================] - 40s 16ms/step - loss: 1.0197 - accuracy: 0.5282 - val_loss: 1.0287 - val_accuracy: 0.5162\n",
            "Epoch 58/100\n",
            "2588/2588 [==============================] - 40s 15ms/step - loss: 1.0189 - accuracy: 0.5282 - val_loss: 1.0289 - val_accuracy: 0.5162\n",
            "Epoch 59/100\n",
            "2588/2588 [==============================] - 40s 15ms/step - loss: 1.0190 - accuracy: 0.5282 - val_loss: 1.0282 - val_accuracy: 0.5162\n",
            "Epoch 60/100\n",
            "2588/2588 [==============================] - 40s 15ms/step - loss: 1.0202 - accuracy: 0.5282 - val_loss: 1.0278 - val_accuracy: 0.5162\n",
            "Epoch 61/100\n",
            "2588/2588 [==============================] - 40s 15ms/step - loss: 1.0197 - accuracy: 0.5282 - val_loss: 1.0283 - val_accuracy: 0.5162\n",
            "Epoch 62/100\n",
            "2588/2588 [==============================] - 40s 15ms/step - loss: 1.0189 - accuracy: 0.5282 - val_loss: 1.0281 - val_accuracy: 0.5162\n",
            "Epoch 63/100\n",
            "2588/2588 [==============================] - 40s 15ms/step - loss: 1.0192 - accuracy: 0.5282 - val_loss: 1.0296 - val_accuracy: 0.5162\n",
            "Epoch 64/100\n",
            "2588/2588 [==============================] - 40s 16ms/step - loss: 1.0197 - accuracy: 0.5282 - val_loss: 1.0300 - val_accuracy: 0.5162\n",
            "Epoch 65/100\n",
            "2588/2588 [==============================] - 40s 16ms/step - loss: 1.0193 - accuracy: 0.5282 - val_loss: 1.0283 - val_accuracy: 0.5162\n",
            "Epoch 66/100\n",
            "2588/2588 [==============================] - 40s 15ms/step - loss: 1.0195 - accuracy: 0.5282 - val_loss: 1.0284 - val_accuracy: 0.5162\n",
            "Epoch 67/100\n",
            "2588/2588 [==============================] - 40s 15ms/step - loss: 1.0198 - accuracy: 0.5282 - val_loss: 1.0300 - val_accuracy: 0.5162\n",
            "Epoch 68/100\n",
            "2588/2588 [==============================] - 40s 16ms/step - loss: 1.0190 - accuracy: 0.5282 - val_loss: 1.0283 - val_accuracy: 0.5162\n",
            "Epoch 69/100\n",
            "2588/2588 [==============================] - 40s 15ms/step - loss: 1.0191 - accuracy: 0.5282 - val_loss: 1.0294 - val_accuracy: 0.5162\n",
            "Epoch 70/100\n",
            "2588/2588 [==============================] - 40s 16ms/step - loss: 1.0199 - accuracy: 0.5282 - val_loss: 1.0286 - val_accuracy: 0.5162\n",
            "Epoch 71/100\n",
            "2588/2588 [==============================] - 40s 16ms/step - loss: 1.0196 - accuracy: 0.5282 - val_loss: 1.0280 - val_accuracy: 0.5162\n",
            "Epoch 72/100\n",
            "2588/2588 [==============================] - 40s 15ms/step - loss: 1.0186 - accuracy: 0.5282 - val_loss: 1.0305 - val_accuracy: 0.5162\n",
            "Epoch 73/100\n",
            "2588/2588 [==============================] - 40s 15ms/step - loss: 1.0196 - accuracy: 0.5282 - val_loss: 1.0285 - val_accuracy: 0.5162\n",
            "Epoch 74/100\n",
            "2588/2588 [==============================] - 40s 16ms/step - loss: 1.0192 - accuracy: 0.5282 - val_loss: 1.0280 - val_accuracy: 0.5162\n",
            "Epoch 75/100\n",
            "2588/2588 [==============================] - 40s 15ms/step - loss: 1.0214 - accuracy: 0.5282 - val_loss: 1.0282 - val_accuracy: 0.5162\n",
            "Epoch 76/100\n",
            "2588/2588 [==============================] - 40s 16ms/step - loss: 1.0186 - accuracy: 0.5282 - val_loss: 1.0291 - val_accuracy: 0.5162\n",
            "Epoch 77/100\n",
            "2588/2588 [==============================] - 40s 16ms/step - loss: 1.0201 - accuracy: 0.5282 - val_loss: 1.0288 - val_accuracy: 0.5162\n",
            "Epoch 78/100\n",
            "2588/2588 [==============================] - 40s 15ms/step - loss: 1.0190 - accuracy: 0.5282 - val_loss: 1.0282 - val_accuracy: 0.5162\n",
            "Epoch 79/100\n",
            "2588/2588 [==============================] - 40s 15ms/step - loss: 1.0198 - accuracy: 0.5282 - val_loss: 1.0282 - val_accuracy: 0.5162\n",
            "Epoch 80/100\n",
            "2588/2588 [==============================] - 40s 16ms/step - loss: 1.0194 - accuracy: 0.5282 - val_loss: 1.0284 - val_accuracy: 0.5162\n",
            "Epoch 81/100\n",
            "2588/2588 [==============================] - 40s 15ms/step - loss: 1.0195 - accuracy: 0.5282 - val_loss: 1.0299 - val_accuracy: 0.5162\n",
            "Epoch 82/100\n",
            "2588/2588 [==============================] - 40s 16ms/step - loss: 1.0212 - accuracy: 0.5282 - val_loss: 1.0289 - val_accuracy: 0.5162\n",
            "Epoch 83/100\n",
            "2588/2588 [==============================] - 40s 16ms/step - loss: 1.0198 - accuracy: 0.5282 - val_loss: 1.0282 - val_accuracy: 0.5162\n",
            "Epoch 84/100\n",
            "2588/2588 [==============================] - 40s 16ms/step - loss: 1.0195 - accuracy: 0.5282 - val_loss: 1.0291 - val_accuracy: 0.5162\n",
            "Epoch 85/100\n",
            "2588/2588 [==============================] - 40s 15ms/step - loss: 1.0192 - accuracy: 0.5282 - val_loss: 1.0280 - val_accuracy: 0.5162\n",
            "Epoch 86/100\n",
            "2588/2588 [==============================] - 40s 15ms/step - loss: 1.0196 - accuracy: 0.5282 - val_loss: 1.0283 - val_accuracy: 0.5162\n",
            "Epoch 87/100\n",
            "2588/2588 [==============================] - 40s 15ms/step - loss: 1.0190 - accuracy: 0.5282 - val_loss: 1.0281 - val_accuracy: 0.5162\n",
            "Epoch 88/100\n",
            "2588/2588 [==============================] - 40s 16ms/step - loss: 1.0193 - accuracy: 0.5282 - val_loss: 1.0279 - val_accuracy: 0.5162\n",
            "Epoch 89/100\n",
            "2588/2588 [==============================] - 40s 15ms/step - loss: 1.0200 - accuracy: 0.5282 - val_loss: 1.0288 - val_accuracy: 0.5162\n",
            "Epoch 90/100\n",
            "2588/2588 [==============================] - 40s 16ms/step - loss: 1.0188 - accuracy: 0.5282 - val_loss: 1.0281 - val_accuracy: 0.5162\n",
            "Epoch 91/100\n",
            "2588/2588 [==============================] - 40s 16ms/step - loss: 1.0192 - accuracy: 0.5282 - val_loss: 1.0281 - val_accuracy: 0.5162\n",
            "Epoch 92/100\n",
            "2588/2588 [==============================] - 40s 16ms/step - loss: 1.0197 - accuracy: 0.5282 - val_loss: 1.0288 - val_accuracy: 0.5162\n",
            "Epoch 93/100\n",
            "2588/2588 [==============================] - 40s 15ms/step - loss: 1.0192 - accuracy: 0.5282 - val_loss: 1.0283 - val_accuracy: 0.5162\n",
            "Epoch 94/100\n",
            "2588/2588 [==============================] - 40s 15ms/step - loss: 1.0199 - accuracy: 0.5282 - val_loss: 1.0290 - val_accuracy: 0.5162\n",
            "Epoch 95/100\n",
            "2588/2588 [==============================] - 40s 16ms/step - loss: 1.0190 - accuracy: 0.5282 - val_loss: 1.0284 - val_accuracy: 0.5162\n",
            "Epoch 96/100\n",
            "2588/2588 [==============================] - 40s 16ms/step - loss: 1.0188 - accuracy: 0.5282 - val_loss: 1.0282 - val_accuracy: 0.5162\n",
            "Epoch 97/100\n",
            "2588/2588 [==============================] - 40s 16ms/step - loss: 1.0196 - accuracy: 0.5282 - val_loss: 1.0281 - val_accuracy: 0.5162\n",
            "Epoch 98/100\n",
            "2588/2588 [==============================] - 40s 16ms/step - loss: 1.0202 - accuracy: 0.5282 - val_loss: 1.0281 - val_accuracy: 0.5162\n",
            "Epoch 99/100\n",
            "2588/2588 [==============================] - 40s 16ms/step - loss: 1.0199 - accuracy: 0.5282 - val_loss: 1.0283 - val_accuracy: 0.5162\n",
            "Epoch 100/100\n",
            "2588/2588 [==============================] - 40s 16ms/step - loss: 1.0191 - accuracy: 0.5282 - val_loss: 1.0284 - val_accuracy: 0.5162\n"
          ],
          "name": "stdout"
        },
        {
          "output_type": "execute_result",
          "data": {
            "text/plain": [
              "<keras.callbacks.callbacks.History at 0x7f41f0dd5dd8>"
            ]
          },
          "metadata": {
            "tags": []
          },
          "execution_count": 473
        }
      ]
    },
    {
      "cell_type": "code",
      "metadata": {
        "id": "Nyz03zjXYxlI",
        "colab_type": "code",
        "colab": {}
      },
      "source": [
        "pred_prob = model.predict(X_test)"
      ],
      "execution_count": 0,
      "outputs": []
    },
    {
      "cell_type": "code",
      "metadata": {
        "id": "trkosrssY0nd",
        "colab_type": "code",
        "colab": {
          "base_uri": "https://localhost:8080/",
          "height": 136
        },
        "outputId": "c1c5696c-6352-4a47-8ffb-4e5c7c6a2828"
      },
      "source": [
        "pred_prob"
      ],
      "execution_count": 327,
      "outputs": [
        {
          "output_type": "execute_result",
          "data": {
            "text/plain": [
              "array([[0.27512178, 0.5285684 , 0.1963098 ],\n",
              "       [0.27512178, 0.5285684 , 0.19630979],\n",
              "       [0.27512178, 0.5285684 , 0.19630979],\n",
              "       ...,\n",
              "       [0.27512178, 0.5285684 , 0.19630979],\n",
              "       [0.27512178, 0.5285684 , 0.1963098 ],\n",
              "       [0.27512178, 0.5285684 , 0.19630979]], dtype=float32)"
            ]
          },
          "metadata": {
            "tags": []
          },
          "execution_count": 327
        }
      ]
    },
    {
      "cell_type": "code",
      "metadata": {
        "id": "_Zwl9IXuY1js",
        "colab_type": "code",
        "colab": {
          "base_uri": "https://localhost:8080/",
          "height": 34
        },
        "outputId": "d264f442-3840-486b-a68e-21a8da785498"
      },
      "source": [
        "Class_names=[-1,0,1]\n",
        "Class_names[np.argmax(pred_prob[0])]"
      ],
      "execution_count": 328,
      "outputs": [
        {
          "output_type": "execute_result",
          "data": {
            "text/plain": [
              "0"
            ]
          },
          "metadata": {
            "tags": []
          },
          "execution_count": 328
        }
      ]
    },
    {
      "cell_type": "code",
      "metadata": {
        "id": "ZbZkufm9Y5L4",
        "colab_type": "code",
        "colab": {}
      },
      "source": [
        "Class_names=[-1,0,1]\n",
        "pred =[]\n",
        "for lis in pred_prob:\n",
        "    clas = Class_names[np.argmax(lis)]\n",
        "    pred.append(clas)"
      ],
      "execution_count": 0,
      "outputs": []
    },
    {
      "cell_type": "code",
      "metadata": {
        "id": "RDB_a2o0ZBY-",
        "colab_type": "code",
        "colab": {
          "base_uri": "https://localhost:8080/",
          "height": 34
        },
        "outputId": "98bc58b3-de2b-4396-8227-5a3a6bc7c68c"
      },
      "source": [
        "pred[1:20]"
      ],
      "execution_count": 330,
      "outputs": [
        {
          "output_type": "execute_result",
          "data": {
            "text/plain": [
              "[0, 0, 0, 0, 0, 0, 0, 0, 0, 0, 0, 0, 0, 0, 0, 0, 0, 0, 0]"
            ]
          },
          "metadata": {
            "tags": []
          },
          "execution_count": 330
        }
      ]
    },
    {
      "cell_type": "code",
      "metadata": {
        "id": "NHDIUC9CZDbc",
        "colab_type": "code",
        "colab": {
          "base_uri": "https://localhost:8080/",
          "height": 282
        },
        "outputId": "0ac73a2a-5f23-49bf-81c4-3b6a26d3af70"
      },
      "source": [
        "sns.countplot(pred)"
      ],
      "execution_count": 331,
      "outputs": [
        {
          "output_type": "execute_result",
          "data": {
            "text/plain": [
              "<matplotlib.axes._subplots.AxesSubplot at 0x7f41f26fcf98>"
            ]
          },
          "metadata": {
            "tags": []
          },
          "execution_count": 331
        },
        {
          "output_type": "display_data",
          "data": {
            "image/png": "[encoded data removed]",
            "text/plain": [
              "<Figure size 432x288 with 1 Axes>"
            ]
          },
          "metadata": {
            "tags": [],
            "needs_background": "light"
          }
        }
      ]
    },
    {
      "cell_type": "code",
      "metadata": {
        "id": "ZH6bwmqlZFwU",
        "colab_type": "code",
        "colab": {
          "base_uri": "https://localhost:8080/",
          "height": 282
        },
        "outputId": "3b89a41d-7ce1-4236-ff9a-fab9fa1f6641"
      },
      "source": [
        "sns.countplot(model.predict_classes(X_test))"
      ],
      "execution_count": 332,
      "outputs": [
        {
          "output_type": "execute_result",
          "data": {
            "text/plain": [
              "<matplotlib.axes._subplots.AxesSubplot at 0x7f41f26aa198>"
            ]
          },
          "metadata": {
            "tags": []
          },
          "execution_count": 332
        },
        {
          "output_type": "display_data",
          "data": {
            "image/png": "[encoded data removed]",
            "text/plain": [
              "<Figure size 432x288 with 1 Axes>"
            ]
          },
          "metadata": {
            "tags": [],
            "needs_background": "light"
          }
        }
      ]
    },
    {
      "cell_type": "code",
      "metadata": {
        "id": "qw6X7pnfZIHn",
        "colab_type": "code",
        "colab": {}
      },
      "source": [
        "Submission1 = pd.DataFrame(data_test['id'])\n",
        "Submission1[\"sentiment_class\"] = pred\n",
        "Submission1.to_csv(\"Mothersday_Submission_RNN2.csv\", index = False)"
      ],
      "execution_count": 0,
      "outputs": []
    },
    {
      "cell_type": "code",
      "metadata": {
        "id": "kMlP_HxnbE5O",
        "colab_type": "code",
        "colab": {}
      },
      "source": [
        ""
      ],
      "execution_count": 0,
      "outputs": []
    }
  ]
}